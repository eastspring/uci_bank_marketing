{
 "cells": [
  {
   "cell_type": "code",
   "execution_count": 3,
   "metadata": {},
   "outputs": [
    {
     "data": {
      "text/html": [
       "<script type=\"text/javascript\">window.PlotlyConfig = {MathJaxConfig: 'local'};</script><script type=\"text/javascript\">if (window.MathJax) {MathJax.Hub.Config({SVG: {font: \"STIX-Web\"}});}</script><script>requirejs.config({paths: { 'plotly': ['https://cdn.plot.ly/plotly-latest.min']},});if(!window._Plotly) {require(['plotly'],function(plotly) {window._Plotly=plotly;});}</script>"
      ],
      "text/vnd.plotly.v1+html": [
       "<script type=\"text/javascript\">window.PlotlyConfig = {MathJaxConfig: 'local'};</script><script type=\"text/javascript\">if (window.MathJax) {MathJax.Hub.Config({SVG: {font: \"STIX-Web\"}});}</script><script>requirejs.config({paths: { 'plotly': ['https://cdn.plot.ly/plotly-latest.min']},});if(!window._Plotly) {require(['plotly'],function(plotly) {window._Plotly=plotly;});}</script>"
      ]
     },
     "metadata": {},
     "output_type": "display_data"
    },
    {
     "data": {
      "text/html": [
       "<div>\n",
       "<style scoped>\n",
       "    .dataframe tbody tr th:only-of-type {\n",
       "        vertical-align: middle;\n",
       "    }\n",
       "\n",
       "    .dataframe tbody tr th {\n",
       "        vertical-align: top;\n",
       "    }\n",
       "\n",
       "    .dataframe thead th {\n",
       "        text-align: right;\n",
       "    }\n",
       "</style>\n",
       "<table border=\"1\" class=\"dataframe\">\n",
       "  <thead>\n",
       "    <tr style=\"text-align: right;\">\n",
       "      <th></th>\n",
       "      <th>age</th>\n",
       "      <th>job</th>\n",
       "      <th>marital</th>\n",
       "      <th>education</th>\n",
       "      <th>default</th>\n",
       "      <th>balance</th>\n",
       "      <th>housing</th>\n",
       "      <th>loan</th>\n",
       "      <th>contact</th>\n",
       "      <th>day</th>\n",
       "      <th>month</th>\n",
       "      <th>duration</th>\n",
       "      <th>campaign</th>\n",
       "      <th>pdays</th>\n",
       "      <th>previous</th>\n",
       "      <th>poutcome</th>\n",
       "      <th>deposit</th>\n",
       "    </tr>\n",
       "  </thead>\n",
       "  <tbody>\n",
       "    <tr>\n",
       "      <th>0</th>\n",
       "      <td>58</td>\n",
       "      <td>management</td>\n",
       "      <td>married</td>\n",
       "      <td>tertiary</td>\n",
       "      <td>no</td>\n",
       "      <td>2143</td>\n",
       "      <td>yes</td>\n",
       "      <td>no</td>\n",
       "      <td>unknown</td>\n",
       "      <td>5</td>\n",
       "      <td>may</td>\n",
       "      <td>261</td>\n",
       "      <td>1</td>\n",
       "      <td>-1</td>\n",
       "      <td>0</td>\n",
       "      <td>unknown</td>\n",
       "      <td>no</td>\n",
       "    </tr>\n",
       "    <tr>\n",
       "      <th>1</th>\n",
       "      <td>44</td>\n",
       "      <td>technician</td>\n",
       "      <td>single</td>\n",
       "      <td>secondary</td>\n",
       "      <td>no</td>\n",
       "      <td>29</td>\n",
       "      <td>yes</td>\n",
       "      <td>no</td>\n",
       "      <td>unknown</td>\n",
       "      <td>5</td>\n",
       "      <td>may</td>\n",
       "      <td>151</td>\n",
       "      <td>1</td>\n",
       "      <td>-1</td>\n",
       "      <td>0</td>\n",
       "      <td>unknown</td>\n",
       "      <td>no</td>\n",
       "    </tr>\n",
       "    <tr>\n",
       "      <th>2</th>\n",
       "      <td>33</td>\n",
       "      <td>entrepreneur</td>\n",
       "      <td>married</td>\n",
       "      <td>secondary</td>\n",
       "      <td>no</td>\n",
       "      <td>2</td>\n",
       "      <td>yes</td>\n",
       "      <td>yes</td>\n",
       "      <td>unknown</td>\n",
       "      <td>5</td>\n",
       "      <td>may</td>\n",
       "      <td>76</td>\n",
       "      <td>1</td>\n",
       "      <td>-1</td>\n",
       "      <td>0</td>\n",
       "      <td>unknown</td>\n",
       "      <td>no</td>\n",
       "    </tr>\n",
       "    <tr>\n",
       "      <th>3</th>\n",
       "      <td>47</td>\n",
       "      <td>blue-collar</td>\n",
       "      <td>married</td>\n",
       "      <td>unknown</td>\n",
       "      <td>no</td>\n",
       "      <td>1506</td>\n",
       "      <td>yes</td>\n",
       "      <td>no</td>\n",
       "      <td>unknown</td>\n",
       "      <td>5</td>\n",
       "      <td>may</td>\n",
       "      <td>92</td>\n",
       "      <td>1</td>\n",
       "      <td>-1</td>\n",
       "      <td>0</td>\n",
       "      <td>unknown</td>\n",
       "      <td>no</td>\n",
       "    </tr>\n",
       "    <tr>\n",
       "      <th>4</th>\n",
       "      <td>33</td>\n",
       "      <td>unknown</td>\n",
       "      <td>single</td>\n",
       "      <td>unknown</td>\n",
       "      <td>no</td>\n",
       "      <td>1</td>\n",
       "      <td>no</td>\n",
       "      <td>no</td>\n",
       "      <td>unknown</td>\n",
       "      <td>5</td>\n",
       "      <td>may</td>\n",
       "      <td>198</td>\n",
       "      <td>1</td>\n",
       "      <td>-1</td>\n",
       "      <td>0</td>\n",
       "      <td>unknown</td>\n",
       "      <td>no</td>\n",
       "    </tr>\n",
       "  </tbody>\n",
       "</table>\n",
       "</div>"
      ],
      "text/plain": [
       "   age           job  marital  education default  balance housing loan  \\\n",
       "0   58    management  married   tertiary      no     2143     yes   no   \n",
       "1   44    technician   single  secondary      no       29     yes   no   \n",
       "2   33  entrepreneur  married  secondary      no        2     yes  yes   \n",
       "3   47   blue-collar  married    unknown      no     1506     yes   no   \n",
       "4   33       unknown   single    unknown      no        1      no   no   \n",
       "\n",
       "   contact  day month  duration  campaign  pdays  previous poutcome deposit  \n",
       "0  unknown    5   may       261         1     -1         0  unknown      no  \n",
       "1  unknown    5   may       151         1     -1         0  unknown      no  \n",
       "2  unknown    5   may        76         1     -1         0  unknown      no  \n",
       "3  unknown    5   may        92         1     -1         0  unknown      no  \n",
       "4  unknown    5   may       198         1     -1         0  unknown      no  "
      ]
     },
     "execution_count": 3,
     "metadata": {},
     "output_type": "execute_result"
    }
   ],
   "source": [
    "import numpy as np\n",
    "import pandas as pd\n",
    "import matplotlib.pyplot as plt\n",
    "import seaborn as sns\n",
    "\n",
    "from plotly import tools\n",
    "import plotly.plotly as py\n",
    "import plotly.figure_factory as ff\n",
    "import plotly.graph_objs as go\n",
    "from plotly.offline import download_plotlyjs, init_notebook_mode, plot, iplot\n",
    "init_notebook_mode(connected=True)\n",
    "\n",
    "MAIN_PATH = '/Users/a80099708/Downloads/'\n",
    "df = pd.read_csv(MAIN_PATH +'uci-bank-full-1.csv')\n",
    "original_df = df.copy()\n",
    "term_deposits = df.copy()\n",
    "# Have a grasp of how our data looks.\n",
    "df.head()"
   ]
  },
  {
   "cell_type": "code",
   "execution_count": 4,
   "metadata": {},
   "outputs": [
    {
     "data": {
      "text/html": [
       "<div>\n",
       "<style scoped>\n",
       "    .dataframe tbody tr th:only-of-type {\n",
       "        vertical-align: middle;\n",
       "    }\n",
       "\n",
       "    .dataframe tbody tr th {\n",
       "        vertical-align: top;\n",
       "    }\n",
       "\n",
       "    .dataframe thead th {\n",
       "        text-align: right;\n",
       "    }\n",
       "</style>\n",
       "<table border=\"1\" class=\"dataframe\">\n",
       "  <thead>\n",
       "    <tr style=\"text-align: right;\">\n",
       "      <th></th>\n",
       "      <th>age</th>\n",
       "      <th>balance</th>\n",
       "      <th>day</th>\n",
       "      <th>duration</th>\n",
       "      <th>campaign</th>\n",
       "      <th>pdays</th>\n",
       "      <th>previous</th>\n",
       "    </tr>\n",
       "  </thead>\n",
       "  <tbody>\n",
       "    <tr>\n",
       "      <th>count</th>\n",
       "      <td>45211.000000</td>\n",
       "      <td>45211.000000</td>\n",
       "      <td>45211.000000</td>\n",
       "      <td>45211.000000</td>\n",
       "      <td>45211.000000</td>\n",
       "      <td>45211.000000</td>\n",
       "      <td>45211.000000</td>\n",
       "    </tr>\n",
       "    <tr>\n",
       "      <th>mean</th>\n",
       "      <td>40.936210</td>\n",
       "      <td>1362.272058</td>\n",
       "      <td>15.806419</td>\n",
       "      <td>258.163080</td>\n",
       "      <td>2.763841</td>\n",
       "      <td>40.197828</td>\n",
       "      <td>0.580323</td>\n",
       "    </tr>\n",
       "    <tr>\n",
       "      <th>std</th>\n",
       "      <td>10.618762</td>\n",
       "      <td>3044.765829</td>\n",
       "      <td>8.322476</td>\n",
       "      <td>257.527812</td>\n",
       "      <td>3.098021</td>\n",
       "      <td>100.128746</td>\n",
       "      <td>2.303441</td>\n",
       "    </tr>\n",
       "    <tr>\n",
       "      <th>min</th>\n",
       "      <td>18.000000</td>\n",
       "      <td>-8019.000000</td>\n",
       "      <td>1.000000</td>\n",
       "      <td>0.000000</td>\n",
       "      <td>1.000000</td>\n",
       "      <td>-1.000000</td>\n",
       "      <td>0.000000</td>\n",
       "    </tr>\n",
       "    <tr>\n",
       "      <th>25%</th>\n",
       "      <td>33.000000</td>\n",
       "      <td>72.000000</td>\n",
       "      <td>8.000000</td>\n",
       "      <td>103.000000</td>\n",
       "      <td>1.000000</td>\n",
       "      <td>-1.000000</td>\n",
       "      <td>0.000000</td>\n",
       "    </tr>\n",
       "    <tr>\n",
       "      <th>50%</th>\n",
       "      <td>39.000000</td>\n",
       "      <td>448.000000</td>\n",
       "      <td>16.000000</td>\n",
       "      <td>180.000000</td>\n",
       "      <td>2.000000</td>\n",
       "      <td>-1.000000</td>\n",
       "      <td>0.000000</td>\n",
       "    </tr>\n",
       "    <tr>\n",
       "      <th>75%</th>\n",
       "      <td>48.000000</td>\n",
       "      <td>1428.000000</td>\n",
       "      <td>21.000000</td>\n",
       "      <td>319.000000</td>\n",
       "      <td>3.000000</td>\n",
       "      <td>-1.000000</td>\n",
       "      <td>0.000000</td>\n",
       "    </tr>\n",
       "    <tr>\n",
       "      <th>max</th>\n",
       "      <td>95.000000</td>\n",
       "      <td>102127.000000</td>\n",
       "      <td>31.000000</td>\n",
       "      <td>4918.000000</td>\n",
       "      <td>63.000000</td>\n",
       "      <td>871.000000</td>\n",
       "      <td>275.000000</td>\n",
       "    </tr>\n",
       "  </tbody>\n",
       "</table>\n",
       "</div>"
      ],
      "text/plain": [
       "                age        balance           day      duration      campaign  \\\n",
       "count  45211.000000   45211.000000  45211.000000  45211.000000  45211.000000   \n",
       "mean      40.936210    1362.272058     15.806419    258.163080      2.763841   \n",
       "std       10.618762    3044.765829      8.322476    257.527812      3.098021   \n",
       "min       18.000000   -8019.000000      1.000000      0.000000      1.000000   \n",
       "25%       33.000000      72.000000      8.000000    103.000000      1.000000   \n",
       "50%       39.000000     448.000000     16.000000    180.000000      2.000000   \n",
       "75%       48.000000    1428.000000     21.000000    319.000000      3.000000   \n",
       "max       95.000000  102127.000000     31.000000   4918.000000     63.000000   \n",
       "\n",
       "              pdays      previous  \n",
       "count  45211.000000  45211.000000  \n",
       "mean      40.197828      0.580323  \n",
       "std      100.128746      2.303441  \n",
       "min       -1.000000      0.000000  \n",
       "25%       -1.000000      0.000000  \n",
       "50%       -1.000000      0.000000  \n",
       "75%       -1.000000      0.000000  \n",
       "max      871.000000    275.000000  "
      ]
     },
     "execution_count": 4,
     "metadata": {},
     "output_type": "execute_result"
    }
   ],
   "source": [
    "df.describe()"
   ]
  },
  {
   "cell_type": "code",
   "execution_count": 5,
   "metadata": {},
   "outputs": [
    {
     "name": "stdout",
     "output_type": "stream",
     "text": [
      "<class 'pandas.core.frame.DataFrame'>\n",
      "RangeIndex: 45211 entries, 0 to 45210\n",
      "Data columns (total 17 columns):\n",
      "age          45211 non-null int64\n",
      "job          45211 non-null object\n",
      "marital      45211 non-null object\n",
      "education    45211 non-null object\n",
      "default      45211 non-null object\n",
      "balance      45211 non-null int64\n",
      "housing      45211 non-null object\n",
      "loan         45211 non-null object\n",
      "contact      45211 non-null object\n",
      "day          45211 non-null int64\n",
      "month        45211 non-null object\n",
      "duration     45211 non-null int64\n",
      "campaign     45211 non-null int64\n",
      "pdays        45211 non-null int64\n",
      "previous     45211 non-null int64\n",
      "poutcome     45211 non-null object\n",
      "deposit      45211 non-null object\n",
      "dtypes: int64(7), object(10)\n",
      "memory usage: 5.9+ MB\n"
     ]
    }
   ],
   "source": [
    "df.info()"
   ]
  },
  {
   "cell_type": "code",
   "execution_count": 6,
   "metadata": {},
   "outputs": [
    {
     "name": "stderr",
     "output_type": "stream",
     "text": [
      "/Users/a80099708/anaconda3/lib/python3.6/site-packages/scipy/stats/stats.py:1713: FutureWarning:\n",
      "\n",
      "Using a non-tuple sequence for multidimensional indexing is deprecated; use `arr[tuple(seq)]` instead of `arr[seq]`. In the future this will be interpreted as an array index, `arr[np.array(seq)]`, which will result either in an error or a different result.\n",
      "\n"
     ]
    },
    {
     "data": {
      "image/png": "[encoded data removed]",
      "text/plain": [
       "<Figure size 1152x576 with 2 Axes>"
      ]
     },
     "metadata": {
      "needs_background": "light"
     },
     "output_type": "display_data"
    }
   ],
   "source": [
    "f, ax = plt.subplots(1,2, figsize=(16,8))\n",
    "\n",
    "colors = [\"#FA5858\", \"#64FE2E\"]\n",
    "labels =\"Did not Open Term Suscriptions\", \"Opened Term Suscriptions\"\n",
    "\n",
    "plt.suptitle('Information on Term Suscriptions', fontsize=20)\n",
    "\n",
    "df[\"deposit\"].value_counts().plot.pie(explode=[0,0.25], autopct='%1.2f%%', ax=ax[0], shadow=True, colors=colors, \n",
    "                                             labels=labels, fontsize=12, startangle=25)\n",
    "\n",
    "\n",
    "# ax[0].set_title('State of Loan', fontsize=16)\n",
    "ax[0].set_ylabel('% of Condition of Loans', fontsize=14)\n",
    "\n",
    "# sns.countplot('loan_condition', data=df, ax=ax[1], palette=colors)\n",
    "# ax[1].set_title('Condition of Loans', fontsize=20)\n",
    "# ax[1].set_xticklabels(['Good', 'Bad'], rotation='horizontal')\n",
    "palette = [\"#64FE2E\", \"#FA5858\"]\n",
    "\n",
    "sns.barplot(x=\"education\", y=\"balance\", hue=\"deposit\", data=df, palette=palette, estimator=lambda x: len(x) / len(df) * 100)\n",
    "ax[1].set(ylabel=\"(%)\")\n",
    "ax[1].set_xticklabels(df[\"education\"].unique(), rotation=0, rotation_mode=\"anchor\")\n",
    "plt.show()"
   ]
  },
  {
   "cell_type": "code",
   "execution_count": 7,
   "metadata": {
    "scrolled": false
   },
   "outputs": [
    {
     "data": {
      "image/png": "[encoded data removed]",
      "text/plain": [
       "<Figure size 1008x720 with 9 Axes>"
      ]
     },
     "metadata": {},
     "output_type": "display_data"
    }
   ],
   "source": [
    "# Let's see how the numeric data is distributed.\n",
    "import matplotlib.pyplot as plt\n",
    "plt.style.use('seaborn-whitegrid')\n",
    "\n",
    "df.hist(bins=20, figsize=(14,10), color='#E14906')\n",
    "plt.show()"
   ]
  },
  {
   "cell_type": "code",
   "execution_count": 8,
   "metadata": {},
   "outputs": [
    {
     "data": {
      "text/html": [
       "<div>\n",
       "<style scoped>\n",
       "    .dataframe tbody tr th:only-of-type {\n",
       "        vertical-align: middle;\n",
       "    }\n",
       "\n",
       "    .dataframe tbody tr th {\n",
       "        vertical-align: top;\n",
       "    }\n",
       "\n",
       "    .dataframe thead th {\n",
       "        text-align: right;\n",
       "    }\n",
       "</style>\n",
       "<table border=\"1\" class=\"dataframe\">\n",
       "  <thead>\n",
       "    <tr style=\"text-align: right;\">\n",
       "      <th></th>\n",
       "      <th>deposit</th>\n",
       "      <th>age</th>\n",
       "      <th>job</th>\n",
       "      <th>marital</th>\n",
       "      <th>education</th>\n",
       "      <th>default</th>\n",
       "      <th>balance</th>\n",
       "      <th>housing</th>\n",
       "      <th>loan</th>\n",
       "      <th>contact</th>\n",
       "      <th>day</th>\n",
       "      <th>month</th>\n",
       "      <th>duration</th>\n",
       "      <th>campaign</th>\n",
       "      <th>pdays</th>\n",
       "      <th>previous</th>\n",
       "      <th>poutcome</th>\n",
       "    </tr>\n",
       "  </thead>\n",
       "  <tbody>\n",
       "    <tr>\n",
       "      <th>0</th>\n",
       "      <td>no</td>\n",
       "      <td>58</td>\n",
       "      <td>management</td>\n",
       "      <td>married</td>\n",
       "      <td>tertiary</td>\n",
       "      <td>no</td>\n",
       "      <td>2143</td>\n",
       "      <td>yes</td>\n",
       "      <td>no</td>\n",
       "      <td>unknown</td>\n",
       "      <td>5</td>\n",
       "      <td>may</td>\n",
       "      <td>261</td>\n",
       "      <td>1</td>\n",
       "      <td>-1</td>\n",
       "      <td>0</td>\n",
       "      <td>unknown</td>\n",
       "    </tr>\n",
       "    <tr>\n",
       "      <th>1</th>\n",
       "      <td>no</td>\n",
       "      <td>44</td>\n",
       "      <td>technician</td>\n",
       "      <td>single</td>\n",
       "      <td>secondary</td>\n",
       "      <td>no</td>\n",
       "      <td>29</td>\n",
       "      <td>yes</td>\n",
       "      <td>no</td>\n",
       "      <td>unknown</td>\n",
       "      <td>5</td>\n",
       "      <td>may</td>\n",
       "      <td>151</td>\n",
       "      <td>1</td>\n",
       "      <td>-1</td>\n",
       "      <td>0</td>\n",
       "      <td>unknown</td>\n",
       "    </tr>\n",
       "    <tr>\n",
       "      <th>2</th>\n",
       "      <td>no</td>\n",
       "      <td>33</td>\n",
       "      <td>entrepreneur</td>\n",
       "      <td>married</td>\n",
       "      <td>secondary</td>\n",
       "      <td>no</td>\n",
       "      <td>2</td>\n",
       "      <td>yes</td>\n",
       "      <td>yes</td>\n",
       "      <td>unknown</td>\n",
       "      <td>5</td>\n",
       "      <td>may</td>\n",
       "      <td>76</td>\n",
       "      <td>1</td>\n",
       "      <td>-1</td>\n",
       "      <td>0</td>\n",
       "      <td>unknown</td>\n",
       "    </tr>\n",
       "    <tr>\n",
       "      <th>3</th>\n",
       "      <td>no</td>\n",
       "      <td>47</td>\n",
       "      <td>blue-collar</td>\n",
       "      <td>married</td>\n",
       "      <td>unknown</td>\n",
       "      <td>no</td>\n",
       "      <td>1506</td>\n",
       "      <td>yes</td>\n",
       "      <td>no</td>\n",
       "      <td>unknown</td>\n",
       "      <td>5</td>\n",
       "      <td>may</td>\n",
       "      <td>92</td>\n",
       "      <td>1</td>\n",
       "      <td>-1</td>\n",
       "      <td>0</td>\n",
       "      <td>unknown</td>\n",
       "    </tr>\n",
       "    <tr>\n",
       "      <th>4</th>\n",
       "      <td>no</td>\n",
       "      <td>33</td>\n",
       "      <td>unknown</td>\n",
       "      <td>single</td>\n",
       "      <td>unknown</td>\n",
       "      <td>no</td>\n",
       "      <td>1</td>\n",
       "      <td>no</td>\n",
       "      <td>no</td>\n",
       "      <td>unknown</td>\n",
       "      <td>5</td>\n",
       "      <td>may</td>\n",
       "      <td>198</td>\n",
       "      <td>1</td>\n",
       "      <td>-1</td>\n",
       "      <td>0</td>\n",
       "      <td>unknown</td>\n",
       "    </tr>\n",
       "  </tbody>\n",
       "</table>\n",
       "</div>"
      ],
      "text/plain": [
       "  deposit  age           job  marital  education default  balance housing  \\\n",
       "0      no   58    management  married   tertiary      no     2143     yes   \n",
       "1      no   44    technician   single  secondary      no       29     yes   \n",
       "2      no   33  entrepreneur  married  secondary      no        2     yes   \n",
       "3      no   47   blue-collar  married    unknown      no     1506     yes   \n",
       "4      no   33       unknown   single    unknown      no        1      no   \n",
       "\n",
       "  loan  contact  day month  duration  campaign  pdays  previous poutcome  \n",
       "0   no  unknown    5   may       261         1     -1         0  unknown  \n",
       "1   no  unknown    5   may       151         1     -1         0  unknown  \n",
       "2  yes  unknown    5   may        76         1     -1         0  unknown  \n",
       "3   no  unknown    5   may        92         1     -1         0  unknown  \n",
       "4   no  unknown    5   may       198         1     -1         0  unknown  "
      ]
     },
     "execution_count": 8,
     "metadata": {},
     "output_type": "execute_result"
    }
   ],
   "source": [
    "# Classification 기준값인 deposit을 맨 앞으로 옮긴다.\n",
    "dep = df['deposit']\n",
    "#Drop the deposit column\n",
    "df.drop(labels=['deposit'], axis=1,inplace = True)\n",
    "df.insert(0, 'deposit', dep)\n",
    "df.head()\n"
   ]
  },
  {
   "cell_type": "code",
   "execution_count": 9,
   "metadata": {},
   "outputs": [],
   "source": [
    "# deposit, house, loan, default 의 yes, no를 binary 0,1 값으로 변경\n",
    "def convert_to_int(df, new_column, target_column):\n",
    "    df[new_column] = df[target_column].apply(lambda x: 0 if x == 'no' else 1)\n",
    "    return df[new_column].value_counts()\n"
   ]
  },
  {
   "cell_type": "code",
   "execution_count": 10,
   "metadata": {},
   "outputs": [
    {
     "data": {
      "text/plain": [
       "0    44396\n",
       "1      815\n",
       "Name: default_int, dtype: int64"
      ]
     },
     "execution_count": 10,
     "metadata": {},
     "output_type": "execute_result"
    }
   ],
   "source": [
    "convert_to_int(df, \"deposit_int\", \"deposit\") #Create a deposit int\n",
    "convert_to_int(df, \"housing_int\", \"housing\") # Create housingint column\n",
    "convert_to_int(df, \"loan_int\", \"loan\") #Create a loan_int column\n",
    "convert_to_int(df, \"default_int\", \"default\") #Create a default_int column\n"
   ]
  },
  {
   "cell_type": "code",
   "execution_count": 11,
   "metadata": {},
   "outputs": [],
   "source": [
    "# 변환전 3개 컬럼은 drop 처리한다.\n",
    "df.drop(['housing', 'loan', 'default'], axis=1, inplace=True)"
   ]
  },
  {
   "cell_type": "code",
   "execution_count": 12,
   "metadata": {},
   "outputs": [
    {
     "data": {
      "text/html": [
       "<div>\n",
       "<style scoped>\n",
       "    .dataframe tbody tr th:only-of-type {\n",
       "        vertical-align: middle;\n",
       "    }\n",
       "\n",
       "    .dataframe tbody tr th {\n",
       "        vertical-align: top;\n",
       "    }\n",
       "\n",
       "    .dataframe thead th {\n",
       "        text-align: right;\n",
       "    }\n",
       "</style>\n",
       "<table border=\"1\" class=\"dataframe\">\n",
       "  <thead>\n",
       "    <tr style=\"text-align: right;\">\n",
       "      <th></th>\n",
       "      <th>deposit</th>\n",
       "      <th>age</th>\n",
       "      <th>job</th>\n",
       "      <th>marital</th>\n",
       "      <th>education</th>\n",
       "      <th>balance</th>\n",
       "      <th>contact</th>\n",
       "      <th>day</th>\n",
       "      <th>month</th>\n",
       "      <th>duration</th>\n",
       "      <th>campaign</th>\n",
       "      <th>pdays</th>\n",
       "      <th>previous</th>\n",
       "      <th>poutcome</th>\n",
       "      <th>deposit_int</th>\n",
       "      <th>housing_int</th>\n",
       "      <th>loan_int</th>\n",
       "      <th>default_int</th>\n",
       "    </tr>\n",
       "  </thead>\n",
       "  <tbody>\n",
       "    <tr>\n",
       "      <th>0</th>\n",
       "      <td>no</td>\n",
       "      <td>58</td>\n",
       "      <td>management</td>\n",
       "      <td>married</td>\n",
       "      <td>tertiary</td>\n",
       "      <td>2143</td>\n",
       "      <td>unknown</td>\n",
       "      <td>5</td>\n",
       "      <td>may</td>\n",
       "      <td>261</td>\n",
       "      <td>1</td>\n",
       "      <td>-1</td>\n",
       "      <td>0</td>\n",
       "      <td>unknown</td>\n",
       "      <td>0</td>\n",
       "      <td>1</td>\n",
       "      <td>0</td>\n",
       "      <td>0</td>\n",
       "    </tr>\n",
       "    <tr>\n",
       "      <th>1</th>\n",
       "      <td>no</td>\n",
       "      <td>44</td>\n",
       "      <td>technician</td>\n",
       "      <td>single</td>\n",
       "      <td>secondary</td>\n",
       "      <td>29</td>\n",
       "      <td>unknown</td>\n",
       "      <td>5</td>\n",
       "      <td>may</td>\n",
       "      <td>151</td>\n",
       "      <td>1</td>\n",
       "      <td>-1</td>\n",
       "      <td>0</td>\n",
       "      <td>unknown</td>\n",
       "      <td>0</td>\n",
       "      <td>1</td>\n",
       "      <td>0</td>\n",
       "      <td>0</td>\n",
       "    </tr>\n",
       "    <tr>\n",
       "      <th>2</th>\n",
       "      <td>no</td>\n",
       "      <td>33</td>\n",
       "      <td>entrepreneur</td>\n",
       "      <td>married</td>\n",
       "      <td>secondary</td>\n",
       "      <td>2</td>\n",
       "      <td>unknown</td>\n",
       "      <td>5</td>\n",
       "      <td>may</td>\n",
       "      <td>76</td>\n",
       "      <td>1</td>\n",
       "      <td>-1</td>\n",
       "      <td>0</td>\n",
       "      <td>unknown</td>\n",
       "      <td>0</td>\n",
       "      <td>1</td>\n",
       "      <td>1</td>\n",
       "      <td>0</td>\n",
       "    </tr>\n",
       "    <tr>\n",
       "      <th>3</th>\n",
       "      <td>no</td>\n",
       "      <td>47</td>\n",
       "      <td>blue-collar</td>\n",
       "      <td>married</td>\n",
       "      <td>unknown</td>\n",
       "      <td>1506</td>\n",
       "      <td>unknown</td>\n",
       "      <td>5</td>\n",
       "      <td>may</td>\n",
       "      <td>92</td>\n",
       "      <td>1</td>\n",
       "      <td>-1</td>\n",
       "      <td>0</td>\n",
       "      <td>unknown</td>\n",
       "      <td>0</td>\n",
       "      <td>1</td>\n",
       "      <td>0</td>\n",
       "      <td>0</td>\n",
       "    </tr>\n",
       "    <tr>\n",
       "      <th>4</th>\n",
       "      <td>no</td>\n",
       "      <td>33</td>\n",
       "      <td>unknown</td>\n",
       "      <td>single</td>\n",
       "      <td>unknown</td>\n",
       "      <td>1</td>\n",
       "      <td>unknown</td>\n",
       "      <td>5</td>\n",
       "      <td>may</td>\n",
       "      <td>198</td>\n",
       "      <td>1</td>\n",
       "      <td>-1</td>\n",
       "      <td>0</td>\n",
       "      <td>unknown</td>\n",
       "      <td>0</td>\n",
       "      <td>0</td>\n",
       "      <td>0</td>\n",
       "      <td>0</td>\n",
       "    </tr>\n",
       "  </tbody>\n",
       "</table>\n",
       "</div>"
      ],
      "text/plain": [
       "  deposit  age           job  marital  education  balance  contact  day month  \\\n",
       "0      no   58    management  married   tertiary     2143  unknown    5   may   \n",
       "1      no   44    technician   single  secondary       29  unknown    5   may   \n",
       "2      no   33  entrepreneur  married  secondary        2  unknown    5   may   \n",
       "3      no   47   blue-collar  married    unknown     1506  unknown    5   may   \n",
       "4      no   33       unknown   single    unknown        1  unknown    5   may   \n",
       "\n",
       "   duration  campaign  pdays  previous poutcome  deposit_int  housing_int  \\\n",
       "0       261         1     -1         0  unknown            0            1   \n",
       "1       151         1     -1         0  unknown            0            1   \n",
       "2        76         1     -1         0  unknown            0            1   \n",
       "3        92         1     -1         0  unknown            0            1   \n",
       "4       198         1     -1         0  unknown            0            0   \n",
       "\n",
       "   loan_int  default_int  \n",
       "0         0            0  \n",
       "1         0            0  \n",
       "2         1            0  \n",
       "3         0            0  \n",
       "4         0            0  "
      ]
     },
     "execution_count": 12,
     "metadata": {},
     "output_type": "execute_result"
    }
   ],
   "source": [
    "df.head()"
   ]
  },
  {
   "cell_type": "code",
   "execution_count": 13,
   "metadata": {},
   "outputs": [
    {
     "name": "stdout",
     "output_type": "stream",
     "text": [
      "may    13766\n",
      "jul     6895\n",
      "aug     6247\n",
      "jun     5341\n",
      "nov     3970\n",
      "apr     2932\n",
      "feb     2649\n",
      "jan     1403\n",
      "oct      738\n",
      "sep      579\n",
      "mar      477\n",
      "dec      214\n",
      "Name: month, dtype: int64\n"
     ]
    },
    {
     "data": {
      "text/html": [
       "<div>\n",
       "<style scoped>\n",
       "    .dataframe tbody tr th:only-of-type {\n",
       "        vertical-align: middle;\n",
       "    }\n",
       "\n",
       "    .dataframe tbody tr th {\n",
       "        vertical-align: top;\n",
       "    }\n",
       "\n",
       "    .dataframe thead th {\n",
       "        text-align: right;\n",
       "    }\n",
       "</style>\n",
       "<table border=\"1\" class=\"dataframe\">\n",
       "  <thead>\n",
       "    <tr style=\"text-align: right;\">\n",
       "      <th>deposit</th>\n",
       "      <th>no</th>\n",
       "      <th>yes</th>\n",
       "    </tr>\n",
       "    <tr>\n",
       "      <th>month</th>\n",
       "      <th></th>\n",
       "      <th></th>\n",
       "    </tr>\n",
       "  </thead>\n",
       "  <tbody>\n",
       "    <tr>\n",
       "      <th>apr</th>\n",
       "      <td>5.899003</td>\n",
       "      <td>10.909435</td>\n",
       "    </tr>\n",
       "    <tr>\n",
       "      <th>aug</th>\n",
       "      <td>13.924653</td>\n",
       "      <td>13.008130</td>\n",
       "    </tr>\n",
       "    <tr>\n",
       "      <th>dec</th>\n",
       "      <td>0.285557</td>\n",
       "      <td>1.890717</td>\n",
       "    </tr>\n",
       "    <tr>\n",
       "      <th>feb</th>\n",
       "      <td>5.530785</td>\n",
       "      <td>8.338060</td>\n",
       "    </tr>\n",
       "    <tr>\n",
       "      <th>jan</th>\n",
       "      <td>3.158659</td>\n",
       "      <td>2.684818</td>\n",
       "    </tr>\n",
       "    <tr>\n",
       "      <th>jul</th>\n",
       "      <td>15.700616</td>\n",
       "      <td>11.854793</td>\n",
       "    </tr>\n",
       "    <tr>\n",
       "      <th>jun</th>\n",
       "      <td>12.010921</td>\n",
       "      <td>10.323313</td>\n",
       "    </tr>\n",
       "    <tr>\n",
       "      <th>mar</th>\n",
       "      <td>0.573619</td>\n",
       "      <td>4.688977</td>\n",
       "    </tr>\n",
       "    <tr>\n",
       "      <th>may</th>\n",
       "      <td>32.165222</td>\n",
       "      <td>17.489128</td>\n",
       "    </tr>\n",
       "    <tr>\n",
       "      <th>nov</th>\n",
       "      <td>8.934923</td>\n",
       "      <td>7.619588</td>\n",
       "    </tr>\n",
       "    <tr>\n",
       "      <th>oct</th>\n",
       "      <td>1.039527</td>\n",
       "      <td>6.107015</td>\n",
       "    </tr>\n",
       "    <tr>\n",
       "      <th>sep</th>\n",
       "      <td>0.776514</td>\n",
       "      <td>5.086028</td>\n",
       "    </tr>\n",
       "  </tbody>\n",
       "</table>\n",
       "</div>"
      ],
      "text/plain": [
       "deposit         no        yes\n",
       "month                        \n",
       "apr       5.899003  10.909435\n",
       "aug      13.924653  13.008130\n",
       "dec       0.285557   1.890717\n",
       "feb       5.530785   8.338060\n",
       "jan       3.158659   2.684818\n",
       "jul      15.700616  11.854793\n",
       "jun      12.010921  10.323313\n",
       "mar       0.573619   4.688977\n",
       "may      32.165222  17.489128\n",
       "nov       8.934923   7.619588\n",
       "oct       1.039527   6.107015\n",
       "sep       0.776514   5.086028"
      ]
     },
     "execution_count": 13,
     "metadata": {},
     "output_type": "execute_result"
    }
   ],
   "source": [
    "#월별 분포 및, 가입/거절 비율\n",
    "\n",
    "print(df['month'].value_counts())\n",
    "cross_month = pd.crosstab(df['month'], df['deposit']).apply(lambda x: x/x.sum() * 100)\n",
    "cross_month"
   ]
  },
  {
   "cell_type": "code",
   "execution_count": 14,
   "metadata": {},
   "outputs": [
    {
     "data": {
      "text/html": [
       "<div>\n",
       "<style scoped>\n",
       "    .dataframe tbody tr th:only-of-type {\n",
       "        vertical-align: middle;\n",
       "    }\n",
       "\n",
       "    .dataframe tbody tr th {\n",
       "        vertical-align: top;\n",
       "    }\n",
       "\n",
       "    .dataframe thead th {\n",
       "        text-align: right;\n",
       "    }\n",
       "</style>\n",
       "<table border=\"1\" class=\"dataframe\">\n",
       "  <thead>\n",
       "    <tr style=\"text-align: right;\">\n",
       "      <th></th>\n",
       "      <th>deposit</th>\n",
       "      <th>age</th>\n",
       "      <th>job</th>\n",
       "      <th>marital</th>\n",
       "      <th>education</th>\n",
       "      <th>balance</th>\n",
       "      <th>contact</th>\n",
       "      <th>day</th>\n",
       "      <th>month</th>\n",
       "      <th>duration</th>\n",
       "      <th>campaign</th>\n",
       "      <th>pdays</th>\n",
       "      <th>previous</th>\n",
       "      <th>poutcome</th>\n",
       "      <th>deposit_int</th>\n",
       "      <th>housing_int</th>\n",
       "      <th>loan_int</th>\n",
       "      <th>default_int</th>\n",
       "      <th>year</th>\n",
       "      <th>month_int</th>\n",
       "    </tr>\n",
       "  </thead>\n",
       "  <tbody>\n",
       "    <tr>\n",
       "      <th>0</th>\n",
       "      <td>no</td>\n",
       "      <td>58</td>\n",
       "      <td>management</td>\n",
       "      <td>married</td>\n",
       "      <td>tertiary</td>\n",
       "      <td>2143</td>\n",
       "      <td>unknown</td>\n",
       "      <td>5</td>\n",
       "      <td>may</td>\n",
       "      <td>261</td>\n",
       "      <td>1</td>\n",
       "      <td>-1</td>\n",
       "      <td>0</td>\n",
       "      <td>unknown</td>\n",
       "      <td>0</td>\n",
       "      <td>1</td>\n",
       "      <td>0</td>\n",
       "      <td>0</td>\n",
       "      <td>2018</td>\n",
       "      <td>5</td>\n",
       "    </tr>\n",
       "    <tr>\n",
       "      <th>1</th>\n",
       "      <td>no</td>\n",
       "      <td>44</td>\n",
       "      <td>technician</td>\n",
       "      <td>single</td>\n",
       "      <td>secondary</td>\n",
       "      <td>29</td>\n",
       "      <td>unknown</td>\n",
       "      <td>5</td>\n",
       "      <td>may</td>\n",
       "      <td>151</td>\n",
       "      <td>1</td>\n",
       "      <td>-1</td>\n",
       "      <td>0</td>\n",
       "      <td>unknown</td>\n",
       "      <td>0</td>\n",
       "      <td>1</td>\n",
       "      <td>0</td>\n",
       "      <td>0</td>\n",
       "      <td>2018</td>\n",
       "      <td>5</td>\n",
       "    </tr>\n",
       "    <tr>\n",
       "      <th>2</th>\n",
       "      <td>no</td>\n",
       "      <td>33</td>\n",
       "      <td>entrepreneur</td>\n",
       "      <td>married</td>\n",
       "      <td>secondary</td>\n",
       "      <td>2</td>\n",
       "      <td>unknown</td>\n",
       "      <td>5</td>\n",
       "      <td>may</td>\n",
       "      <td>76</td>\n",
       "      <td>1</td>\n",
       "      <td>-1</td>\n",
       "      <td>0</td>\n",
       "      <td>unknown</td>\n",
       "      <td>0</td>\n",
       "      <td>1</td>\n",
       "      <td>1</td>\n",
       "      <td>0</td>\n",
       "      <td>2018</td>\n",
       "      <td>5</td>\n",
       "    </tr>\n",
       "    <tr>\n",
       "      <th>3</th>\n",
       "      <td>no</td>\n",
       "      <td>47</td>\n",
       "      <td>blue-collar</td>\n",
       "      <td>married</td>\n",
       "      <td>unknown</td>\n",
       "      <td>1506</td>\n",
       "      <td>unknown</td>\n",
       "      <td>5</td>\n",
       "      <td>may</td>\n",
       "      <td>92</td>\n",
       "      <td>1</td>\n",
       "      <td>-1</td>\n",
       "      <td>0</td>\n",
       "      <td>unknown</td>\n",
       "      <td>0</td>\n",
       "      <td>1</td>\n",
       "      <td>0</td>\n",
       "      <td>0</td>\n",
       "      <td>2018</td>\n",
       "      <td>5</td>\n",
       "    </tr>\n",
       "    <tr>\n",
       "      <th>4</th>\n",
       "      <td>no</td>\n",
       "      <td>33</td>\n",
       "      <td>unknown</td>\n",
       "      <td>single</td>\n",
       "      <td>unknown</td>\n",
       "      <td>1</td>\n",
       "      <td>unknown</td>\n",
       "      <td>5</td>\n",
       "      <td>may</td>\n",
       "      <td>198</td>\n",
       "      <td>1</td>\n",
       "      <td>-1</td>\n",
       "      <td>0</td>\n",
       "      <td>unknown</td>\n",
       "      <td>0</td>\n",
       "      <td>0</td>\n",
       "      <td>0</td>\n",
       "      <td>0</td>\n",
       "      <td>2018</td>\n",
       "      <td>5</td>\n",
       "    </tr>\n",
       "  </tbody>\n",
       "</table>\n",
       "</div>"
      ],
      "text/plain": [
       "  deposit  age           job  marital  education  balance  contact  day month  \\\n",
       "0      no   58    management  married   tertiary     2143  unknown    5   may   \n",
       "1      no   44    technician   single  secondary       29  unknown    5   may   \n",
       "2      no   33  entrepreneur  married  secondary        2  unknown    5   may   \n",
       "3      no   47   blue-collar  married    unknown     1506  unknown    5   may   \n",
       "4      no   33       unknown   single    unknown        1  unknown    5   may   \n",
       "\n",
       "   duration  campaign  pdays  previous poutcome  deposit_int  housing_int  \\\n",
       "0       261         1     -1         0  unknown            0            1   \n",
       "1       151         1     -1         0  unknown            0            1   \n",
       "2        76         1     -1         0  unknown            0            1   \n",
       "3        92         1     -1         0  unknown            0            1   \n",
       "4       198         1     -1         0  unknown            0            0   \n",
       "\n",
       "   loan_int  default_int  year  month_int  \n",
       "0         0            0  2018          5  \n",
       "1         0            0  2018          5  \n",
       "2         1            0  2018          5  \n",
       "3         0            0  2018          5  \n",
       "4         0            0  2018          5  "
      ]
     },
     "execution_count": 14,
     "metadata": {},
     "output_type": "execute_result"
    }
   ],
   "source": [
    "# 기준 년월 값으로 month정보를 변경한다. \n",
    "\n",
    "df['year'] = 2018\n",
    "lst = [df]\n",
    "\n",
    "# Create a column with the numeric values of the months.\n",
    "for column in lst:\n",
    "    column.loc[column[\"month\"] == \"jan\", \"month_int\"] = 1\n",
    "    column.loc[column[\"month\"] == \"feb\", \"month_int\"] = 2\n",
    "    column.loc[column[\"month\"] == \"mar\", \"month_int\"] = 3\n",
    "    column.loc[column[\"month\"] == \"apr\", \"month_int\"] = 4\n",
    "    column.loc[column[\"month\"] == \"may\", \"month_int\"] = 5\n",
    "    column.loc[column[\"month\"] == \"jun\", \"month_int\"] = 6\n",
    "    column.loc[column[\"month\"] == \"jul\", \"month_int\"] = 7\n",
    "    column.loc[column[\"month\"] == \"aug\", \"month_int\"] = 8\n",
    "    column.loc[column[\"month\"] == \"sep\", \"month_int\"] = 9\n",
    "    column.loc[column[\"month\"] == \"oct\", \"month_int\"] = 10\n",
    "    column.loc[column[\"month\"] == \"nov\", \"month_int\"] = 11\n",
    "    column.loc[column[\"month\"] == \"dec\", \"month_int\"] = 12\n",
    "\n",
    "# Change datatype from int32 to int64\n",
    "df[\"month_int\"] = df[\"month_int\"].astype(np.int64)\n",
    "df.head()\n"
   ]
  },
  {
   "cell_type": "code",
   "execution_count": 15,
   "metadata": {},
   "outputs": [],
   "source": [
    "df.drop(['day','year', 'deposit'], axis=1, inplace=True)"
   ]
  },
  {
   "cell_type": "code",
   "execution_count": 16,
   "metadata": {},
   "outputs": [],
   "source": [
    "# 불필요 컬럼 삭제 및 deposit binary 변환 컬럼을 맨 앞으로\n",
    "df = df.rename(columns={\"deposit_int\": \"deposit\"})"
   ]
  },
  {
   "cell_type": "code",
   "execution_count": 17,
   "metadata": {},
   "outputs": [
    {
     "data": {
      "text/html": [
       "<div>\n",
       "<style scoped>\n",
       "    .dataframe tbody tr th:only-of-type {\n",
       "        vertical-align: middle;\n",
       "    }\n",
       "\n",
       "    .dataframe tbody tr th {\n",
       "        vertical-align: top;\n",
       "    }\n",
       "\n",
       "    .dataframe thead th {\n",
       "        text-align: right;\n",
       "    }\n",
       "</style>\n",
       "<table border=\"1\" class=\"dataframe\">\n",
       "  <thead>\n",
       "    <tr style=\"text-align: right;\">\n",
       "      <th></th>\n",
       "      <th>age</th>\n",
       "      <th>job</th>\n",
       "      <th>marital</th>\n",
       "      <th>education</th>\n",
       "      <th>balance</th>\n",
       "      <th>contact</th>\n",
       "      <th>month</th>\n",
       "      <th>duration</th>\n",
       "      <th>campaign</th>\n",
       "      <th>pdays</th>\n",
       "      <th>previous</th>\n",
       "      <th>poutcome</th>\n",
       "      <th>deposit</th>\n",
       "      <th>housing_int</th>\n",
       "      <th>loan_int</th>\n",
       "      <th>default_int</th>\n",
       "      <th>month_int</th>\n",
       "    </tr>\n",
       "  </thead>\n",
       "  <tbody>\n",
       "    <tr>\n",
       "      <th>0</th>\n",
       "      <td>58</td>\n",
       "      <td>management</td>\n",
       "      <td>married</td>\n",
       "      <td>tertiary</td>\n",
       "      <td>2143</td>\n",
       "      <td>unknown</td>\n",
       "      <td>may</td>\n",
       "      <td>261</td>\n",
       "      <td>1</td>\n",
       "      <td>-1</td>\n",
       "      <td>0</td>\n",
       "      <td>unknown</td>\n",
       "      <td>0</td>\n",
       "      <td>1</td>\n",
       "      <td>0</td>\n",
       "      <td>0</td>\n",
       "      <td>5</td>\n",
       "    </tr>\n",
       "    <tr>\n",
       "      <th>1</th>\n",
       "      <td>44</td>\n",
       "      <td>technician</td>\n",
       "      <td>single</td>\n",
       "      <td>secondary</td>\n",
       "      <td>29</td>\n",
       "      <td>unknown</td>\n",
       "      <td>may</td>\n",
       "      <td>151</td>\n",
       "      <td>1</td>\n",
       "      <td>-1</td>\n",
       "      <td>0</td>\n",
       "      <td>unknown</td>\n",
       "      <td>0</td>\n",
       "      <td>1</td>\n",
       "      <td>0</td>\n",
       "      <td>0</td>\n",
       "      <td>5</td>\n",
       "    </tr>\n",
       "    <tr>\n",
       "      <th>2</th>\n",
       "      <td>33</td>\n",
       "      <td>entrepreneur</td>\n",
       "      <td>married</td>\n",
       "      <td>secondary</td>\n",
       "      <td>2</td>\n",
       "      <td>unknown</td>\n",
       "      <td>may</td>\n",
       "      <td>76</td>\n",
       "      <td>1</td>\n",
       "      <td>-1</td>\n",
       "      <td>0</td>\n",
       "      <td>unknown</td>\n",
       "      <td>0</td>\n",
       "      <td>1</td>\n",
       "      <td>1</td>\n",
       "      <td>0</td>\n",
       "      <td>5</td>\n",
       "    </tr>\n",
       "    <tr>\n",
       "      <th>3</th>\n",
       "      <td>47</td>\n",
       "      <td>blue-collar</td>\n",
       "      <td>married</td>\n",
       "      <td>unknown</td>\n",
       "      <td>1506</td>\n",
       "      <td>unknown</td>\n",
       "      <td>may</td>\n",
       "      <td>92</td>\n",
       "      <td>1</td>\n",
       "      <td>-1</td>\n",
       "      <td>0</td>\n",
       "      <td>unknown</td>\n",
       "      <td>0</td>\n",
       "      <td>1</td>\n",
       "      <td>0</td>\n",
       "      <td>0</td>\n",
       "      <td>5</td>\n",
       "    </tr>\n",
       "    <tr>\n",
       "      <th>4</th>\n",
       "      <td>33</td>\n",
       "      <td>unknown</td>\n",
       "      <td>single</td>\n",
       "      <td>unknown</td>\n",
       "      <td>1</td>\n",
       "      <td>unknown</td>\n",
       "      <td>may</td>\n",
       "      <td>198</td>\n",
       "      <td>1</td>\n",
       "      <td>-1</td>\n",
       "      <td>0</td>\n",
       "      <td>unknown</td>\n",
       "      <td>0</td>\n",
       "      <td>0</td>\n",
       "      <td>0</td>\n",
       "      <td>0</td>\n",
       "      <td>5</td>\n",
       "    </tr>\n",
       "  </tbody>\n",
       "</table>\n",
       "</div>"
      ],
      "text/plain": [
       "   age           job  marital  education  balance  contact month  duration  \\\n",
       "0   58    management  married   tertiary     2143  unknown   may       261   \n",
       "1   44    technician   single  secondary       29  unknown   may       151   \n",
       "2   33  entrepreneur  married  secondary        2  unknown   may        76   \n",
       "3   47   blue-collar  married    unknown     1506  unknown   may        92   \n",
       "4   33       unknown   single    unknown        1  unknown   may       198   \n",
       "\n",
       "   campaign  pdays  previous poutcome  deposit  housing_int  loan_int  \\\n",
       "0         1     -1         0  unknown        0            1         0   \n",
       "1         1     -1         0  unknown        0            1         0   \n",
       "2         1     -1         0  unknown        0            1         1   \n",
       "3         1     -1         0  unknown        0            1         0   \n",
       "4         1     -1         0  unknown        0            0         0   \n",
       "\n",
       "   default_int  month_int  \n",
       "0            0          5  \n",
       "1            0          5  \n",
       "2            0          5  \n",
       "3            0          5  \n",
       "4            0          5  "
      ]
     },
     "execution_count": 17,
     "metadata": {},
     "output_type": "execute_result"
    }
   ],
   "source": [
    "df.head()"
   ]
  },
  {
   "cell_type": "code",
   "execution_count": 18,
   "metadata": {},
   "outputs": [
    {
     "data": {
      "text/html": [
       "<div>\n",
       "<style scoped>\n",
       "    .dataframe tbody tr th:only-of-type {\n",
       "        vertical-align: middle;\n",
       "    }\n",
       "\n",
       "    .dataframe tbody tr th {\n",
       "        vertical-align: top;\n",
       "    }\n",
       "\n",
       "    .dataframe thead th {\n",
       "        text-align: right;\n",
       "    }\n",
       "</style>\n",
       "<table border=\"1\" class=\"dataframe\">\n",
       "  <thead>\n",
       "    <tr style=\"text-align: right;\">\n",
       "      <th></th>\n",
       "      <th>deposit</th>\n",
       "      <th>age</th>\n",
       "      <th>job</th>\n",
       "      <th>marital</th>\n",
       "      <th>education</th>\n",
       "      <th>balance</th>\n",
       "      <th>contact</th>\n",
       "      <th>month</th>\n",
       "      <th>duration</th>\n",
       "      <th>campaign</th>\n",
       "      <th>pdays</th>\n",
       "      <th>previous</th>\n",
       "      <th>poutcome</th>\n",
       "      <th>housing_int</th>\n",
       "      <th>loan_int</th>\n",
       "      <th>default_int</th>\n",
       "      <th>month_int</th>\n",
       "    </tr>\n",
       "  </thead>\n",
       "  <tbody>\n",
       "    <tr>\n",
       "      <th>0</th>\n",
       "      <td>0</td>\n",
       "      <td>58</td>\n",
       "      <td>management</td>\n",
       "      <td>married</td>\n",
       "      <td>tertiary</td>\n",
       "      <td>2143</td>\n",
       "      <td>unknown</td>\n",
       "      <td>may</td>\n",
       "      <td>261</td>\n",
       "      <td>1</td>\n",
       "      <td>-1</td>\n",
       "      <td>0</td>\n",
       "      <td>unknown</td>\n",
       "      <td>1</td>\n",
       "      <td>0</td>\n",
       "      <td>0</td>\n",
       "      <td>5</td>\n",
       "    </tr>\n",
       "    <tr>\n",
       "      <th>1</th>\n",
       "      <td>0</td>\n",
       "      <td>44</td>\n",
       "      <td>technician</td>\n",
       "      <td>single</td>\n",
       "      <td>secondary</td>\n",
       "      <td>29</td>\n",
       "      <td>unknown</td>\n",
       "      <td>may</td>\n",
       "      <td>151</td>\n",
       "      <td>1</td>\n",
       "      <td>-1</td>\n",
       "      <td>0</td>\n",
       "      <td>unknown</td>\n",
       "      <td>1</td>\n",
       "      <td>0</td>\n",
       "      <td>0</td>\n",
       "      <td>5</td>\n",
       "    </tr>\n",
       "    <tr>\n",
       "      <th>2</th>\n",
       "      <td>0</td>\n",
       "      <td>33</td>\n",
       "      <td>entrepreneur</td>\n",
       "      <td>married</td>\n",
       "      <td>secondary</td>\n",
       "      <td>2</td>\n",
       "      <td>unknown</td>\n",
       "      <td>may</td>\n",
       "      <td>76</td>\n",
       "      <td>1</td>\n",
       "      <td>-1</td>\n",
       "      <td>0</td>\n",
       "      <td>unknown</td>\n",
       "      <td>1</td>\n",
       "      <td>1</td>\n",
       "      <td>0</td>\n",
       "      <td>5</td>\n",
       "    </tr>\n",
       "    <tr>\n",
       "      <th>3</th>\n",
       "      <td>0</td>\n",
       "      <td>47</td>\n",
       "      <td>blue-collar</td>\n",
       "      <td>married</td>\n",
       "      <td>unknown</td>\n",
       "      <td>1506</td>\n",
       "      <td>unknown</td>\n",
       "      <td>may</td>\n",
       "      <td>92</td>\n",
       "      <td>1</td>\n",
       "      <td>-1</td>\n",
       "      <td>0</td>\n",
       "      <td>unknown</td>\n",
       "      <td>1</td>\n",
       "      <td>0</td>\n",
       "      <td>0</td>\n",
       "      <td>5</td>\n",
       "    </tr>\n",
       "    <tr>\n",
       "      <th>4</th>\n",
       "      <td>0</td>\n",
       "      <td>33</td>\n",
       "      <td>unknown</td>\n",
       "      <td>single</td>\n",
       "      <td>unknown</td>\n",
       "      <td>1</td>\n",
       "      <td>unknown</td>\n",
       "      <td>may</td>\n",
       "      <td>198</td>\n",
       "      <td>1</td>\n",
       "      <td>-1</td>\n",
       "      <td>0</td>\n",
       "      <td>unknown</td>\n",
       "      <td>0</td>\n",
       "      <td>0</td>\n",
       "      <td>0</td>\n",
       "      <td>5</td>\n",
       "    </tr>\n",
       "  </tbody>\n",
       "</table>\n",
       "</div>"
      ],
      "text/plain": [
       "   deposit  age           job  marital  education  balance  contact month  \\\n",
       "0        0   58    management  married   tertiary     2143  unknown   may   \n",
       "1        0   44    technician   single  secondary       29  unknown   may   \n",
       "2        0   33  entrepreneur  married  secondary        2  unknown   may   \n",
       "3        0   47   blue-collar  married    unknown     1506  unknown   may   \n",
       "4        0   33       unknown   single    unknown        1  unknown   may   \n",
       "\n",
       "   duration  campaign  pdays  previous poutcome  housing_int  loan_int  \\\n",
       "0       261         1     -1         0  unknown            1         0   \n",
       "1       151         1     -1         0  unknown            1         0   \n",
       "2        76         1     -1         0  unknown            1         1   \n",
       "3        92         1     -1         0  unknown            1         0   \n",
       "4       198         1     -1         0  unknown            0         0   \n",
       "\n",
       "   default_int  month_int  \n",
       "0            0          5  \n",
       "1            0          5  \n",
       "2            0          5  \n",
       "3            0          5  \n",
       "4            0          5  "
      ]
     },
     "execution_count": 18,
     "metadata": {},
     "output_type": "execute_result"
    }
   ],
   "source": [
    "first = df['deposit']\n",
    "df.drop(labels=['deposit'], axis=1,inplace = True)\n",
    "df.insert(0, 'deposit', first)\n",
    "df.head()"
   ]
  },
  {
   "cell_type": "code",
   "execution_count": 19,
   "metadata": {},
   "outputs": [
    {
     "data": {
      "text/html": [
       "<div>\n",
       "<style scoped>\n",
       "    .dataframe tbody tr th:only-of-type {\n",
       "        vertical-align: middle;\n",
       "    }\n",
       "\n",
       "    .dataframe tbody tr th {\n",
       "        vertical-align: top;\n",
       "    }\n",
       "\n",
       "    .dataframe thead th {\n",
       "        text-align: right;\n",
       "    }\n",
       "</style>\n",
       "<table border=\"1\" class=\"dataframe\">\n",
       "  <thead>\n",
       "    <tr style=\"text-align: right;\">\n",
       "      <th></th>\n",
       "      <th>deposit</th>\n",
       "      <th>age</th>\n",
       "      <th>job</th>\n",
       "      <th>marital</th>\n",
       "      <th>education</th>\n",
       "      <th>balance</th>\n",
       "      <th>contact</th>\n",
       "      <th>month</th>\n",
       "      <th>duration</th>\n",
       "      <th>campaign</th>\n",
       "      <th>pdays</th>\n",
       "      <th>previous</th>\n",
       "      <th>poutcome</th>\n",
       "      <th>housing_int</th>\n",
       "      <th>loan_int</th>\n",
       "      <th>default_int</th>\n",
       "      <th>month_int</th>\n",
       "    </tr>\n",
       "  </thead>\n",
       "  <tbody>\n",
       "    <tr>\n",
       "      <th>0</th>\n",
       "      <td>0</td>\n",
       "      <td>58</td>\n",
       "      <td>management</td>\n",
       "      <td>married</td>\n",
       "      <td>tertiary</td>\n",
       "      <td>2143</td>\n",
       "      <td>unknown</td>\n",
       "      <td>may</td>\n",
       "      <td>4.35</td>\n",
       "      <td>1</td>\n",
       "      <td>-1</td>\n",
       "      <td>0</td>\n",
       "      <td>unknown</td>\n",
       "      <td>1</td>\n",
       "      <td>0</td>\n",
       "      <td>0</td>\n",
       "      <td>5</td>\n",
       "    </tr>\n",
       "    <tr>\n",
       "      <th>1</th>\n",
       "      <td>0</td>\n",
       "      <td>44</td>\n",
       "      <td>technician</td>\n",
       "      <td>single</td>\n",
       "      <td>secondary</td>\n",
       "      <td>29</td>\n",
       "      <td>unknown</td>\n",
       "      <td>may</td>\n",
       "      <td>2.52</td>\n",
       "      <td>1</td>\n",
       "      <td>-1</td>\n",
       "      <td>0</td>\n",
       "      <td>unknown</td>\n",
       "      <td>1</td>\n",
       "      <td>0</td>\n",
       "      <td>0</td>\n",
       "      <td>5</td>\n",
       "    </tr>\n",
       "    <tr>\n",
       "      <th>2</th>\n",
       "      <td>0</td>\n",
       "      <td>33</td>\n",
       "      <td>entrepreneur</td>\n",
       "      <td>married</td>\n",
       "      <td>secondary</td>\n",
       "      <td>2</td>\n",
       "      <td>unknown</td>\n",
       "      <td>may</td>\n",
       "      <td>1.27</td>\n",
       "      <td>1</td>\n",
       "      <td>-1</td>\n",
       "      <td>0</td>\n",
       "      <td>unknown</td>\n",
       "      <td>1</td>\n",
       "      <td>1</td>\n",
       "      <td>0</td>\n",
       "      <td>5</td>\n",
       "    </tr>\n",
       "    <tr>\n",
       "      <th>3</th>\n",
       "      <td>0</td>\n",
       "      <td>47</td>\n",
       "      <td>blue-collar</td>\n",
       "      <td>married</td>\n",
       "      <td>unknown</td>\n",
       "      <td>1506</td>\n",
       "      <td>unknown</td>\n",
       "      <td>may</td>\n",
       "      <td>1.53</td>\n",
       "      <td>1</td>\n",
       "      <td>-1</td>\n",
       "      <td>0</td>\n",
       "      <td>unknown</td>\n",
       "      <td>1</td>\n",
       "      <td>0</td>\n",
       "      <td>0</td>\n",
       "      <td>5</td>\n",
       "    </tr>\n",
       "    <tr>\n",
       "      <th>4</th>\n",
       "      <td>0</td>\n",
       "      <td>33</td>\n",
       "      <td>unknown</td>\n",
       "      <td>single</td>\n",
       "      <td>unknown</td>\n",
       "      <td>1</td>\n",
       "      <td>unknown</td>\n",
       "      <td>may</td>\n",
       "      <td>3.30</td>\n",
       "      <td>1</td>\n",
       "      <td>-1</td>\n",
       "      <td>0</td>\n",
       "      <td>unknown</td>\n",
       "      <td>0</td>\n",
       "      <td>0</td>\n",
       "      <td>0</td>\n",
       "      <td>5</td>\n",
       "    </tr>\n",
       "  </tbody>\n",
       "</table>\n",
       "</div>"
      ],
      "text/plain": [
       "   deposit  age           job  marital  education  balance  contact month  \\\n",
       "0        0   58    management  married   tertiary     2143  unknown   may   \n",
       "1        0   44    technician   single  secondary       29  unknown   may   \n",
       "2        0   33  entrepreneur  married  secondary        2  unknown   may   \n",
       "3        0   47   blue-collar  married    unknown     1506  unknown   may   \n",
       "4        0   33       unknown   single    unknown        1  unknown   may   \n",
       "\n",
       "   duration  campaign  pdays  previous poutcome  housing_int  loan_int  \\\n",
       "0      4.35         1     -1         0  unknown            1         0   \n",
       "1      2.52         1     -1         0  unknown            1         0   \n",
       "2      1.27         1     -1         0  unknown            1         1   \n",
       "3      1.53         1     -1         0  unknown            1         0   \n",
       "4      3.30         1     -1         0  unknown            0         0   \n",
       "\n",
       "   default_int  month_int  \n",
       "0            0          5  \n",
       "1            0          5  \n",
       "2            0          5  \n",
       "3            0          5  \n",
       "4            0          5  "
      ]
     },
     "execution_count": 19,
     "metadata": {},
     "output_type": "execute_result"
    }
   ],
   "source": [
    "# 초 단위 상담시간을 분단위로 변경 (자료값의 범위가 너무 커서 조정이 필요함)\n",
    "decimal_points = 2\n",
    "df['duration'] = df['duration'] / 60\n",
    "df['duration'] = df['duration'].apply(lambda x: round(x, decimal_points))\n",
    "df.head()"
   ]
  },
  {
   "cell_type": "code",
   "execution_count": 20,
   "metadata": {},
   "outputs": [
    {
     "data": {
      "image/png": "[encoded data removed]",
      "text/plain": [
       "<Figure size 1296x576 with 2 Axes>"
      ]
     },
     "metadata": {},
     "output_type": "display_data"
    }
   ],
   "source": [
    "# 정기예금 가입자 수락 비율 분석\n",
    "f,ax=plt.subplots(1,2,figsize=(18,8))\n",
    "colors=[\"#F08080\", \"#00FA9A\"]\n",
    "labels = 'Refused a T.D. Suscription', 'Accepted a T.D. Suscription'\n",
    "df['deposit'].value_counts().plot.pie(explode=[0,0.1],autopct='%1.1f%%',ax=ax[0],shadow=True, colors=colors, labels=labels,fontsize=14)\n",
    "ax[0].set_title('Term Deposits', fontsize=20)\n",
    "ax[0].set_ylabel('% of Total Potential Clients', fontsize=14)\n",
    "sns.countplot('deposit',data=df,ax=ax[1], palette=colors)\n",
    "ax[1].set_title('Term Deposits', fontsize=20)\n",
    "ax[1].set_xticklabels(['Refused', 'Accepted'], fontsize=14)\n",
    "plt.show()"
   ]
  },
  {
   "cell_type": "code",
   "execution_count": 21,
   "metadata": {},
   "outputs": [
    {
     "name": "stderr",
     "output_type": "stream",
     "text": [
      "/Users/a80099708/anaconda3/lib/python3.6/site-packages/scipy/stats/stats.py:1713: FutureWarning:\n",
      "\n",
      "Using a non-tuple sequence for multidimensional indexing is deprecated; use `arr[tuple(seq)]` instead of `arr[seq]`. In the future this will be interpreted as an array index, `arr[np.array(seq)]`, which will result either in an error or a different result.\n",
      "\n"
     ]
    },
    {
     "data": {
      "image/png": "[encoded data removed]",
      "text/plain": [
       "<Figure size 1080x432 with 3 Axes>"
      ]
     },
     "metadata": {},
     "output_type": "display_data"
    }
   ],
   "source": [
    "# 정기예금 가입에 영향도가 높을 것으로 예상되는 피쳐값에 대한 분포 확인\n",
    "# 월별, 연령별, 마케팅 콜 횟수\n",
    "import seaborn as sns\n",
    "\n",
    "f, axes = plt.subplots(ncols=3, figsize=(15, 6))\n",
    "\n",
    "# 월별\n",
    "sns.distplot(df['month_int'], kde=False, color=\"#ff3300\", ax=axes[0]).set_title('Months of Marketing Activity Distribution')\n",
    "axes[0].set_ylabel('Potential Clients Count')\n",
    "axes[0].set_xlabel('Months')\n",
    "\n",
    "# 연령별\n",
    "sns.distplot(df['age'], kde=False, color=\"#3366ff\", ax=axes[1]).set_title('Age of Potentical Clients Distribution')\n",
    "axes[1].set_ylabel('Potential Clients Count')\n",
    "\n",
    "# 마케팅 콜 횟수\n",
    "sns.distplot(df['campaign'], kde=False, color=\"#546E7A\", ax=axes[2]).set_title('Calls Received in the Marketing Campaign')\n",
    "axes[2].set_ylabel('Potential Clients Count')\n",
    "\n",
    "plt.show()\n"
   ]
  },
  {
   "cell_type": "code",
   "execution_count": 22,
   "metadata": {},
   "outputs": [
    {
     "data": {
      "image/png": "[encoded data removed]",
      "text/plain": [
       "<Figure size 1080x576 with 1 Axes>"
      ]
     },
     "metadata": {},
     "output_type": "display_data"
    }
   ],
   "source": [
    "# 분석 1 : 월별 가입 수락률 분석\n",
    "fig = plt.figure(figsize=(15,8),)\n",
    "ax=sns.kdeplot(df.loc[(df['deposit'] == 0),'month_int'] , color='#F08080',shade=True,label='Refused a T.D Suscription')\n",
    "ax=sns.kdeplot(df.loc[(df['deposit'] == 1),'month_int'] , color='#00FA9A',shade=True, label='Accepted a T.D Suscription')\n",
    "ax.set(xlabel='Months of the Year', ylabel='Frequency')\n",
    "plt.title('Frequency of Distribution of Deposits by Month - Finding Useful Patterns')\n",
    "plt.show()\n"
   ]
  },
  {
   "cell_type": "code",
   "execution_count": 23,
   "metadata": {},
   "outputs": [
    {
     "data": {
      "image/png": "[encoded data removed]",
      "text/plain": [
       "<Figure size 864x576 with 1 Axes>"
      ]
     },
     "metadata": {},
     "output_type": "display_data"
    }
   ],
   "source": [
    "# 분석 2 : 마케팅 콜 횟수 및 연결 시간 대비 수락률 분석\n",
    "colors = ['#DD4040', '#58AD4B', '#0096AA', '#9B00AA']\n",
    "\n",
    "\n",
    "g = sns.lmplot(x='duration', y='campaign', data=df,\n",
    "           fit_reg=False, # No regression line\n",
    "           hue='deposit',\n",
    "        palette = colors,\n",
    "        scatter_kws={'alpha':0.6}\n",
    "          ) \n",
    "\n",
    "g.fig.set_size_inches(12,8)\n",
    "# title\n",
    "new_title = 'Status of Term Deposits'\n",
    "g._legend.set_title(new_title)\n",
    "# replace labels\n",
    "new_labels = ['Refused a T.D Suscription', 'Accepted a T.D Suscription']\n",
    "for t, l in zip(g._legend.texts, new_labels): t.set_text(l)\n",
    "\n",
    "plt.axis([0,66,0,65])\n",
    "\n",
    "# 가이드라인 위치 : 7번 마케팅 콜 이후로 거절비율이 급격히 증가한다.\n",
    "plt.axhline(y=7, linewidth=3, color=\"#424242\", linestyle='--')\n",
    "\n",
    "# 화살표 설명\n",
    "plt.annotate('7 Calls', xy=(33, 7), xytext=(33,13),\n",
    "            arrowprops=dict(facecolor='#190707', shrink=0.05))\n",
    "plt.xlabel('Duration of the Calls (Minutes)', fontsize=14)\n",
    "plt.ylabel('Campaign Calls', fontsize=14)\n",
    "\n",
    "plt.show()\n"
   ]
  },
  {
   "cell_type": "code",
   "execution_count": 24,
   "metadata": {},
   "outputs": [],
   "source": [
    "total_deposit = df['deposit'].count()\n",
    "per_deposit = df['deposit'].value_counts()/total_deposit * 100\n",
    "\n",
    "accepted = per_deposit[0]\n",
    "refused = per_deposit[1]\n"
   ]
  },
  {
   "cell_type": "code",
   "execution_count": 25,
   "metadata": {},
   "outputs": [
    {
     "name": "stdout",
     "output_type": "stream",
     "text": [
      "88.30151954170445 11.698480458295547\n"
     ]
    }
   ],
   "source": [
    "print(accepted, refused)"
   ]
  },
  {
   "cell_type": "code",
   "execution_count": 26,
   "metadata": {},
   "outputs": [
    {
     "name": "stdout",
     "output_type": "stream",
     "text": [
      "campaign         1          2          3          4          5          6   \\\n",
      "deposit                                                                      \n",
      "0         85.402417  88.796481  88.806376  90.999432  92.120181  92.873741   \n",
      "1         14.597583  11.203519  11.193624   9.000568   7.879819   7.126259   \n",
      "\n",
      "campaign         7          8          9          10  ...       39     41  \\\n",
      "deposit                                               ...                   \n",
      "0         93.605442  94.074074  93.577982  94.736842  ...    100.0  100.0   \n",
      "1          6.394558   5.925926   6.422018   5.263158  ...      0.0    0.0   \n",
      "\n",
      "campaign     43     44     46     50     51     55     58     63  \n",
      "deposit                                                           \n",
      "0         100.0  100.0  100.0  100.0  100.0  100.0  100.0  100.0  \n",
      "1           0.0    0.0    0.0    0.0    0.0    0.0    0.0    0.0  \n",
      "\n",
      "[2 rows x 48 columns]\n"
     ]
    }
   ],
   "source": [
    "success_rate = pd.crosstab(df['deposit'], df['campaign']).apply(lambda x: x/x.sum() * 100)\n",
    "print(success_rate) #Notice rejection for offers increases after three calls that should be the threshold for the marketing team\n",
    "#Nevetheless, this makes 90% of our potential clients so only 10% is likely to reject, we still save time and effort.\n",
    "onecall_nod = success_rate.at[0,1]\n",
    "onecall_d = success_rate.at[1,1]\n",
    "twocalls_nod = success_rate.at[0,2]\n",
    "twocalls_d = success_rate.at[1,2]\n",
    "threecalls_nod = success_rate.at[0,3]\n",
    "threecalls_d = success_rate.at[1,3]\n",
    "fourcalls_nod = success_rate.at[0,4]\n",
    "fourcalls_d = success_rate.at[1,4]\n",
    "fivecalls_nod = success_rate.at[0,5]\n",
    "fivecalls_d = success_rate.at[1,5]\n",
    "sixcalls_nod = success_rate.at[0,6]\n",
    "sixcalls_d = success_rate.at[1,6]\n",
    "sevencalls_nod = success_rate.at[0,7]\n",
    "sevencalls_d = success_rate.at[1,7]"
   ]
  },
  {
   "cell_type": "code",
   "execution_count": 27,
   "metadata": {},
   "outputs": [],
   "source": [
    "onecall_nod =  round(onecall_nod, 2)\n",
    "onecall_d = round(onecall_d, 2)\n",
    "twocalls_nod = round(twocalls_nod,2)\n",
    "twocalls_d = round(twocalls_d, 2)\n",
    "threecalls_nod = round(threecalls_nod, 2)\n",
    "threecalls_d = round(threecalls_d, 2)\n",
    "fourcalls_nod = round(fourcalls_nod, 2)\n",
    "fourcalls_d = round(fourcalls_d, 2)\n",
    "fivecalls_nod = round(fivecalls_nod, 2)\n",
    "fivecalls_d = round(fivecalls_d, 2)\n",
    "sixcalls_nod = round(sixcalls_nod, 2)\n",
    "sixcalls_d = round(sixcalls_d, 2)\n",
    "sevencalls_nod = round(sevencalls_nod, 2)\n",
    "sevencalls_d = round(sevencalls_d, 2)\n",
    "\n",
    "\n",
    "accepted = round(accepted, 2)\n",
    "refused = round(refused, 2)\n"
   ]
  },
  {
   "cell_type": "code",
   "execution_count": 28,
   "metadata": {},
   "outputs": [],
   "source": [
    "import plotly.plotly as py\n",
    "import plotly.graph_objs as go\n",
    "import plotly.figure_factory as FF\n",
    "\n",
    "# Add table data\n",
    "table_data = [['Number of <br> Calls', 'Refused T.D', 'Accepted T.D'],\n",
    "              ['One Call', onecall_nod , onecall_d],\n",
    "              ['Two Calls', twocalls_nod , twocalls_d],\n",
    "              ['Three Calls', threecalls_nod, threecalls_d],\n",
    "              ['Four Calls', fourcalls_nod, fourcalls_d],\n",
    "              ['Five Calls', fivecalls_nod, fivecalls_d],\n",
    "              ['Six Calls', sixcalls_nod, sixcalls_d],\n",
    "              ['Seven Calls', sevencalls_nod, sevencalls_d],\n",
    "              ['Overall Performance', refused, accepted]]\n",
    "# Initialize a figure with FF.create_table(table_data)\n",
    "figure = FF.create_table(table_data, height_constant=60)\n",
    "\n",
    "# Add graph data\n",
    "calls = ['One', 'Two', 'Three', 'Four', 'Five', 'Six', 'Seven', 'Overall Performance']\n",
    "Ref = [onecall_nod, twocalls_nod, threecalls_nod, fourcalls_nod, fivecalls_nod, sixcalls_nod, sevencalls_nod, refused]\n",
    "Acc = [onecall_d, twocalls_d, threecalls_d, fourcalls_d, fivecalls_d, sixcalls_d, sevencalls_d, accepted]\n"
   ]
  },
  {
   "cell_type": "code",
   "execution_count": 29,
   "metadata": {},
   "outputs": [
    {
     "name": "stdout",
     "output_type": "stream",
     "text": [
      "Figure({\n",
      "    'data': [{'colorscale': [[0, '#00083e'], [0.5, '#ededee'], [1, '#ffffff']],\n",
      "              'hoverinfo': 'none',\n",
      "              'opacity': 0.75,\n",
      "              'showscale': False,\n",
      "              'type': 'heatmap',\n",
      "              'uid': '004ebc0c-021f-49cb-bb40-32b815051fa3',\n",
      "              'z': [[0, 0, 0], [0.5, 0.5, 0.5], [1, 1, 1], [0.5, 0.5, 0.5], [1, 1,\n",
      "                    1], [0.5, 0.5, 0.5], [1, 1, 1], [0.5, 0.5, 0.5], [1, 1, 1]]}],\n",
      "    'layout': {'annotations': [{'align': 'left',\n",
      "                                'font': {'color': '#ffffff'},\n",
      "                                'showarrow': False,\n",
      "                                'text': '<b>Number of <br> Calls</b>',\n",
      "                                'x': -0.45,\n",
      "                                'xanchor': 'left',\n",
      "                                'xref': 'x',\n",
      "                                'y': 0,\n",
      "                                'yref': 'y'},\n",
      "                               {'align': 'left',\n",
      "                                'font': {'color': '#ffffff'},\n",
      "                                'showarrow': False,\n",
      "                                'text': '<b>Refused T.D</b>',\n",
      "                                'x': 0.55,\n",
      "                                'xanchor': 'left',\n",
      "                                'xref': 'x',\n",
      "                                'y': 0,\n",
      "                                'yref': 'y'},\n",
      "                               {'align': 'left',\n",
      "                                'font': {'color': '#ffffff'},\n",
      "                                'showarrow': False,\n",
      "                                'text': '<b>Accepted T.D</b>',\n",
      "                                'x': 1.55,\n",
      "                                'xanchor': 'left',\n",
      "                                'xref': 'x',\n",
      "                                'y': 0,\n",
      "                                'yref': 'y'},\n",
      "                               {'align': 'left',\n",
      "                                'font': {'color': '#000000'},\n",
      "                                'showarrow': False,\n",
      "                                'text': 'One Call',\n",
      "                                'x': -0.45,\n",
      "                                'xanchor': 'left',\n",
      "                                'xref': 'x',\n",
      "                                'y': 1,\n",
      "                                'yref': 'y'},\n",
      "                               {'align': 'left',\n",
      "                                'font': {'color': '#000000'},\n",
      "                                'showarrow': False,\n",
      "                                'text': '85.4',\n",
      "                                'x': 0.55,\n",
      "                                'xanchor': 'left',\n",
      "                                'xref': 'x',\n",
      "                                'y': 1,\n",
      "                                'yref': 'y'},\n",
      "                               {'align': 'left',\n",
      "                                'font': {'color': '#000000'},\n",
      "                                'showarrow': False,\n",
      "                                'text': '14.6',\n",
      "                                'x': 1.55,\n",
      "                                'xanchor': 'left',\n",
      "                                'xref': 'x',\n",
      "                                'y': 1,\n",
      "                                'yref': 'y'},\n",
      "                               {'align': 'left',\n",
      "                                'font': {'color': '#000000'},\n",
      "                                'showarrow': False,\n",
      "                                'text': 'Two Calls',\n",
      "                                'x': -0.45,\n",
      "                                'xanchor': 'left',\n",
      "                                'xref': 'x',\n",
      "                                'y': 2,\n",
      "                                'yref': 'y'},\n",
      "                               {'align': 'left',\n",
      "                                'font': {'color': '#000000'},\n",
      "                                'showarrow': False,\n",
      "                                'text': '88.8',\n",
      "                                'x': 0.55,\n",
      "                                'xanchor': 'left',\n",
      "                                'xref': 'x',\n",
      "                                'y': 2,\n",
      "                                'yref': 'y'},\n",
      "                               {'align': 'left',\n",
      "                                'font': {'color': '#000000'},\n",
      "                                'showarrow': False,\n",
      "                                'text': '11.2',\n",
      "                                'x': 1.55,\n",
      "                                'xanchor': 'left',\n",
      "                                'xref': 'x',\n",
      "                                'y': 2,\n",
      "                                'yref': 'y'},\n",
      "                               {'align': 'left',\n",
      "                                'font': {'color': '#000000'},\n",
      "                                'showarrow': False,\n",
      "                                'text': 'Three Calls',\n",
      "                                'x': -0.45,\n",
      "                                'xanchor': 'left',\n",
      "                                'xref': 'x',\n",
      "                                'y': 3,\n",
      "                                'yref': 'y'},\n",
      "                               {'align': 'left',\n",
      "                                'font': {'color': '#000000'},\n",
      "                                'showarrow': False,\n",
      "                                'text': '88.81',\n",
      "                                'x': 0.55,\n",
      "                                'xanchor': 'left',\n",
      "                                'xref': 'x',\n",
      "                                'y': 3,\n",
      "                                'yref': 'y'},\n",
      "                               {'align': 'left',\n",
      "                                'font': {'color': '#000000'},\n",
      "                                'showarrow': False,\n",
      "                                'text': '11.19',\n",
      "                                'x': 1.55,\n",
      "                                'xanchor': 'left',\n",
      "                                'xref': 'x',\n",
      "                                'y': 3,\n",
      "                                'yref': 'y'},\n",
      "                               {'align': 'left',\n",
      "                                'font': {'color': '#000000'},\n",
      "                                'showarrow': False,\n",
      "                                'text': 'Four Calls',\n",
      "                                'x': -0.45,\n",
      "                                'xanchor': 'left',\n",
      "                                'xref': 'x',\n",
      "                                'y': 4,\n",
      "                                'yref': 'y'},\n",
      "                               {'align': 'left',\n",
      "                                'font': {'color': '#000000'},\n",
      "                                'showarrow': False,\n",
      "                                'text': '91.0',\n",
      "                                'x': 0.55,\n",
      "                                'xanchor': 'left',\n",
      "                                'xref': 'x',\n",
      "                                'y': 4,\n",
      "                                'yref': 'y'},\n",
      "                               {'align': 'left',\n",
      "                                'font': {'color': '#000000'},\n",
      "                                'showarrow': False,\n",
      "                                'text': '9.0',\n",
      "                                'x': 1.55,\n",
      "                                'xanchor': 'left',\n",
      "                                'xref': 'x',\n",
      "                                'y': 4,\n",
      "                                'yref': 'y'},\n",
      "                               {'align': 'left',\n",
      "                                'font': {'color': '#000000'},\n",
      "                                'showarrow': False,\n",
      "                                'text': 'Five Calls',\n",
      "                                'x': -0.45,\n",
      "                                'xanchor': 'left',\n",
      "                                'xref': 'x',\n",
      "                                'y': 5,\n",
      "                                'yref': 'y'},\n",
      "                               {'align': 'left',\n",
      "                                'font': {'color': '#000000'},\n",
      "                                'showarrow': False,\n",
      "                                'text': '92.12',\n",
      "                                'x': 0.55,\n",
      "                                'xanchor': 'left',\n",
      "                                'xref': 'x',\n",
      "                                'y': 5,\n",
      "                                'yref': 'y'},\n",
      "                               {'align': 'left',\n",
      "                                'font': {'color': '#000000'},\n",
      "                                'showarrow': False,\n",
      "                                'text': '7.88',\n",
      "                                'x': 1.55,\n",
      "                                'xanchor': 'left',\n",
      "                                'xref': 'x',\n",
      "                                'y': 5,\n",
      "                                'yref': 'y'},\n",
      "                               {'align': 'left',\n",
      "                                'font': {'color': '#000000'},\n",
      "                                'showarrow': False,\n",
      "                                'text': 'Six Calls',\n",
      "                                'x': -0.45,\n",
      "                                'xanchor': 'left',\n",
      "                                'xref': 'x',\n",
      "                                'y': 6,\n",
      "                                'yref': 'y'},\n",
      "                               {'align': 'left',\n",
      "                                'font': {'color': '#000000'},\n",
      "                                'showarrow': False,\n",
      "                                'text': '92.87',\n",
      "                                'x': 0.55,\n",
      "                                'xanchor': 'left',\n",
      "                                'xref': 'x',\n",
      "                                'y': 6,\n",
      "                                'yref': 'y'},\n",
      "                               {'align': 'left',\n",
      "                                'font': {'color': '#000000'},\n",
      "                                'showarrow': False,\n",
      "                                'text': '7.13',\n",
      "                                'x': 1.55,\n",
      "                                'xanchor': 'left',\n",
      "                                'xref': 'x',\n",
      "                                'y': 6,\n",
      "                                'yref': 'y'},\n",
      "                               {'align': 'left',\n",
      "                                'font': {'color': '#000000'},\n",
      "                                'showarrow': False,\n",
      "                                'text': 'Seven Calls',\n",
      "                                'x': -0.45,\n",
      "                                'xanchor': 'left',\n",
      "                                'xref': 'x',\n",
      "                                'y': 7,\n",
      "                                'yref': 'y'},\n",
      "                               {'align': 'left',\n",
      "                                'font': {'color': '#000000'},\n",
      "                                'showarrow': False,\n",
      "                                'text': '93.61',\n",
      "                                'x': 0.55,\n",
      "                                'xanchor': 'left',\n",
      "                                'xref': 'x',\n",
      "                                'y': 7,\n",
      "                                'yref': 'y'},\n",
      "                               {'align': 'left',\n",
      "                                'font': {'color': '#000000'},\n",
      "                                'showarrow': False,\n",
      "                                'text': '6.39',\n",
      "                                'x': 1.55,\n",
      "                                'xanchor': 'left',\n",
      "                                'xref': 'x',\n",
      "                                'y': 7,\n",
      "                                'yref': 'y'},\n",
      "                               {'align': 'left',\n",
      "                                'font': {'color': '#000000'},\n",
      "                                'showarrow': False,\n",
      "                                'text': 'Overall Performance',\n",
      "                                'x': -0.45,\n",
      "                                'xanchor': 'left',\n",
      "                                'xref': 'x',\n",
      "                                'y': 8,\n",
      "                                'yref': 'y'},\n",
      "                               {'align': 'left',\n",
      "                                'font': {'color': '#000000'},\n",
      "                                'showarrow': False,\n",
      "                                'text': '11.7',\n",
      "                                'x': 0.55,\n",
      "                                'xanchor': 'left',\n",
      "                                'xref': 'x',\n",
      "                                'y': 8,\n",
      "                                'yref': 'y'},\n",
      "                               {'align': 'left',\n",
      "                                'font': {'color': '#000000'},\n",
      "                                'showarrow': False,\n",
      "                                'text': '88.3',\n",
      "                                'x': 1.55,\n",
      "                                'xanchor': 'left',\n",
      "                                'xref': 'x',\n",
      "                                'y': 8,\n",
      "                                'yref': 'y'}],\n",
      "               'height': 590,\n",
      "               'margin': {'b': 0, 'l': 0, 'r': 0, 't': 0},\n",
      "               'xaxis': {'dtick': 1,\n",
      "                         'gridwidth': 2,\n",
      "                         'showticklabels': False,\n",
      "                         'tick0': -0.5,\n",
      "                         'ticks': '',\n",
      "                         'zeroline': False},\n",
      "               'yaxis': {'autorange': 'reversed',\n",
      "                         'dtick': 1,\n",
      "                         'gridwidth': 2,\n",
      "                         'showticklabels': False,\n",
      "                         'tick0': 0.5,\n",
      "                         'ticks': '',\n",
      "                         'zeroline': False}}\n",
      "})\n"
     ]
    }
   ],
   "source": [
    "print(figure)"
   ]
  },
  {
   "cell_type": "code",
   "execution_count": 30,
   "metadata": {},
   "outputs": [
    {
     "data": {
      "text/plain": [
       "deposit           int64\n",
       "age               int64\n",
       "job              object\n",
       "marital          object\n",
       "education        object\n",
       "balance           int64\n",
       "contact          object\n",
       "month            object\n",
       "duration        float64\n",
       "campaign          int64\n",
       "pdays             int64\n",
       "previous          int64\n",
       "poutcome         object\n",
       "housing_int       int64\n",
       "loan_int          int64\n",
       "default_int       int64\n",
       "month_int         int64\n",
       "age_category      int64\n",
       "dtype: object"
      ]
     },
     "execution_count": 30,
     "metadata": {},
     "output_type": "execute_result"
    }
   ],
   "source": [
    "lst = [df]\n",
    "for column in lst:\n",
    "    column.loc[column[\"age\"] < 30,  \"age_category\"] = 20\n",
    "    column.loc[(column[\"age\"] >= 30) & (column[\"age\"] <= 39), \"age_category\"] = 30\n",
    "    column.loc[(column[\"age\"] >= 40) & (column[\"age\"] <= 49), \"age_category\"] = 40\n",
    "    column.loc[(column[\"age\"] >= 50) & (column[\"age\"] <= 59), \"age_category\"] = 50\n",
    "    column.loc[column[\"age\"] >= 60, \"age_category\"] = 60\n",
    " \n",
    "df['age_category'] = df['age_category'].astype(np.int64)\n",
    "df.dtypes\n"
   ]
  },
  {
   "cell_type": "code",
   "execution_count": 31,
   "metadata": {},
   "outputs": [
    {
     "data": {
      "text/html": [
       "<div>\n",
       "<style scoped>\n",
       "    .dataframe tbody tr th:only-of-type {\n",
       "        vertical-align: middle;\n",
       "    }\n",
       "\n",
       "    .dataframe tbody tr th {\n",
       "        vertical-align: top;\n",
       "    }\n",
       "\n",
       "    .dataframe thead th {\n",
       "        text-align: right;\n",
       "    }\n",
       "</style>\n",
       "<table border=\"1\" class=\"dataframe\">\n",
       "  <thead>\n",
       "    <tr style=\"text-align: right;\">\n",
       "      <th>age_category</th>\n",
       "      <th>20</th>\n",
       "      <th>30</th>\n",
       "      <th>40</th>\n",
       "      <th>50</th>\n",
       "      <th>60</th>\n",
       "    </tr>\n",
       "    <tr>\n",
       "      <th>deposit</th>\n",
       "      <th></th>\n",
       "      <th></th>\n",
       "      <th></th>\n",
       "      <th></th>\n",
       "      <th></th>\n",
       "    </tr>\n",
       "  </thead>\n",
       "  <tbody>\n",
       "    <tr>\n",
       "      <th>0</th>\n",
       "      <td>82.40091</td>\n",
       "      <td>89.424512</td>\n",
       "      <td>90.879451</td>\n",
       "      <td>90.665874</td>\n",
       "      <td>66.367713</td>\n",
       "    </tr>\n",
       "    <tr>\n",
       "      <th>1</th>\n",
       "      <td>17.59909</td>\n",
       "      <td>10.575488</td>\n",
       "      <td>9.120549</td>\n",
       "      <td>9.334126</td>\n",
       "      <td>33.632287</td>\n",
       "    </tr>\n",
       "  </tbody>\n",
       "</table>\n",
       "</div>"
      ],
      "text/plain": [
       "age_category        20         30         40         50         60\n",
       "deposit                                                           \n",
       "0             82.40091  89.424512  90.879451  90.665874  66.367713\n",
       "1             17.59909  10.575488   9.120549   9.334126  33.632287"
      ]
     },
     "execution_count": 31,
     "metadata": {},
     "output_type": "execute_result"
    }
   ],
   "source": [
    "cross_age_category = pd.crosstab(df['deposit'], df['age_category']).apply(lambda x: x/x.sum() * 100)\n",
    "cross_age_category\n"
   ]
  },
  {
   "cell_type": "code",
   "execution_count": 32,
   "metadata": {},
   "outputs": [
    {
     "data": {
      "image/png": "[encoded data removed]",
      "text/plain": [
       "<Figure size 864x576 with 1 Axes>"
      ]
     },
     "metadata": {},
     "output_type": "display_data"
    }
   ],
   "source": [
    "import seaborn as sns\n",
    "sns.set(style=\"white\")\n",
    "fig, ax = plt.subplots(figsize=(12,8))\n",
    "sns.countplot(x=\"age_category\", data=df, palette=\"Set2\")\n",
    "ax.set_title(\"Different Age Categories\", fontsize=20)\n",
    "ax.set_xlabel(\"Age Categories\")\n",
    "plt.show()\n"
   ]
  },
  {
   "cell_type": "code",
   "execution_count": 33,
   "metadata": {},
   "outputs": [
    {
     "data": {
      "image/png": "[encoded data removed]",
      "text/plain": [
       "<Figure size 1080x288 with 1 Axes>"
      ]
     },
     "metadata": {},
     "output_type": "display_data"
    }
   ],
   "source": [
    "sns.set(style=\"white\")\n",
    "fig, ax = plt.subplots(figsize=(15, 4))\n",
    "colors = [\"#F08080\", \"#00FA9A\"]\n",
    "labels = ['No Deposit', 'Deposit']\n",
    "sns.countplot(y=\"age_category\", hue='deposit', data=df, palette=colors).set_title('Employee Salary Turnover Distribution')\n",
    "ax.set_ylabel(\"Age Category\")\n",
    "legend_name = plt.legend()\n",
    "legend_name.get_texts()[0].set_text('Refused a T.D Suscription')\n",
    "legend_name.get_texts()[1].set_text('Accepted a T.D Suscription')\n"
   ]
  },
  {
   "cell_type": "code",
   "execution_count": 34,
   "metadata": {},
   "outputs": [],
   "source": [
    "plt.show()"
   ]
  },
  {
   "cell_type": "code",
   "execution_count": 35,
   "metadata": {},
   "outputs": [
    {
     "data": {
      "image/png": "[encoded data removed]",
      "text/plain": [
       "<Figure size 1008x576 with 1 Axes>"
      ]
     },
     "metadata": {},
     "output_type": "display_data"
    }
   ],
   "source": [
    "sns.set(style=\"white\")\n",
    "fig, ax = plt.subplots(figsize=(14,8))\n",
    "sns.countplot(x=\"job\", data=df, palette=\"Set1\")\n",
    "ax.set_title(\"Occupations of Potential Clients\", fontsize=20)\n",
    "ax.set_xlabel(\"Types of Jobs\")\n",
    "plt.show()\n"
   ]
  },
  {
   "cell_type": "code",
   "execution_count": 36,
   "metadata": {},
   "outputs": [
    {
     "name": "stdout",
     "output_type": "stream",
     "text": [
      "job         admin.  blue-collar  entrepreneur  housemaid  management  \\\n",
      "deposit                                                                \n",
      "0        87.797331    92.725031     91.728312  91.209677   86.244449   \n",
      "1        12.202669     7.274969      8.271688   8.790323   13.755551   \n",
      "\n",
      "job        retired  self-employed   services    student  technician  \\\n",
      "deposit                                                               \n",
      "0        77.208481      88.157061  91.116996  71.321962   88.943004   \n",
      "1        22.791519      11.842939   8.883004  28.678038   11.056996   \n",
      "\n",
      "job      unemployed    unknown  \n",
      "deposit                         \n",
      "0         84.497314  88.194444  \n",
      "1         15.502686  11.805556  \n"
     ]
    }
   ],
   "source": [
    "cross_job_category = pd.crosstab(df['deposit'], df['job']).apply(lambda x: x/x.sum() * 100)\n",
    "print(cross_job_category)"
   ]
  },
  {
   "cell_type": "code",
   "execution_count": 37,
   "metadata": {},
   "outputs": [
    {
     "data": {
      "text/plain": [
       "[[87.8],\n",
       " [92.7],\n",
       " [91.7],\n",
       " [91.2],\n",
       " [86.2],\n",
       " [77.2],\n",
       " [88.2],\n",
       " [91.1],\n",
       " [71.3],\n",
       " [88.9],\n",
       " [84.5],\n",
       " [88.2]]"
      ]
     },
     "execution_count": 37,
     "metadata": {},
     "output_type": "execute_result"
    }
   ],
   "source": [
    "nodeposit_by_job = pd.DataFrame(cross_job_category.iloc[0])\n",
    "nodeposit_by_job = np.around(nodeposit_by_job, 1)\n",
    "nodeposit_by_job = nodeposit_by_job.values.tolist()\n",
    "deposit_by_job = pd.DataFrame(cross_job_category.iloc[1])\n",
    "deposit_by_job = np.around(deposit_by_job, 1)\n",
    "deposit_by_job = deposit_by_job.values.tolist()\n",
    "\n",
    "nodeposit_by_job\n"
   ]
  },
  {
   "cell_type": "code",
   "execution_count": 38,
   "metadata": {},
   "outputs": [
    {
     "data": {
      "text/plain": [
       "[[12.2],\n",
       " [7.3],\n",
       " [8.3],\n",
       " [8.8],\n",
       " [13.8],\n",
       " [22.8],\n",
       " [11.8],\n",
       " [8.9],\n",
       " [28.7],\n",
       " [11.1],\n",
       " [15.5],\n",
       " [11.8]]"
      ]
     },
     "execution_count": 38,
     "metadata": {},
     "output_type": "execute_result"
    }
   ],
   "source": [
    "deposit_by_job"
   ]
  },
  {
   "cell_type": "code",
   "execution_count": 40,
   "metadata": {},
   "outputs": [
    {
     "ename": "TypeError",
     "evalue": "xlabel() missing 1 required positional argument: 'xlabel'",
     "output_type": "error",
     "traceback": [
      "\u001b[0;31m---------------------------------------------------------------------------\u001b[0m",
      "\u001b[0;31mTypeError\u001b[0m                                 Traceback (most recent call last)",
      "\u001b[0;32m<ipython-input-40-68705d84cce0>\u001b[0m in \u001b[0;36m<module>\u001b[0;34m\u001b[0m\n\u001b[1;32m      8\u001b[0m                   data=df, palette={0:'#F08080', 1:'#00FA9A'})\n\u001b[1;32m      9\u001b[0m \u001b[0mplt\u001b[0m\u001b[0;34m.\u001b[0m\u001b[0mtitle\u001b[0m\u001b[0;34m(\u001b[0m\u001b[0;34m\"Age vs Occupation\"\u001b[0m\u001b[0;34m,\u001b[0m \u001b[0mfontsize\u001b[0m\u001b[0;34m=\u001b[0m\u001b[0;36m16\u001b[0m\u001b[0;34m)\u001b[0m\u001b[0;34m\u001b[0m\u001b[0m\n\u001b[0;32m---> 10\u001b[0;31m \u001b[0mplt\u001b[0m\u001b[0;34m.\u001b[0m\u001b[0mxlabel\u001b[0m\u001b[0;34m(\u001b[0m\u001b[0ms\u001b[0m\u001b[0;34m=\u001b[0m\u001b[0;34m\"Type of Job\"\u001b[0m\u001b[0;34m,\u001b[0m \u001b[0mfontsize\u001b[0m\u001b[0;34m=\u001b[0m\u001b[0;36m14\u001b[0m\u001b[0;34m)\u001b[0m\u001b[0;34m\u001b[0m\u001b[0m\n\u001b[0m\u001b[1;32m     11\u001b[0m \u001b[0mplt\u001b[0m\u001b[0;34m.\u001b[0m\u001b[0mylabel\u001b[0m\u001b[0;34m(\u001b[0m\u001b[0ms\u001b[0m\u001b[0;34m=\u001b[0m\u001b[0;34m\"Age\"\u001b[0m\u001b[0;34m,\u001b[0m \u001b[0mfontsize\u001b[0m\u001b[0;34m=\u001b[0m\u001b[0;36m14\u001b[0m\u001b[0;34m)\u001b[0m\u001b[0;34m\u001b[0m\u001b[0m\n\u001b[1;32m     12\u001b[0m \u001b[0mlegend_name\u001b[0m \u001b[0;34m=\u001b[0m \u001b[0mplt\u001b[0m\u001b[0;34m.\u001b[0m\u001b[0mlegend\u001b[0m\u001b[0;34m(\u001b[0m\u001b[0;34m)\u001b[0m\u001b[0;34m\u001b[0m\u001b[0m\n",
      "\u001b[0;31mTypeError\u001b[0m: xlabel() missing 1 required positional argument: 'xlabel'"
     ]
    },
    {
     "data": {
      "image/png": "[encoded data removed]",
      "text/plain": [
       "<Figure size 1008x576 with 1 Axes>"
      ]
     },
     "metadata": {},
     "output_type": "display_data"
    }
   ],
   "source": [
    "import seaborn as sns\n",
    "\n",
    "# Consider removing this graph unless it tells us something.\n",
    "\n",
    "ax = plt.figure(figsize=(14,8))\n",
    "# 0 = Did not suscribe term deposits, 1 = Did suscribe term deposits.\n",
    "ax = sns.boxplot(x=\"job\", y=\"age\", hue=\"deposit\",\n",
    "                  data=df, palette={0:'#F08080', 1:'#00FA9A'})\n",
    "plt.title(\"Age vs Occupation\", fontsize=16)\n",
    "plt.xlabel(s=\"Type of Job\", fontsize=14)\n",
    "plt.ylabel(s=\"Age\", fontsize=14)\n",
    "legend_name = plt.legend()\n",
    "legend_name.get_texts()[0].set_text('Refused Opening a T.D')\n",
    "legend_name.get_texts()[1].set_text('Accepted Opening a T.D')\n",
    "\n",
    "plt.show()\n"
   ]
  },
  {
   "cell_type": "code",
   "execution_count": 41,
   "metadata": {},
   "outputs": [
    {
     "data": {
      "image/png": "[encoded data removed]",
      "text/plain": [
       "<Figure size 1296x1080 with 2 Axes>"
      ]
     },
     "metadata": {},
     "output_type": "display_data"
    }
   ],
   "source": [
    "# 전체 변수 correlation 분석\n",
    "corr = df.corr()\n",
    "\n",
    "sns.heatmap(corr,annot=True,cmap='RdYlGn',linewidths=0.2,annot_kws={'size':20})\n",
    "fig=plt.gcf()\n",
    "fig.set_size_inches(18,15)\n",
    "plt.xticks(fontsize=14)\n",
    "plt.yticks(fontsize=14)\n",
    "plt.show()\n"
   ]
  },
  {
   "cell_type": "code",
   "execution_count": 42,
   "metadata": {},
   "outputs": [
    {
     "data": {
      "text/plain": [
       "low balance        23300\n",
       "average balance    11786\n",
       "no balance          7280\n",
       "high balance        2845\n",
       "Name: balance_categories, dtype: int64"
      ]
     },
     "execution_count": 42,
     "metadata": {},
     "output_type": "execute_result"
    }
   ],
   "source": [
    "df['balance_categories'] = np.nan\n",
    "\n",
    "lst = [df]\n",
    "\n",
    "for column in lst:\n",
    "    column.loc[column['balance'] <= 0, 'balance_categories'] = 'no balance'\n",
    "    column.loc[(column['balance'] > 0) & (column['balance'] <= 1000), 'balance_categories'] = 'low balance'\n",
    "    column.loc[(column['balance'] > 1000) & (column['balance'] <= 5000), 'balance_categories'] = 'average balance'\n",
    "    column.loc[column['balance'] > 5000, 'balance_categories'] = 'high balance'\n",
    "    \n",
    "df.head()\n",
    "df['balance_categories'].value_counts()"
   ]
  },
  {
   "cell_type": "code",
   "execution_count": 43,
   "metadata": {},
   "outputs": [
    {
     "data": {
      "image/png": "[encoded data removed]",
      "text/plain": [
       "<Figure size 864x576 with 1 Axes>"
      ]
     },
     "metadata": {},
     "output_type": "display_data"
    }
   ],
   "source": [
    "fig, ax = plt.subplots(figsize=(12,8))\n",
    "g = sns.countplot(x=\"balance_categories\", data=df)\n",
    "\n",
    "plt.title(\"Target Request per Balance Categories\")\n",
    "plt.xlabel('Balance Categories')\n",
    "plt.ylabel(\"Number of Potential Clients Targeted\")\n",
    "\n",
    "plt.show()"
   ]
  },
  {
   "cell_type": "code",
   "execution_count": 44,
   "metadata": {},
   "outputs": [
    {
     "data": {
      "image/png": "[encoded data removed]",
      "text/plain": [
       "<Figure size 864x576 with 1 Axes>"
      ]
     },
     "metadata": {},
     "output_type": "display_data"
    }
   ],
   "source": [
    "fig, ax = plt.subplots(figsize=(12,8))\n",
    "g = sns.countplot(x=\"balance_categories\", data=df, hue='deposit', palette={0:'#F08080', 1:'#00FA9A'})\n",
    "\n",
    "legend_name = plt.legend()\n",
    "legend_name.get_texts()[0].set_text('Refused to Suscribe a T.D')\n",
    "legend_name.get_texts()[1].set_text('Accepted to Suscribe a T.D')\n",
    "plt.xlabel('Balance Categories')\n",
    "\n",
    "\n",
    "plt.show()\n"
   ]
  },
  {
   "cell_type": "code",
   "execution_count": 45,
   "metadata": {
    "scrolled": true
   },
   "outputs": [
    {
     "name": "stderr",
     "output_type": "stream",
     "text": [
      "/Users/a80099708/anaconda3/lib/python3.6/site-packages/seaborn/categorical.py:3666: UserWarning:\n",
      "\n",
      "The `factorplot` function has been renamed to `catplot`. The original name will be removed in a future release. Please update your code. Note that the default `kind` in `factorplot` (`'point'`) has changed `'strip'` in `catplot`.\n",
      "\n",
      "/Users/a80099708/anaconda3/lib/python3.6/site-packages/seaborn/categorical.py:3672: UserWarning:\n",
      "\n",
      "The `size` paramter has been renamed to `height`; please update your code.\n",
      "\n"
     ]
    },
    {
     "data": {
      "image/png": "[encoded data removed]",
      "text/plain": [
       "<Figure size 1053.73x288 with 5 Axes>"
      ]
     },
     "metadata": {},
     "output_type": "display_data"
    }
   ],
   "source": [
    "colors = ['255, 87, 51', '93, 109, 126  ']\n",
    "labels = [\"No\", \"Yes\"]\n",
    "\n",
    "g = sns.factorplot(x=\"balance_categories\",\n",
    "                   hue=\"deposit\", col=\"age_category\",\n",
    "                   data=df, kind=\"count\",\n",
    "                   size=4, aspect=.7, palette={0:'#DD4040', 1:'#58AD4B'});\n",
    "\n",
    "g.set_xticklabels(rotation=30)\n",
    "g.axes[0,0].set_xlabel('')\n",
    "g.axes[0,1].set_xlabel('')\n",
    "g.axes[0,2].set_xlabel('Balance Categories')\n",
    "g.axes[0,3].set_xlabel('')\n",
    "g.axes[0,4].set_xlabel('')\n",
    "\n",
    "# Set title\n",
    "g.axes[0,0].set_title('Youngest Category')\n",
    "g.axes[0,1].set_title('In their 30s')\n",
    "g.axes[0,2].set_title('In their 40s')\n",
    "g.axes[0,3].set_title('In their 50s')\n",
    "g.axes[0,4].set_title('Eldest Category')\n",
    "g.axes[0,0].set_ylabel('Amount of Balance')\n",
    "# replace labels\n",
    "new_labels = ['Refused', 'Accepted']\n",
    "for t, l in zip(g._legend.texts, new_labels): t.set_text(l)\n",
    "\n",
    "plt.show()\n"
   ]
  },
  {
   "cell_type": "code",
   "execution_count": 46,
   "metadata": {},
   "outputs": [],
   "source": [
    "# 데이터 가공전 백업처리\n",
    "df2 = df"
   ]
  },
  {
   "cell_type": "code",
   "execution_count": 47,
   "metadata": {},
   "outputs": [
    {
     "data": {
      "text/html": [
       "<div>\n",
       "<style scoped>\n",
       "    .dataframe tbody tr th:only-of-type {\n",
       "        vertical-align: middle;\n",
       "    }\n",
       "\n",
       "    .dataframe tbody tr th {\n",
       "        vertical-align: top;\n",
       "    }\n",
       "\n",
       "    .dataframe thead th {\n",
       "        text-align: right;\n",
       "    }\n",
       "</style>\n",
       "<table border=\"1\" class=\"dataframe\">\n",
       "  <thead>\n",
       "    <tr style=\"text-align: right;\">\n",
       "      <th></th>\n",
       "      <th>deposit</th>\n",
       "      <th>age</th>\n",
       "      <th>job</th>\n",
       "      <th>marital</th>\n",
       "      <th>education</th>\n",
       "      <th>balance</th>\n",
       "      <th>contact</th>\n",
       "      <th>month</th>\n",
       "      <th>duration</th>\n",
       "      <th>campaign</th>\n",
       "      <th>pdays</th>\n",
       "      <th>previous</th>\n",
       "      <th>poutcome</th>\n",
       "      <th>housing_int</th>\n",
       "      <th>loan_int</th>\n",
       "      <th>default_int</th>\n",
       "      <th>month_int</th>\n",
       "      <th>age_category</th>\n",
       "      <th>balance_categories</th>\n",
       "    </tr>\n",
       "  </thead>\n",
       "  <tbody>\n",
       "    <tr>\n",
       "      <th>0</th>\n",
       "      <td>0</td>\n",
       "      <td>58</td>\n",
       "      <td>management</td>\n",
       "      <td>married</td>\n",
       "      <td>tertiary</td>\n",
       "      <td>2143</td>\n",
       "      <td>unknown</td>\n",
       "      <td>may</td>\n",
       "      <td>4.35</td>\n",
       "      <td>1</td>\n",
       "      <td>-1</td>\n",
       "      <td>0</td>\n",
       "      <td>unknown</td>\n",
       "      <td>1</td>\n",
       "      <td>0</td>\n",
       "      <td>0</td>\n",
       "      <td>5</td>\n",
       "      <td>50</td>\n",
       "      <td>average balance</td>\n",
       "    </tr>\n",
       "    <tr>\n",
       "      <th>1</th>\n",
       "      <td>0</td>\n",
       "      <td>44</td>\n",
       "      <td>technician</td>\n",
       "      <td>single</td>\n",
       "      <td>secondary</td>\n",
       "      <td>29</td>\n",
       "      <td>unknown</td>\n",
       "      <td>may</td>\n",
       "      <td>2.52</td>\n",
       "      <td>1</td>\n",
       "      <td>-1</td>\n",
       "      <td>0</td>\n",
       "      <td>unknown</td>\n",
       "      <td>1</td>\n",
       "      <td>0</td>\n",
       "      <td>0</td>\n",
       "      <td>5</td>\n",
       "      <td>40</td>\n",
       "      <td>low balance</td>\n",
       "    </tr>\n",
       "    <tr>\n",
       "      <th>2</th>\n",
       "      <td>0</td>\n",
       "      <td>33</td>\n",
       "      <td>entrepreneur</td>\n",
       "      <td>married</td>\n",
       "      <td>secondary</td>\n",
       "      <td>2</td>\n",
       "      <td>unknown</td>\n",
       "      <td>may</td>\n",
       "      <td>1.27</td>\n",
       "      <td>1</td>\n",
       "      <td>-1</td>\n",
       "      <td>0</td>\n",
       "      <td>unknown</td>\n",
       "      <td>1</td>\n",
       "      <td>1</td>\n",
       "      <td>0</td>\n",
       "      <td>5</td>\n",
       "      <td>30</td>\n",
       "      <td>low balance</td>\n",
       "    </tr>\n",
       "    <tr>\n",
       "      <th>3</th>\n",
       "      <td>0</td>\n",
       "      <td>47</td>\n",
       "      <td>blue-collar</td>\n",
       "      <td>married</td>\n",
       "      <td>unknown</td>\n",
       "      <td>1506</td>\n",
       "      <td>unknown</td>\n",
       "      <td>may</td>\n",
       "      <td>1.53</td>\n",
       "      <td>1</td>\n",
       "      <td>-1</td>\n",
       "      <td>0</td>\n",
       "      <td>unknown</td>\n",
       "      <td>1</td>\n",
       "      <td>0</td>\n",
       "      <td>0</td>\n",
       "      <td>5</td>\n",
       "      <td>40</td>\n",
       "      <td>average balance</td>\n",
       "    </tr>\n",
       "    <tr>\n",
       "      <th>4</th>\n",
       "      <td>0</td>\n",
       "      <td>33</td>\n",
       "      <td>unknown</td>\n",
       "      <td>single</td>\n",
       "      <td>unknown</td>\n",
       "      <td>1</td>\n",
       "      <td>unknown</td>\n",
       "      <td>may</td>\n",
       "      <td>3.30</td>\n",
       "      <td>1</td>\n",
       "      <td>-1</td>\n",
       "      <td>0</td>\n",
       "      <td>unknown</td>\n",
       "      <td>0</td>\n",
       "      <td>0</td>\n",
       "      <td>0</td>\n",
       "      <td>5</td>\n",
       "      <td>30</td>\n",
       "      <td>low balance</td>\n",
       "    </tr>\n",
       "  </tbody>\n",
       "</table>\n",
       "</div>"
      ],
      "text/plain": [
       "   deposit  age           job  marital  education  balance  contact month  \\\n",
       "0        0   58    management  married   tertiary     2143  unknown   may   \n",
       "1        0   44    technician   single  secondary       29  unknown   may   \n",
       "2        0   33  entrepreneur  married  secondary        2  unknown   may   \n",
       "3        0   47   blue-collar  married    unknown     1506  unknown   may   \n",
       "4        0   33       unknown   single    unknown        1  unknown   may   \n",
       "\n",
       "   duration  campaign  pdays  previous poutcome  housing_int  loan_int  \\\n",
       "0      4.35         1     -1         0  unknown            1         0   \n",
       "1      2.52         1     -1         0  unknown            1         0   \n",
       "2      1.27         1     -1         0  unknown            1         1   \n",
       "3      1.53         1     -1         0  unknown            1         0   \n",
       "4      3.30         1     -1         0  unknown            0         0   \n",
       "\n",
       "   default_int  month_int  age_category balance_categories  \n",
       "0            0          5            50    average balance  \n",
       "1            0          5            40        low balance  \n",
       "2            0          5            30        low balance  \n",
       "3            0          5            40    average balance  \n",
       "4            0          5            30        low balance  "
      ]
     },
     "execution_count": 47,
     "metadata": {},
     "output_type": "execute_result"
    }
   ],
   "source": [
    "# 문자형(범주형 변수) 제거\n",
    "df2.head()"
   ]
  },
  {
   "cell_type": "code",
   "execution_count": 48,
   "metadata": {},
   "outputs": [],
   "source": [
    "# 변환전 3개 컬럼은 drop 처리한다.\n",
    "df2.drop(['job', 'marital', 'education', 'contact', 'month', 'poutcome','age_category','balance_categories'], axis=1, inplace=True)"
   ]
  },
  {
   "cell_type": "code",
   "execution_count": 49,
   "metadata": {},
   "outputs": [
    {
     "data": {
      "text/html": [
       "<div>\n",
       "<style scoped>\n",
       "    .dataframe tbody tr th:only-of-type {\n",
       "        vertical-align: middle;\n",
       "    }\n",
       "\n",
       "    .dataframe tbody tr th {\n",
       "        vertical-align: top;\n",
       "    }\n",
       "\n",
       "    .dataframe thead th {\n",
       "        text-align: right;\n",
       "    }\n",
       "</style>\n",
       "<table border=\"1\" class=\"dataframe\">\n",
       "  <thead>\n",
       "    <tr style=\"text-align: right;\">\n",
       "      <th></th>\n",
       "      <th>deposit</th>\n",
       "      <th>age</th>\n",
       "      <th>balance</th>\n",
       "      <th>duration</th>\n",
       "      <th>campaign</th>\n",
       "      <th>pdays</th>\n",
       "      <th>previous</th>\n",
       "      <th>housing_int</th>\n",
       "      <th>loan_int</th>\n",
       "      <th>default_int</th>\n",
       "      <th>month_int</th>\n",
       "    </tr>\n",
       "  </thead>\n",
       "  <tbody>\n",
       "    <tr>\n",
       "      <th>0</th>\n",
       "      <td>0</td>\n",
       "      <td>58</td>\n",
       "      <td>2143</td>\n",
       "      <td>4.35</td>\n",
       "      <td>1</td>\n",
       "      <td>-1</td>\n",
       "      <td>0</td>\n",
       "      <td>1</td>\n",
       "      <td>0</td>\n",
       "      <td>0</td>\n",
       "      <td>5</td>\n",
       "    </tr>\n",
       "    <tr>\n",
       "      <th>1</th>\n",
       "      <td>0</td>\n",
       "      <td>44</td>\n",
       "      <td>29</td>\n",
       "      <td>2.52</td>\n",
       "      <td>1</td>\n",
       "      <td>-1</td>\n",
       "      <td>0</td>\n",
       "      <td>1</td>\n",
       "      <td>0</td>\n",
       "      <td>0</td>\n",
       "      <td>5</td>\n",
       "    </tr>\n",
       "    <tr>\n",
       "      <th>2</th>\n",
       "      <td>0</td>\n",
       "      <td>33</td>\n",
       "      <td>2</td>\n",
       "      <td>1.27</td>\n",
       "      <td>1</td>\n",
       "      <td>-1</td>\n",
       "      <td>0</td>\n",
       "      <td>1</td>\n",
       "      <td>1</td>\n",
       "      <td>0</td>\n",
       "      <td>5</td>\n",
       "    </tr>\n",
       "    <tr>\n",
       "      <th>3</th>\n",
       "      <td>0</td>\n",
       "      <td>47</td>\n",
       "      <td>1506</td>\n",
       "      <td>1.53</td>\n",
       "      <td>1</td>\n",
       "      <td>-1</td>\n",
       "      <td>0</td>\n",
       "      <td>1</td>\n",
       "      <td>0</td>\n",
       "      <td>0</td>\n",
       "      <td>5</td>\n",
       "    </tr>\n",
       "    <tr>\n",
       "      <th>4</th>\n",
       "      <td>0</td>\n",
       "      <td>33</td>\n",
       "      <td>1</td>\n",
       "      <td>3.30</td>\n",
       "      <td>1</td>\n",
       "      <td>-1</td>\n",
       "      <td>0</td>\n",
       "      <td>0</td>\n",
       "      <td>0</td>\n",
       "      <td>0</td>\n",
       "      <td>5</td>\n",
       "    </tr>\n",
       "  </tbody>\n",
       "</table>\n",
       "</div>"
      ],
      "text/plain": [
       "   deposit  age  balance  duration  campaign  pdays  previous  housing_int  \\\n",
       "0        0   58     2143      4.35         1     -1         0            1   \n",
       "1        0   44       29      2.52         1     -1         0            1   \n",
       "2        0   33        2      1.27         1     -1         0            1   \n",
       "3        0   47     1506      1.53         1     -1         0            1   \n",
       "4        0   33        1      3.30         1     -1         0            0   \n",
       "\n",
       "   loan_int  default_int  month_int  \n",
       "0         0            0          5  \n",
       "1         0            0          5  \n",
       "2         1            0          5  \n",
       "3         0            0          5  \n",
       "4         0            0          5  "
      ]
     },
     "execution_count": 49,
     "metadata": {},
     "output_type": "execute_result"
    }
   ],
   "source": [
    "df2.head()"
   ]
  },
  {
   "cell_type": "code",
   "execution_count": 50,
   "metadata": {},
   "outputs": [],
   "source": [
    "# 특정 변수의 값이 지나치게 큰 값으로 되어, 계산에 영향을 주지 않도록 모든 변수의 범위를 -1 ~ 1 사이로 normalization 한다.\n",
    "from sklearn.preprocessing import MinMaxScaler\n",
    "\n",
    "nc = MinMaxScaler()"
   ]
  },
  {
   "cell_type": "code",
   "execution_count": 51,
   "metadata": {},
   "outputs": [
    {
     "name": "stderr",
     "output_type": "stream",
     "text": [
      "/Users/a80099708/anaconda3/lib/python3.6/site-packages/sklearn/utils/validation.py:590: DataConversionWarning:\n",
      "\n",
      "Data with input dtype int64 was converted to float64 by MinMaxScaler.\n",
      "\n",
      "/Users/a80099708/anaconda3/lib/python3.6/site-packages/sklearn/utils/validation.py:590: DataConversionWarning:\n",
      "\n",
      "Data with input dtype int64 was converted to float64 by MinMaxScaler.\n",
      "\n",
      "/Users/a80099708/anaconda3/lib/python3.6/site-packages/sklearn/utils/validation.py:590: DataConversionWarning:\n",
      "\n",
      "Data with input dtype int64 was converted to float64 by MinMaxScaler.\n",
      "\n"
     ]
    }
   ],
   "source": [
    "## values.reshape 은 메트릭스의 모양을 바꿔준다.\n",
    "scaled_value_age = nc.fit_transform(df2['age'].values.reshape(-1,1))\n",
    "scaled_value_balance = nc.fit_transform(df2['balance'].values.reshape(-1,1))\n",
    "scaled_value_duration = nc.fit_transform(df2['duration'].values.reshape(-1,1))\n",
    "scaled_value_month_int = nc.fit_transform(df2['month_int'].values.reshape(-1,1))"
   ]
  },
  {
   "cell_type": "code",
   "execution_count": 52,
   "metadata": {
    "scrolled": true
   },
   "outputs": [
    {
     "name": "stdout",
     "output_type": "stream",
     "text": [
      "[[0.51948052]\n",
      " [0.33766234]\n",
      " [0.19480519]\n",
      " ...\n",
      " [0.7012987 ]\n",
      " [0.50649351]\n",
      " [0.24675325]] [[0.09225936]\n",
      " [0.07306666]\n",
      " [0.07282153]\n",
      " ...\n",
      " [0.12468905]\n",
      " [0.07886805]\n",
      " [0.09977666]] [[0.0530682 ]\n",
      " [0.03074295]\n",
      " [0.01549347]\n",
      " ...\n",
      " [0.22910821]\n",
      " [0.10333049]\n",
      " [0.0734415 ]] [[0.36363636]\n",
      " [0.36363636]\n",
      " [0.36363636]\n",
      " ...\n",
      " [0.90909091]\n",
      " [0.90909091]\n",
      " [0.90909091]]\n"
     ]
    }
   ],
   "source": [
    "print(scaled_value_age, scaled_value_balance, scaled_value_duration, scaled_value_month_int)"
   ]
  },
  {
   "cell_type": "code",
   "execution_count": 53,
   "metadata": {},
   "outputs": [],
   "source": [
    "df2['age'] = scaled_value_age\n",
    "df2['balance'] = scaled_value_balance\n",
    "df2['duration'] = scaled_value_duration\n",
    "df2['month_int'] = scaled_value_month_int"
   ]
  },
  {
   "cell_type": "code",
   "execution_count": 54,
   "metadata": {},
   "outputs": [
    {
     "data": {
      "text/html": [
       "<div>\n",
       "<style scoped>\n",
       "    .dataframe tbody tr th:only-of-type {\n",
       "        vertical-align: middle;\n",
       "    }\n",
       "\n",
       "    .dataframe tbody tr th {\n",
       "        vertical-align: top;\n",
       "    }\n",
       "\n",
       "    .dataframe thead th {\n",
       "        text-align: right;\n",
       "    }\n",
       "</style>\n",
       "<table border=\"1\" class=\"dataframe\">\n",
       "  <thead>\n",
       "    <tr style=\"text-align: right;\">\n",
       "      <th></th>\n",
       "      <th>deposit</th>\n",
       "      <th>age</th>\n",
       "      <th>balance</th>\n",
       "      <th>duration</th>\n",
       "      <th>campaign</th>\n",
       "      <th>pdays</th>\n",
       "      <th>previous</th>\n",
       "      <th>housing_int</th>\n",
       "      <th>loan_int</th>\n",
       "      <th>default_int</th>\n",
       "      <th>month_int</th>\n",
       "    </tr>\n",
       "  </thead>\n",
       "  <tbody>\n",
       "    <tr>\n",
       "      <th>0</th>\n",
       "      <td>0</td>\n",
       "      <td>0.519481</td>\n",
       "      <td>0.092259</td>\n",
       "      <td>0.053068</td>\n",
       "      <td>1</td>\n",
       "      <td>-1</td>\n",
       "      <td>0</td>\n",
       "      <td>1</td>\n",
       "      <td>0</td>\n",
       "      <td>0</td>\n",
       "      <td>0.363636</td>\n",
       "    </tr>\n",
       "    <tr>\n",
       "      <th>1</th>\n",
       "      <td>0</td>\n",
       "      <td>0.337662</td>\n",
       "      <td>0.073067</td>\n",
       "      <td>0.030743</td>\n",
       "      <td>1</td>\n",
       "      <td>-1</td>\n",
       "      <td>0</td>\n",
       "      <td>1</td>\n",
       "      <td>0</td>\n",
       "      <td>0</td>\n",
       "      <td>0.363636</td>\n",
       "    </tr>\n",
       "    <tr>\n",
       "      <th>2</th>\n",
       "      <td>0</td>\n",
       "      <td>0.194805</td>\n",
       "      <td>0.072822</td>\n",
       "      <td>0.015493</td>\n",
       "      <td>1</td>\n",
       "      <td>-1</td>\n",
       "      <td>0</td>\n",
       "      <td>1</td>\n",
       "      <td>1</td>\n",
       "      <td>0</td>\n",
       "      <td>0.363636</td>\n",
       "    </tr>\n",
       "    <tr>\n",
       "      <th>3</th>\n",
       "      <td>0</td>\n",
       "      <td>0.376623</td>\n",
       "      <td>0.086476</td>\n",
       "      <td>0.018665</td>\n",
       "      <td>1</td>\n",
       "      <td>-1</td>\n",
       "      <td>0</td>\n",
       "      <td>1</td>\n",
       "      <td>0</td>\n",
       "      <td>0</td>\n",
       "      <td>0.363636</td>\n",
       "    </tr>\n",
       "    <tr>\n",
       "      <th>4</th>\n",
       "      <td>0</td>\n",
       "      <td>0.194805</td>\n",
       "      <td>0.072812</td>\n",
       "      <td>0.040259</td>\n",
       "      <td>1</td>\n",
       "      <td>-1</td>\n",
       "      <td>0</td>\n",
       "      <td>0</td>\n",
       "      <td>0</td>\n",
       "      <td>0</td>\n",
       "      <td>0.363636</td>\n",
       "    </tr>\n",
       "  </tbody>\n",
       "</table>\n",
       "</div>"
      ],
      "text/plain": [
       "   deposit       age   balance  duration  campaign  pdays  previous  \\\n",
       "0        0  0.519481  0.092259  0.053068         1     -1         0   \n",
       "1        0  0.337662  0.073067  0.030743         1     -1         0   \n",
       "2        0  0.194805  0.072822  0.015493         1     -1         0   \n",
       "3        0  0.376623  0.086476  0.018665         1     -1         0   \n",
       "4        0  0.194805  0.072812  0.040259         1     -1         0   \n",
       "\n",
       "   housing_int  loan_int  default_int  month_int  \n",
       "0            1         0            0   0.363636  \n",
       "1            1         0            0   0.363636  \n",
       "2            1         1            0   0.363636  \n",
       "3            1         0            0   0.363636  \n",
       "4            0         0            0   0.363636  "
      ]
     },
     "execution_count": 54,
     "metadata": {},
     "output_type": "execute_result"
    }
   ],
   "source": [
    "df2.head()"
   ]
  },
  {
   "cell_type": "code",
   "execution_count": 55,
   "metadata": {},
   "outputs": [
    {
     "data": {
      "text/html": [
       "<div>\n",
       "<style scoped>\n",
       "    .dataframe tbody tr th:only-of-type {\n",
       "        vertical-align: middle;\n",
       "    }\n",
       "\n",
       "    .dataframe tbody tr th {\n",
       "        vertical-align: top;\n",
       "    }\n",
       "\n",
       "    .dataframe thead th {\n",
       "        text-align: right;\n",
       "    }\n",
       "</style>\n",
       "<table border=\"1\" class=\"dataframe\">\n",
       "  <thead>\n",
       "    <tr style=\"text-align: right;\">\n",
       "      <th></th>\n",
       "      <th>age</th>\n",
       "      <th>balance</th>\n",
       "      <th>duration</th>\n",
       "      <th>campaign</th>\n",
       "      <th>pdays</th>\n",
       "      <th>previous</th>\n",
       "      <th>housing_int</th>\n",
       "      <th>loan_int</th>\n",
       "      <th>default_int</th>\n",
       "      <th>month_int</th>\n",
       "      <th>deposit_class</th>\n",
       "    </tr>\n",
       "  </thead>\n",
       "  <tbody>\n",
       "    <tr>\n",
       "      <th>0</th>\n",
       "      <td>0.519481</td>\n",
       "      <td>0.092259</td>\n",
       "      <td>0.053068</td>\n",
       "      <td>1</td>\n",
       "      <td>-1</td>\n",
       "      <td>0</td>\n",
       "      <td>1</td>\n",
       "      <td>0</td>\n",
       "      <td>0</td>\n",
       "      <td>0.363636</td>\n",
       "      <td>0</td>\n",
       "    </tr>\n",
       "    <tr>\n",
       "      <th>1</th>\n",
       "      <td>0.337662</td>\n",
       "      <td>0.073067</td>\n",
       "      <td>0.030743</td>\n",
       "      <td>1</td>\n",
       "      <td>-1</td>\n",
       "      <td>0</td>\n",
       "      <td>1</td>\n",
       "      <td>0</td>\n",
       "      <td>0</td>\n",
       "      <td>0.363636</td>\n",
       "      <td>0</td>\n",
       "    </tr>\n",
       "    <tr>\n",
       "      <th>2</th>\n",
       "      <td>0.194805</td>\n",
       "      <td>0.072822</td>\n",
       "      <td>0.015493</td>\n",
       "      <td>1</td>\n",
       "      <td>-1</td>\n",
       "      <td>0</td>\n",
       "      <td>1</td>\n",
       "      <td>1</td>\n",
       "      <td>0</td>\n",
       "      <td>0.363636</td>\n",
       "      <td>0</td>\n",
       "    </tr>\n",
       "    <tr>\n",
       "      <th>3</th>\n",
       "      <td>0.376623</td>\n",
       "      <td>0.086476</td>\n",
       "      <td>0.018665</td>\n",
       "      <td>1</td>\n",
       "      <td>-1</td>\n",
       "      <td>0</td>\n",
       "      <td>1</td>\n",
       "      <td>0</td>\n",
       "      <td>0</td>\n",
       "      <td>0.363636</td>\n",
       "      <td>0</td>\n",
       "    </tr>\n",
       "    <tr>\n",
       "      <th>4</th>\n",
       "      <td>0.194805</td>\n",
       "      <td>0.072812</td>\n",
       "      <td>0.040259</td>\n",
       "      <td>1</td>\n",
       "      <td>-1</td>\n",
       "      <td>0</td>\n",
       "      <td>0</td>\n",
       "      <td>0</td>\n",
       "      <td>0</td>\n",
       "      <td>0.363636</td>\n",
       "      <td>0</td>\n",
       "    </tr>\n",
       "  </tbody>\n",
       "</table>\n",
       "</div>"
      ],
      "text/plain": [
       "        age   balance  duration  campaign  pdays  previous  housing_int  \\\n",
       "0  0.519481  0.092259  0.053068         1     -1         0            1   \n",
       "1  0.337662  0.073067  0.030743         1     -1         0            1   \n",
       "2  0.194805  0.072822  0.015493         1     -1         0            1   \n",
       "3  0.376623  0.086476  0.018665         1     -1         0            1   \n",
       "4  0.194805  0.072812  0.040259         1     -1         0            0   \n",
       "\n",
       "   loan_int  default_int  month_int  deposit_class  \n",
       "0         0            0   0.363636              0  \n",
       "1         0            0   0.363636              0  \n",
       "2         1            0   0.363636              0  \n",
       "3         0            0   0.363636              0  \n",
       "4         0            0   0.363636              0  "
      ]
     },
     "execution_count": 55,
     "metadata": {},
     "output_type": "execute_result"
    }
   ],
   "source": [
    "# Classification 기준값인 deposit_class을 맨 뒤로 옮긴다.\n",
    "dep = df2['deposit']\n",
    "df2['deposit_class'] = dep\n",
    "df2.drop(labels=['deposit'], axis=1,inplace = True)\n",
    "df2.head()"
   ]
  },
  {
   "cell_type": "code",
   "execution_count": 56,
   "metadata": {},
   "outputs": [
    {
     "data": {
      "text/plain": [
       "age              float64\n",
       "balance          float64\n",
       "duration         float64\n",
       "campaign           int64\n",
       "pdays              int64\n",
       "previous           int64\n",
       "housing_int        int64\n",
       "loan_int           int64\n",
       "default_int        int64\n",
       "month_int        float64\n",
       "deposit_class      int64\n",
       "dtype: object"
      ]
     },
     "execution_count": 56,
     "metadata": {},
     "output_type": "execute_result"
    }
   ],
   "source": [
    "df2.dtypes"
   ]
  },
  {
   "cell_type": "code",
   "execution_count": 57,
   "metadata": {},
   "outputs": [],
   "source": [
    "from sklearn.model_selection import train_test_split"
   ]
  },
  {
   "cell_type": "code",
   "execution_count": 58,
   "metadata": {},
   "outputs": [],
   "source": [
    "## numpy format을 iloc를 이용하여 pandas format으로 변환해줘야 한다. ','앞이 행, 그 뒤가 열\n",
    "## [:,:-1] : 처음부터 맨 끝 앞까지만 가져온다   data.data 와 같은 의미\n",
    "## [:,-1] : 처음ㅂ터 맨 끝 데이터까지 가져온다. data.target과 같은 의미\n",
    "## random_state를 넣어주지 않으면 매번 다른 기준이 적용되므로, 42 옵션을 부여 관례적으로 부여한다.\n",
    "X_train, X_test, y_train, y_test = train_test_split(df2.iloc[:,:-1], df2.iloc[:,-1], test_size=0.3, random_state=42)"
   ]
  },
  {
   "cell_type": "code",
   "execution_count": 59,
   "metadata": {},
   "outputs": [],
   "source": [
    "from sklearn.dummy import DummyClassifier\n",
    "## 별도의 알고리즘 적용하지 않았을 경우의 성능을 먼저 예측한다.\n",
    "du = DummyClassifier()"
   ]
  },
  {
   "cell_type": "code",
   "execution_count": 60,
   "metadata": {},
   "outputs": [],
   "source": [
    "from sklearn.model_selection import GridSearchCV\n",
    "gcv = GridSearchCV(DummyClassifier(),param_grid={'strategy':['stratified','most_frequent','prior','uniform']})"
   ]
  },
  {
   "cell_type": "code",
   "execution_count": 61,
   "metadata": {},
   "outputs": [
    {
     "name": "stderr",
     "output_type": "stream",
     "text": [
      "/Users/a80099708/anaconda3/lib/python3.6/site-packages/sklearn/model_selection/_split.py:1943: FutureWarning:\n",
      "\n",
      "You should specify a value for 'cv' instead of relying on the default value. The default value will change from 3 to 5 in version 0.22.\n",
      "\n"
     ]
    },
    {
     "data": {
      "text/plain": [
       "GridSearchCV(cv='warn', error_score='raise-deprecating',\n",
       "       estimator=DummyClassifier(constant=None, random_state=None, strategy='stratified'),\n",
       "       fit_params=None, iid='warn', n_jobs=None,\n",
       "       param_grid={'strategy': ['stratified', 'most_frequent', 'prior', 'uniform']},\n",
       "       pre_dispatch='2*n_jobs', refit=True, return_train_score='warn',\n",
       "       scoring=None, verbose=0)"
      ]
     },
     "execution_count": 61,
     "metadata": {},
     "output_type": "execute_result"
    }
   ],
   "source": [
    "gcv.fit(X_train,y_train)"
   ]
  },
  {
   "cell_type": "code",
   "execution_count": 62,
   "metadata": {},
   "outputs": [
    {
     "data": {
      "text/plain": [
       "{'strategy': 'most_frequent'}"
      ]
     },
     "execution_count": 62,
     "metadata": {},
     "output_type": "execute_result"
    }
   ],
   "source": [
    "gcv.best_params_"
   ]
  },
  {
   "cell_type": "code",
   "execution_count": 63,
   "metadata": {},
   "outputs": [
    {
     "data": {
      "text/plain": [
       "0.8833696716908396"
      ]
     },
     "execution_count": 63,
     "metadata": {},
     "output_type": "execute_result"
    }
   ],
   "source": [
    "## 알고리즘 적용을 하지 않아도  88.33%\n",
    "gcv.best_score_"
   ]
  },
  {
   "cell_type": "code",
   "execution_count": 64,
   "metadata": {},
   "outputs": [],
   "source": [
    "from sklearn.metrics import classification_report\n",
    "from sklearn.neighbors import KNeighborsClassifier\n",
    "knn = KNeighborsClassifier(n_jobs=3)"
   ]
  },
  {
   "cell_type": "code",
   "execution_count": 65,
   "metadata": {},
   "outputs": [
    {
     "data": {
      "text/plain": [
       "KNeighborsClassifier(algorithm='auto', leaf_size=30, metric='minkowski',\n",
       "           metric_params=None, n_jobs=3, n_neighbors=5, p=2,\n",
       "           weights='uniform')"
      ]
     },
     "execution_count": 65,
     "metadata": {},
     "output_type": "execute_result"
    }
   ],
   "source": [
    "knn.fit(X_train,y_train)"
   ]
  },
  {
   "cell_type": "code",
   "execution_count": 66,
   "metadata": {},
   "outputs": [],
   "source": [
    "## 주요 성능 측정값을 구해보자\n",
    "a = classification_report(y_test,knn.predict(X_test))"
   ]
  },
  {
   "cell_type": "code",
   "execution_count": 67,
   "metadata": {},
   "outputs": [
    {
     "name": "stdout",
     "output_type": "stream",
     "text": [
      "              precision    recall  f1-score   support\n",
      "\n",
      "           0       0.91      0.96      0.94     11966\n",
      "           1       0.52      0.30      0.38      1598\n",
      "\n",
      "   micro avg       0.88      0.88      0.88     13564\n",
      "   macro avg       0.72      0.63      0.66     13564\n",
      "weighted avg       0.87      0.88      0.87     13564\n",
      "\n"
     ]
    }
   ],
   "source": [
    "print(a)"
   ]
  },
  {
   "cell_type": "code",
   "execution_count": 68,
   "metadata": {},
   "outputs": [
    {
     "data": {
      "text/plain": [
       "0.8847685048658213"
      ]
     },
     "execution_count": 68,
     "metadata": {},
     "output_type": "execute_result"
    }
   ],
   "source": [
    "# 디폴트 knn 알고리즘을 적용했을때는 0.884768 으로 성능이 나왔다.\n",
    "knn.score(X_test, y_test)"
   ]
  },
  {
   "cell_type": "code",
   "execution_count": 69,
   "metadata": {},
   "outputs": [],
   "source": [
    "from sklearn.metrics import confusion_matrix"
   ]
  },
  {
   "cell_type": "code",
   "execution_count": 70,
   "metadata": {},
   "outputs": [
    {
     "data": {
      "text/plain": [
       "<matplotlib.axes._subplots.AxesSubplot at 0x1a1b272630>"
      ]
     },
     "execution_count": 70,
     "metadata": {},
     "output_type": "execute_result"
    },
    {
     "data": {
      "image/png": "[encoded data removed]",
      "text/plain": [
       "<Figure size 432x288 with 2 Axes>"
      ]
     },
     "metadata": {
      "needs_background": "light"
     },
     "output_type": "display_data"
    }
   ],
   "source": [
    "from sklearn_evaluation import plot\n",
    "%matplotlib inline\n",
    "plot.confusion_matrix(y_test, knn.predict(X_test))"
   ]
  },
  {
   "cell_type": "code",
   "execution_count": 71,
   "metadata": {},
   "outputs": [],
   "source": [
    "## GridSearchCV를 이용해서 최적의 파라미터 조합을 찾아보자.\n",
    "## 파라미터의 경우의 수가 많아서 cv=3으로 최소화하고, cpu는 최대한으로 사용한다.\n",
    "##par = { 'n_neighbors' : [x for x in range(3,6)], 'weights' : ['uniform', 'distance'], 'leaf_size' : [30,100,500]}\n",
    "par = { 'n_neighbors' : [x for x in range(3,6)], 'weights' : ['uniform', 'distance']}"
   ]
  },
  {
   "cell_type": "code",
   "execution_count": 72,
   "metadata": {},
   "outputs": [
    {
     "data": {
      "text/plain": [
       "GridSearchCV(cv=3, error_score='raise-deprecating',\n",
       "       estimator=KNeighborsClassifier(algorithm='auto', leaf_size=30, metric='minkowski',\n",
       "           metric_params=None, n_jobs=3, n_neighbors=5, p=2,\n",
       "           weights='uniform'),\n",
       "       fit_params=None, iid='warn', n_jobs=3,\n",
       "       param_grid={'n_neighbors': [3, 4, 5], 'weights': ['uniform', 'distance']},\n",
       "       pre_dispatch='2*n_jobs', refit=True, return_train_score='warn',\n",
       "       scoring=None, verbose=0)"
      ]
     },
     "execution_count": 72,
     "metadata": {},
     "output_type": "execute_result"
    }
   ],
   "source": [
    "gcv = GridSearchCV(knn,par,n_jobs=3,cv=3)\n",
    "gcv.fit(X_train, y_train)"
   ]
  },
  {
   "cell_type": "code",
   "execution_count": 73,
   "metadata": {},
   "outputs": [
    {
     "data": {
      "text/plain": [
       "{'n_neighbors': 4, 'weights': 'uniform'}"
      ]
     },
     "execution_count": 73,
     "metadata": {},
     "output_type": "execute_result"
    }
   ],
   "source": [
    "gcv.best_params_"
   ]
  },
  {
   "cell_type": "code",
   "execution_count": 74,
   "metadata": {},
   "outputs": [
    {
     "data": {
      "text/plain": [
       "0.8854235788542358"
      ]
     },
     "execution_count": 74,
     "metadata": {},
     "output_type": "execute_result"
    }
   ],
   "source": [
    "gcv.best_score_"
   ]
  },
  {
   "cell_type": "code",
   "execution_count": 75,
   "metadata": {},
   "outputs": [],
   "source": [
    "knn = KNeighborsClassifier(n_neighbors=4,weights='uniform',n_jobs=3)"
   ]
  },
  {
   "cell_type": "code",
   "execution_count": 76,
   "metadata": {},
   "outputs": [
    {
     "data": {
      "text/plain": [
       "KNeighborsClassifier(algorithm='auto', leaf_size=30, metric='minkowski',\n",
       "           metric_params=None, n_jobs=3, n_neighbors=4, p=2,\n",
       "           weights='uniform')"
      ]
     },
     "execution_count": 76,
     "metadata": {},
     "output_type": "execute_result"
    }
   ],
   "source": [
    "knn.fit(X_train,y_train)"
   ]
  },
  {
   "cell_type": "code",
   "execution_count": 77,
   "metadata": {},
   "outputs": [],
   "source": [
    "## 주요 성능 측정값을 구해보자\n",
    "a = classification_report(y_test,knn.predict(X_test),digits=7)"
   ]
  },
  {
   "cell_type": "code",
   "execution_count": 78,
   "metadata": {},
   "outputs": [
    {
     "name": "stdout",
     "output_type": "stream",
     "text": [
      "              precision    recall  f1-score   support\n",
      "\n",
      "           0  0.9013878 0.9770182 0.9376805     11966\n",
      "           1  0.5370370 0.1996245 0.2910584      1598\n",
      "\n",
      "   micro avg  0.8854320 0.8854320 0.8854320     13564\n",
      "   macro avg  0.7192124 0.5883214 0.6143694     13564\n",
      "weighted avg  0.8584630 0.8854320 0.8615007     13564\n",
      "\n"
     ]
    }
   ],
   "source": [
    "print(a)"
   ]
  },
  {
   "cell_type": "code",
   "execution_count": 79,
   "metadata": {},
   "outputs": [
    {
     "data": {
      "text/plain": [
       "0.8854320259510469"
      ]
     },
     "execution_count": 79,
     "metadata": {},
     "output_type": "execute_result"
    }
   ],
   "source": [
    "knn.score(X_test, y_test)"
   ]
  },
  {
   "cell_type": "code",
   "execution_count": 80,
   "metadata": {},
   "outputs": [],
   "source": [
    "from sklearn.svm import SVC"
   ]
  },
  {
   "cell_type": "code",
   "execution_count": 81,
   "metadata": {},
   "outputs": [],
   "source": [
    "svm = SVC()"
   ]
  },
  {
   "cell_type": "code",
   "execution_count": 82,
   "metadata": {},
   "outputs": [],
   "source": [
    "## GridSearchCV를 이용해서 최적의 파라미터 조합을 찾아보자.\n",
    "## 파라미터의 경우의 수가 많아서 cv=3으로 최소화하고, cpu는 최대한으로 사용한다.\n",
    "par = { 'C' : [0.01,1.0,100]}"
   ]
  },
  {
   "cell_type": "code",
   "execution_count": 83,
   "metadata": {},
   "outputs": [],
   "source": [
    "gcv = GridSearchCV(svm,par,n_jobs=3,cv=3)"
   ]
  },
  {
   "cell_type": "code",
   "execution_count": 84,
   "metadata": {},
   "outputs": [
    {
     "name": "stderr",
     "output_type": "stream",
     "text": [
      "/Users/a80099708/anaconda3/lib/python3.6/site-packages/sklearn/externals/joblib/externals/loky/process_executor.py:700: UserWarning:\n",
      "\n",
      "A worker stopped while some jobs were given to the executor. This can be caused by a too short worker timeout or by a memory leak.\n",
      "\n",
      "/Users/a80099708/anaconda3/lib/python3.6/site-packages/sklearn/externals/joblib/externals/loky/process_executor.py:700: UserWarning:\n",
      "\n",
      "A worker stopped while some jobs were given to the executor. This can be caused by a too short worker timeout or by a memory leak.\n",
      "\n",
      "/Users/a80099708/anaconda3/lib/python3.6/site-packages/sklearn/externals/joblib/externals/loky/process_executor.py:700: UserWarning:\n",
      "\n",
      "A worker stopped while some jobs were given to the executor. This can be caused by a too short worker timeout or by a memory leak.\n",
      "\n",
      "/Users/a80099708/anaconda3/lib/python3.6/site-packages/sklearn/svm/base.py:196: FutureWarning:\n",
      "\n",
      "The default value of gamma will change from 'auto' to 'scale' in version 0.22 to account better for unscaled features. Set gamma explicitly to 'auto' or 'scale' to avoid this warning.\n",
      "\n"
     ]
    },
    {
     "data": {
      "text/plain": [
       "GridSearchCV(cv=3, error_score='raise-deprecating',\n",
       "       estimator=SVC(C=1.0, cache_size=200, class_weight=None, coef0=0.0,\n",
       "  decision_function_shape='ovr', degree=3, gamma='auto_deprecated',\n",
       "  kernel='rbf', max_iter=-1, probability=False, random_state=None,\n",
       "  shrinking=True, tol=0.001, verbose=False),\n",
       "       fit_params=None, iid='warn', n_jobs=3,\n",
       "       param_grid={'C': [0.01, 1.0, 100]}, pre_dispatch='2*n_jobs',\n",
       "       refit=True, return_train_score='warn', scoring=None, verbose=0)"
      ]
     },
     "execution_count": 84,
     "metadata": {},
     "output_type": "execute_result"
    }
   ],
   "source": [
    "gcv.fit(X_train, y_train)"
   ]
  },
  {
   "cell_type": "code",
   "execution_count": 85,
   "metadata": {},
   "outputs": [
    {
     "data": {
      "text/plain": [
       "{'C': 1.0}"
      ]
     },
     "execution_count": 85,
     "metadata": {},
     "output_type": "execute_result"
    }
   ],
   "source": [
    "gcv.best_params_"
   ]
  },
  {
   "cell_type": "code",
   "execution_count": 86,
   "metadata": {},
   "outputs": [
    {
     "data": {
      "text/plain": [
       "0.8864663317218062"
      ]
     },
     "execution_count": 86,
     "metadata": {},
     "output_type": "execute_result"
    }
   ],
   "source": [
    "gcv.best_score_"
   ]
  },
  {
   "cell_type": "code",
   "execution_count": 87,
   "metadata": {},
   "outputs": [],
   "source": [
    "svm = SVC(C=1.0)"
   ]
  },
  {
   "cell_type": "code",
   "execution_count": 88,
   "metadata": {},
   "outputs": [
    {
     "name": "stderr",
     "output_type": "stream",
     "text": [
      "/Users/a80099708/anaconda3/lib/python3.6/site-packages/sklearn/svm/base.py:196: FutureWarning:\n",
      "\n",
      "The default value of gamma will change from 'auto' to 'scale' in version 0.22 to account better for unscaled features. Set gamma explicitly to 'auto' or 'scale' to avoid this warning.\n",
      "\n"
     ]
    },
    {
     "data": {
      "text/plain": [
       "SVC(C=1.0, cache_size=200, class_weight=None, coef0=0.0,\n",
       "  decision_function_shape='ovr', degree=3, gamma='auto_deprecated',\n",
       "  kernel='rbf', max_iter=-1, probability=False, random_state=None,\n",
       "  shrinking=True, tol=0.001, verbose=False)"
      ]
     },
     "execution_count": 88,
     "metadata": {},
     "output_type": "execute_result"
    }
   ],
   "source": [
    "svm.fit(X_train, y_train)"
   ]
  },
  {
   "cell_type": "code",
   "execution_count": 89,
   "metadata": {},
   "outputs": [],
   "source": [
    "## 주요 성능 측정값을 구해보자\n",
    "a = classification_report(y_test,svm.predict(X_test),digits=7)"
   ]
  },
  {
   "cell_type": "code",
   "execution_count": 90,
   "metadata": {},
   "outputs": [
    {
     "name": "stdout",
     "output_type": "stream",
     "text": [
      "              precision    recall  f1-score   support\n",
      "\n",
      "           0  0.8932368 0.9900552 0.9391573     11966\n",
      "           1  0.6046512 0.1138924 0.1916798      1598\n",
      "\n",
      "   micro avg  0.8868328 0.8868328 0.8868328     13564\n",
      "   macro avg  0.7489440 0.5519738 0.5654186     13564\n",
      "weighted avg  0.8592380 0.8868328 0.8510956     13564\n",
      "\n"
     ]
    }
   ],
   "source": [
    "print(a)"
   ]
  },
  {
   "cell_type": "code",
   "execution_count": 91,
   "metadata": {},
   "outputs": [
    {
     "data": {
      "text/plain": [
       "<matplotlib.axes._subplots.AxesSubplot at 0x1a1f1120f0>"
      ]
     },
     "execution_count": 91,
     "metadata": {},
     "output_type": "execute_result"
    },
    {
     "data": {
      "image/png": "[encoded data removed]",
      "text/plain": [
       "<Figure size 432x288 with 2 Axes>"
      ]
     },
     "metadata": {
      "needs_background": "light"
     },
     "output_type": "display_data"
    }
   ],
   "source": [
    "plot.confusion_matrix(y_test, svm.predict(X_test))"
   ]
  },
  {
   "cell_type": "code",
   "execution_count": 92,
   "metadata": {},
   "outputs": [
    {
     "data": {
      "text/plain": [
       "0.8868327926865232"
      ]
     },
     "execution_count": 92,
     "metadata": {},
     "output_type": "execute_result"
    }
   ],
   "source": [
    "svm.score(X_test, y_test)"
   ]
  },
  {
   "cell_type": "code",
   "execution_count": 93,
   "metadata": {},
   "outputs": [],
   "source": [
    "from sklearn.ensemble import IsolationForest"
   ]
  },
  {
   "cell_type": "code",
   "execution_count": 94,
   "metadata": {},
   "outputs": [],
   "source": [
    "forest = IsolationForest(n_jobs=3, random_state=42)"
   ]
  },
  {
   "cell_type": "code",
   "execution_count": 95,
   "metadata": {},
   "outputs": [],
   "source": [
    "from sklearn.model_selection import StratifiedKFold"
   ]
  },
  {
   "cell_type": "code",
   "execution_count": 96,
   "metadata": {},
   "outputs": [],
   "source": [
    "## kFold를 사용하면, 무작위로 추출된 데이터에 비정상데이터가 포함될 확률이 너무 낮아진다.\n",
    "## StratifiedKFold를 이용하여 학습데이트의 비율정도는 유지할 수 있도록 해야 한다. \n",
    "skf = StratifiedKFold(n_splits=3)"
   ]
  },
  {
   "cell_type": "code",
   "execution_count": 97,
   "metadata": {},
   "outputs": [],
   "source": [
    "folds = list(skf.split(X_train, y_train))"
   ]
  },
  {
   "cell_type": "code",
   "execution_count": 98,
   "metadata": {},
   "outputs": [],
   "source": [
    "forest.contamination = sum(y_train==-1)/len(y_train)"
   ]
  },
  {
   "cell_type": "code",
   "execution_count": 99,
   "metadata": {},
   "outputs": [],
   "source": [
    "## 파라미터변수 중 n_estimators를 4개 정도 세팅해준다. default는 100\n",
    "## max_samples='auto', contamination=0.1  두개도 중요한 파라미터임\n",
    "## max_samples의 이상적인 범위를 추측할 수 없어 auto로 사용한다.\n",
    "par = {'n_estimators': [10, 50, 100, 150],'contamination':[0.0001,0.01,0.1]}"
   ]
  },
  {
   "cell_type": "code",
   "execution_count": 100,
   "metadata": {},
   "outputs": [],
   "source": [
    "gcv = GridSearchCV(estimator=forest, param_grid=par, scoring='f1_micro', cv=folds, n_jobs=3)"
   ]
  },
  {
   "cell_type": "code",
   "execution_count": 101,
   "metadata": {},
   "outputs": [
    {
     "name": "stderr",
     "output_type": "stream",
     "text": [
      "/Users/a80099708/anaconda3/lib/python3.6/site-packages/sklearn/ensemble/iforest.py:224: FutureWarning:\n",
      "\n",
      "behaviour=\"old\" is deprecated and will be removed in version 0.22. Please use behaviour=\"new\", which makes the decision_function change to match other anomaly detection algorithm API.\n",
      "\n"
     ]
    },
    {
     "data": {
      "text/plain": [
       "GridSearchCV(cv=[(array([10266, 10267, ..., 31645, 31646]), array([    0,     1, ..., 10583, 10584])), (array([    0,     1, ..., 31645, 31646]), array([10266, 10267, ..., 21099, 21101])), (array([    0,     1, ..., 21099, 21101]), array([21097, 21098, ..., 31645, 31646]))],\n",
       "       error_score='raise-deprecating',\n",
       "       estimator=IsolationForest(behaviour='old', bootstrap=False, contamination=0.0,\n",
       "        max_features=1.0, max_samples='auto', n_estimators=100, n_jobs=3,\n",
       "        random_state=42, verbose=0),\n",
       "       fit_params=None, iid='warn', n_jobs=3,\n",
       "       param_grid={'n_estimators': [10, 50, 100, 150], 'contamination': [0.0001, 0.01, 0.1]},\n",
       "       pre_dispatch='2*n_jobs', refit=True, return_train_score='warn',\n",
       "       scoring='f1_micro', verbose=0)"
      ]
     },
     "execution_count": 101,
     "metadata": {},
     "output_type": "execute_result"
    }
   ],
   "source": [
    "gcv.fit(X_train, y_train)"
   ]
  },
  {
   "cell_type": "code",
   "execution_count": 102,
   "metadata": {},
   "outputs": [
    {
     "data": {
      "text/plain": [
       "{'contamination': 0.0001, 'n_estimators': 100}"
      ]
     },
     "execution_count": 102,
     "metadata": {},
     "output_type": "execute_result"
    }
   ],
   "source": [
    "gcv.best_params_"
   ]
  },
  {
   "cell_type": "code",
   "execution_count": 103,
   "metadata": {},
   "outputs": [],
   "source": [
    "## GridSearchCV에서 나온 최적값으로 IsolationForest를 생성한다.\n",
    "forest = IsolationForest(n_estimators=100,contamination=0.0001,n_jobs=3, random_state=42)"
   ]
  },
  {
   "cell_type": "code",
   "execution_count": 104,
   "metadata": {},
   "outputs": [
    {
     "name": "stderr",
     "output_type": "stream",
     "text": [
      "/Users/a80099708/anaconda3/lib/python3.6/site-packages/sklearn/ensemble/iforest.py:224: FutureWarning:\n",
      "\n",
      "behaviour=\"old\" is deprecated and will be removed in version 0.22. Please use behaviour=\"new\", which makes the decision_function change to match other anomaly detection algorithm API.\n",
      "\n"
     ]
    },
    {
     "data": {
      "text/plain": [
       "IsolationForest(behaviour='old', bootstrap=False, contamination=0.0001,\n",
       "        max_features=1.0, max_samples='auto', n_estimators=100, n_jobs=3,\n",
       "        random_state=42, verbose=0)"
      ]
     },
     "execution_count": 104,
     "metadata": {},
     "output_type": "execute_result"
    }
   ],
   "source": [
    "forest.fit(X_train, y_train)"
   ]
  },
  {
   "cell_type": "code",
   "execution_count": 109,
   "metadata": {},
   "outputs": [
    {
     "name": "stderr",
     "output_type": "stream",
     "text": [
      "/Users/a80099708/anaconda3/lib/python3.6/site-packages/sklearn/ensemble/iforest.py:418: DeprecationWarning:\n",
      "\n",
      "threshold_ attribute is deprecated in 0.20 and will be removed in 0.22.\n",
      "\n"
     ]
    }
   ],
   "source": [
    "##isolation forest로 학습한 모델의 예측치를 확인\n",
    "y_pred_train = forest.predict(X_train)"
   ]
  },
  {
   "cell_type": "code",
   "execution_count": 110,
   "metadata": {},
   "outputs": [
    {
     "data": {
      "text/plain": [
       "array([1, 1, 1, ..., 1, 1, 1])"
      ]
     },
     "execution_count": 110,
     "metadata": {},
     "output_type": "execute_result"
    }
   ],
   "source": [
    "y_pred_train"
   ]
  },
  {
   "cell_type": "code",
   "execution_count": 111,
   "metadata": {},
   "outputs": [],
   "source": [
    "## 1이 정상이므로, class 0(예금 미가입)과 맞춰주기 위해 변경\n",
    "for n, i in enumerate(y_pred_train):\n",
    "    if i == 1:\n",
    "        y_pred_train[n] = 0"
   ]
  },
  {
   "cell_type": "code",
   "execution_count": 112,
   "metadata": {},
   "outputs": [],
   "source": [
    "## -1이 비정상이므로, class 1(예금 가입)과 맞춰주기 위해 변경\n",
    "for n, i in enumerate(y_pred_train):\n",
    "    if i == -1:\n",
    "        y_pred_train[n] = 1"
   ]
  },
  {
   "cell_type": "code",
   "execution_count": 113,
   "metadata": {},
   "outputs": [
    {
     "data": {
      "text/plain": [
       "<matplotlib.axes._subplots.AxesSubplot at 0x1a19c2d4a8>"
      ]
     },
     "execution_count": 113,
     "metadata": {},
     "output_type": "execute_result"
    },
    {
     "data": {
      "image/png": "[encoded data removed]",
      "text/plain": [
       "<Figure size 432x288 with 2 Axes>"
      ]
     },
     "metadata": {
      "needs_background": "light"
     },
     "output_type": "display_data"
    }
   ],
   "source": [
    "plot.confusion_matrix(y_train, y_pred_train)"
   ]
  },
  {
   "cell_type": "code",
   "execution_count": 114,
   "metadata": {},
   "outputs": [],
   "source": [
    "a = classification_report(y_train,y_pred_train,digits=7)"
   ]
  },
  {
   "cell_type": "code",
   "execution_count": 115,
   "metadata": {},
   "outputs": [
    {
     "name": "stdout",
     "output_type": "stream",
     "text": [
      "              precision    recall  f1-score   support\n",
      "\n",
      "           0  0.8834181 0.9999285 0.9380694     27956\n",
      "           1  0.5000000 0.0005419 0.0010825      3691\n",
      "\n",
      "   micro avg  0.8833697 0.8833697 0.8833697     31647\n",
      "   macro avg  0.6917091 0.5002352 0.4695760     31647\n",
      "weighted avg  0.8387000 0.8833697 0.8287883     31647\n",
      "\n"
     ]
    }
   ],
   "source": [
    "print(a)"
   ]
  },
  {
   "cell_type": "code",
   "execution_count": 116,
   "metadata": {},
   "outputs": [],
   "source": [
    "from sklearn.ensemble import RandomForestClassifier"
   ]
  },
  {
   "cell_type": "code",
   "execution_count": 124,
   "metadata": {},
   "outputs": [],
   "source": [
    "Rforest = RandomForestClassifier(n_estimators=5, random_state=42)"
   ]
  },
  {
   "cell_type": "code",
   "execution_count": 129,
   "metadata": {},
   "outputs": [],
   "source": [
    "par = {'n_estimators': [50, 100, 150, 10],'random_state':[100,200,300],'max_depth':[x for x in range(3,10)]}"
   ]
  },
  {
   "cell_type": "code",
   "execution_count": 130,
   "metadata": {},
   "outputs": [],
   "source": [
    "gcv = GridSearchCV(estimator=Rforest, param_grid=par, cv=3, n_jobs=-1)"
   ]
  },
  {
   "cell_type": "code",
   "execution_count": 131,
   "metadata": {},
   "outputs": [
    {
     "data": {
      "text/plain": [
       "GridSearchCV(cv=3, error_score='raise-deprecating',\n",
       "       estimator=RandomForestClassifier(bootstrap=True, class_weight=None, criterion='gini',\n",
       "            max_depth=None, max_features='auto', max_leaf_nodes=None,\n",
       "            min_impurity_decrease=0.0, min_impurity_split=None,\n",
       "            min_samples_leaf=1, min_samples_split=2,\n",
       "            min_weight_fraction_leaf=0.0, n_estimators=5, n_jobs=None,\n",
       "            oob_score=False, random_state=42, verbose=0, warm_start=False),\n",
       "       fit_params=None, iid='warn', n_jobs=-1,\n",
       "       param_grid={'n_estimators': [50, 100, 150, 10], 'random_state': [100, 200, 300], 'max_depth': [3, 4, 5, 6, 7, 8, 9]},\n",
       "       pre_dispatch='2*n_jobs', refit=True, return_train_score='warn',\n",
       "       scoring=None, verbose=0)"
      ]
     },
     "execution_count": 131,
     "metadata": {},
     "output_type": "execute_result"
    }
   ],
   "source": [
    "gcv.fit(X_train, y_train)"
   ]
  },
  {
   "cell_type": "code",
   "execution_count": 132,
   "metadata": {},
   "outputs": [
    {
     "data": {
      "text/plain": [
       "{'max_depth': 9, 'n_estimators': 150, 'random_state': 100}"
      ]
     },
     "execution_count": 132,
     "metadata": {},
     "output_type": "execute_result"
    }
   ],
   "source": [
    "gcv.best_params_"
   ]
  },
  {
   "cell_type": "code",
   "execution_count": null,
   "metadata": {},
   "outputs": [],
   "source": []
  },
  {
   "cell_type": "code",
   "execution_count": 170,
   "metadata": {},
   "outputs": [
    {
     "data": {
      "text/plain": [
       "RandomForestClassifier(bootstrap=True, class_weight=None, criterion='gini',\n",
       "            max_depth=15, max_features='auto', max_leaf_nodes=None,\n",
       "            min_impurity_decrease=0.0, min_impurity_split=None,\n",
       "            min_samples_leaf=1, min_samples_split=2,\n",
       "            min_weight_fraction_leaf=0.0, n_estimators=150, n_jobs=None,\n",
       "            oob_score=False, random_state=100, verbose=0, warm_start=False)"
      ]
     },
     "execution_count": 170,
     "metadata": {},
     "output_type": "execute_result"
    }
   ],
   "source": [
    "Rforest = RandomForestClassifier(n_estimators=150, random_state=100, max_depth=15)\n",
    "Rforest.fit(X_train, y_train)"
   ]
  },
  {
   "cell_type": "code",
   "execution_count": 171,
   "metadata": {},
   "outputs": [
    {
     "data": {
      "text/plain": [
       "0.972382848295257"
      ]
     },
     "execution_count": 171,
     "metadata": {},
     "output_type": "execute_result"
    }
   ],
   "source": [
    "Rforest.score(X_train, y_train)"
   ]
  },
  {
   "cell_type": "code",
   "execution_count": 172,
   "metadata": {},
   "outputs": [],
   "source": [
    "## 주요 성능 측정값을 구해보자\n",
    "a = classification_report(y_test,Rforest.predict(X_test),digits=7)"
   ]
  },
  {
   "cell_type": "code",
   "execution_count": 173,
   "metadata": {},
   "outputs": [
    {
     "name": "stdout",
     "output_type": "stream",
     "text": [
      "              precision    recall  f1-score   support\n",
      "\n",
      "           0  0.9245042 0.9660705 0.9448304     11966\n",
      "           1  0.6169811 0.4092616 0.4920993      1598\n",
      "\n",
      "   micro avg  0.9004718 0.9004718 0.9004718     13564\n",
      "   macro avg  0.7707426 0.6876661 0.7184649     13564\n",
      "weighted avg  0.8882743 0.9004718 0.8914933     13564\n",
      "\n"
     ]
    }
   ],
   "source": [
    "print(a)"
   ]
  },
  {
   "cell_type": "code",
   "execution_count": 174,
   "metadata": {},
   "outputs": [
    {
     "data": {
      "text/plain": [
       "0.9004718372161604"
      ]
     },
     "execution_count": 174,
     "metadata": {},
     "output_type": "execute_result"
    }
   ],
   "source": [
    "Rforest.score(X_test, y_test)"
   ]
  },
  {
   "cell_type": "code",
   "execution_count": 175,
   "metadata": {},
   "outputs": [
    {
     "data": {
      "text/plain": [
       "<matplotlib.axes._subplots.AxesSubplot at 0x1a28042b70>"
      ]
     },
     "execution_count": 175,
     "metadata": {},
     "output_type": "execute_result"
    },
    {
     "data": {
      "image/png": "[encoded data removed]",
      "text/plain": [
       "<Figure size 432x288 with 2 Axes>"
      ]
     },
     "metadata": {
      "needs_background": "light"
     },
     "output_type": "display_data"
    }
   ],
   "source": [
    "plot.confusion_matrix(y_test, Rforest.predict(X_test))"
   ]
  },
  {
   "cell_type": "code",
   "execution_count": null,
   "metadata": {},
   "outputs": [],
   "source": []
  }
 ],
 "metadata": {
  "kernelspec": {
   "display_name": "Python 3",
   "language": "python",
   "name": "python3"
  }
 },
 "nbformat": 4,
 "nbformat_minor": 2
}
