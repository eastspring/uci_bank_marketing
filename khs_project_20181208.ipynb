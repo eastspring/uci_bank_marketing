{
 "cells": [
  {
   "cell_type": "code",
   "execution_count": 6,
   "metadata": {},
   "outputs": [
    {
     "data": {
      "text/html": [
       "<script type=\"text/javascript\">window.PlotlyConfig = {MathJaxConfig: 'local'};</script><script type=\"text/javascript\">if (window.MathJax) {MathJax.Hub.Config({SVG: {font: \"STIX-Web\"}});}</script><script>requirejs.config({paths: { 'plotly': ['https://cdn.plot.ly/plotly-latest.min']},});if(!window._Plotly) {require(['plotly'],function(plotly) {window._Plotly=plotly;});}</script>"
      ],
      "text/vnd.plotly.v1+html": [
       "<script type=\"text/javascript\">window.PlotlyConfig = {MathJaxConfig: 'local'};</script><script type=\"text/javascript\">if (window.MathJax) {MathJax.Hub.Config({SVG: {font: \"STIX-Web\"}});}</script><script>requirejs.config({paths: { 'plotly': ['https://cdn.plot.ly/plotly-latest.min']},});if(!window._Plotly) {require(['plotly'],function(plotly) {window._Plotly=plotly;});}</script>"
      ]
     },
     "metadata": {},
     "output_type": "display_data"
    },
    {
     "data": {
      "text/html": [
       "<div>\n",
       "<style scoped>\n",
       "    .dataframe tbody tr th:only-of-type {\n",
       "        vertical-align: middle;\n",
       "    }\n",
       "\n",
       "    .dataframe tbody tr th {\n",
       "        vertical-align: top;\n",
       "    }\n",
       "\n",
       "    .dataframe thead th {\n",
       "        text-align: right;\n",
       "    }\n",
       "</style>\n",
       "<table border=\"1\" class=\"dataframe\">\n",
       "  <thead>\n",
       "    <tr style=\"text-align: right;\">\n",
       "      <th></th>\n",
       "      <th>ClientNum</th>\n",
       "      <th>yyyymm</th>\n",
       "      <th>bankrupcytrate</th>\n",
       "      <th>finance_score</th>\n",
       "      <th>nonfin_score</th>\n",
       "      <th>finance_grade</th>\n",
       "      <th>nonfin_grade</th>\n",
       "      <th>final_credit_score</th>\n",
       "      <th>final_credit_grade</th>\n",
       "      <th>class_result</th>\n",
       "    </tr>\n",
       "  </thead>\n",
       "  <tbody>\n",
       "    <tr>\n",
       "      <th>0</th>\n",
       "      <td>819975126</td>\n",
       "      <td>201712</td>\n",
       "      <td>100.0</td>\n",
       "      <td>20.76517</td>\n",
       "      <td>0.99946</td>\n",
       "      <td>19.0</td>\n",
       "      <td>20.0</td>\n",
       "      <td>0.0</td>\n",
       "      <td>23</td>\n",
       "      <td>1</td>\n",
       "    </tr>\n",
       "    <tr>\n",
       "      <th>1</th>\n",
       "      <td>400133939</td>\n",
       "      <td>201712</td>\n",
       "      <td>100.0</td>\n",
       "      <td>20.58430</td>\n",
       "      <td>14.68817</td>\n",
       "      <td>17.0</td>\n",
       "      <td>19.0</td>\n",
       "      <td>0.0</td>\n",
       "      <td>23</td>\n",
       "      <td>1</td>\n",
       "    </tr>\n",
       "    <tr>\n",
       "      <th>2</th>\n",
       "      <td>753036928</td>\n",
       "      <td>201712</td>\n",
       "      <td>100.0</td>\n",
       "      <td>28.96412</td>\n",
       "      <td>7.51639</td>\n",
       "      <td>17.0</td>\n",
       "      <td>20.0</td>\n",
       "      <td>0.0</td>\n",
       "      <td>22</td>\n",
       "      <td>1</td>\n",
       "    </tr>\n",
       "    <tr>\n",
       "      <th>3</th>\n",
       "      <td>822552163</td>\n",
       "      <td>201712</td>\n",
       "      <td>100.0</td>\n",
       "      <td>31.57935</td>\n",
       "      <td>16.66230</td>\n",
       "      <td>14.0</td>\n",
       "      <td>19.0</td>\n",
       "      <td>0.0</td>\n",
       "      <td>22</td>\n",
       "      <td>1</td>\n",
       "    </tr>\n",
       "    <tr>\n",
       "      <th>4</th>\n",
       "      <td>707775379</td>\n",
       "      <td>201712</td>\n",
       "      <td>100.0</td>\n",
       "      <td>18.33327</td>\n",
       "      <td>3.68292</td>\n",
       "      <td>19.0</td>\n",
       "      <td>20.0</td>\n",
       "      <td>0.0</td>\n",
       "      <td>23</td>\n",
       "      <td>1</td>\n",
       "    </tr>\n",
       "  </tbody>\n",
       "</table>\n",
       "</div>"
      ],
      "text/plain": [
       "   ClientNum  yyyymm  bankrupcytrate  finance_score  nonfin_score  \\\n",
       "0  819975126  201712           100.0       20.76517       0.99946   \n",
       "1  400133939  201712           100.0       20.58430      14.68817   \n",
       "2  753036928  201712           100.0       28.96412       7.51639   \n",
       "3  822552163  201712           100.0       31.57935      16.66230   \n",
       "4  707775379  201712           100.0       18.33327       3.68292   \n",
       "\n",
       "   finance_grade  nonfin_grade  final_credit_score  final_credit_grade  \\\n",
       "0           19.0          20.0                 0.0                  23   \n",
       "1           17.0          19.0                 0.0                  23   \n",
       "2           17.0          20.0                 0.0                  22   \n",
       "3           14.0          19.0                 0.0                  22   \n",
       "4           19.0          20.0                 0.0                  23   \n",
       "\n",
       "   class_result  \n",
       "0             1  \n",
       "1             1  \n",
       "2             1  \n",
       "3             1  \n",
       "4             1  "
      ]
     },
     "execution_count": 6,
     "metadata": {},
     "output_type": "execute_result"
    }
   ],
   "source": [
    "\n",
    "import numpy as np\n",
    "import pandas as pd\n",
    "import matplotlib.pyplot as plt\n",
    "import seaborn as sns\n",
    "\n",
    "from plotly import tools\n",
    "import plotly.plotly as py\n",
    "import plotly.figure_factory as ff\n",
    "import plotly.graph_objs as go\n",
    "from plotly.offline import download_plotlyjs, init_notebook_mode, plot, iplot\n",
    "init_notebook_mode(connected=True)\n",
    "\n",
    "MAIN_PATH = 'C:/Users/User/Downloads/'\n",
    "df = pd.read_csv(MAIN_PATH +'khs_data_20181205.csv')\n",
    "original_df = df.copy()\n",
    "\n",
    "# Have a grasp of how our data looks.\n",
    "df.head()"
   ]
  },
  {
   "cell_type": "code",
   "execution_count": 7,
   "metadata": {},
   "outputs": [
    {
     "data": {
      "text/html": [
       "<div>\n",
       "<style scoped>\n",
       "    .dataframe tbody tr th:only-of-type {\n",
       "        vertical-align: middle;\n",
       "    }\n",
       "\n",
       "    .dataframe tbody tr th {\n",
       "        vertical-align: top;\n",
       "    }\n",
       "\n",
       "    .dataframe thead th {\n",
       "        text-align: right;\n",
       "    }\n",
       "</style>\n",
       "<table border=\"1\" class=\"dataframe\">\n",
       "  <thead>\n",
       "    <tr style=\"text-align: right;\">\n",
       "      <th></th>\n",
       "      <th>ClientNum</th>\n",
       "      <th>yyyymm</th>\n",
       "      <th>bankrupcytrate</th>\n",
       "      <th>finance_score</th>\n",
       "      <th>nonfin_score</th>\n",
       "      <th>finance_grade</th>\n",
       "      <th>nonfin_grade</th>\n",
       "      <th>final_credit_score</th>\n",
       "      <th>final_credit_grade</th>\n",
       "      <th>class_result</th>\n",
       "    </tr>\n",
       "  </thead>\n",
       "  <tbody>\n",
       "    <tr>\n",
       "      <th>count</th>\n",
       "      <td>5.051600e+04</td>\n",
       "      <td>50516.0</td>\n",
       "      <td>50516.000000</td>\n",
       "      <td>50516.000000</td>\n",
       "      <td>50516.000000</td>\n",
       "      <td>49891.000000</td>\n",
       "      <td>49891.000000</td>\n",
       "      <td>50516.000000</td>\n",
       "      <td>50516.000000</td>\n",
       "      <td>50516.000000</td>\n",
       "    </tr>\n",
       "    <tr>\n",
       "      <th>mean</th>\n",
       "      <td>7.005465e+08</td>\n",
       "      <td>201712.0</td>\n",
       "      <td>2.913036</td>\n",
       "      <td>50.201195</td>\n",
       "      <td>55.936316</td>\n",
       "      <td>9.134754</td>\n",
       "      <td>7.755246</td>\n",
       "      <td>53.128512</td>\n",
       "      <td>8.387501</td>\n",
       "      <td>0.020251</td>\n",
       "    </tr>\n",
       "    <tr>\n",
       "      <th>std</th>\n",
       "      <td>1.341582e+08</td>\n",
       "      <td>0.0</td>\n",
       "      <td>5.373573</td>\n",
       "      <td>14.805311</td>\n",
       "      <td>14.091928</td>\n",
       "      <td>3.801960</td>\n",
       "      <td>3.236952</td>\n",
       "      <td>12.258762</td>\n",
       "      <td>3.324079</td>\n",
       "      <td>0.140859</td>\n",
       "    </tr>\n",
       "    <tr>\n",
       "      <th>min</th>\n",
       "      <td>4.000000e+08</td>\n",
       "      <td>201712.0</td>\n",
       "      <td>0.030000</td>\n",
       "      <td>0.000000</td>\n",
       "      <td>0.000000</td>\n",
       "      <td>1.000000</td>\n",
       "      <td>1.000000</td>\n",
       "      <td>0.000000</td>\n",
       "      <td>1.000000</td>\n",
       "      <td>0.000000</td>\n",
       "    </tr>\n",
       "    <tr>\n",
       "      <th>25%</th>\n",
       "      <td>6.047907e+08</td>\n",
       "      <td>201712.0</td>\n",
       "      <td>0.840000</td>\n",
       "      <td>41.493325</td>\n",
       "      <td>48.346150</td>\n",
       "      <td>6.000000</td>\n",
       "      <td>6.000000</td>\n",
       "      <td>46.055625</td>\n",
       "      <td>6.000000</td>\n",
       "      <td>0.000000</td>\n",
       "    </tr>\n",
       "    <tr>\n",
       "      <th>50%</th>\n",
       "      <td>7.393906e+08</td>\n",
       "      <td>201712.0</td>\n",
       "      <td>1.420000</td>\n",
       "      <td>50.732170</td>\n",
       "      <td>57.216410</td>\n",
       "      <td>9.000000</td>\n",
       "      <td>7.000000</td>\n",
       "      <td>53.685815</td>\n",
       "      <td>8.000000</td>\n",
       "      <td>0.000000</td>\n",
       "    </tr>\n",
       "    <tr>\n",
       "      <th>75%</th>\n",
       "      <td>8.188123e+08</td>\n",
       "      <td>201712.0</td>\n",
       "      <td>2.280000</td>\n",
       "      <td>59.611787</td>\n",
       "      <td>65.021595</td>\n",
       "      <td>11.000000</td>\n",
       "      <td>9.000000</td>\n",
       "      <td>60.946142</td>\n",
       "      <td>10.000000</td>\n",
       "      <td>0.000000</td>\n",
       "    </tr>\n",
       "    <tr>\n",
       "      <th>max</th>\n",
       "      <td>8.750245e+08</td>\n",
       "      <td>201712.0</td>\n",
       "      <td>100.000000</td>\n",
       "      <td>98.000260</td>\n",
       "      <td>98.866710</td>\n",
       "      <td>20.000000</td>\n",
       "      <td>20.000000</td>\n",
       "      <td>100.000000</td>\n",
       "      <td>23.000000</td>\n",
       "      <td>1.000000</td>\n",
       "    </tr>\n",
       "  </tbody>\n",
       "</table>\n",
       "</div>"
      ],
      "text/plain": [
       "          ClientNum    yyyymm  bankrupcytrate  finance_score  nonfin_score  \\\n",
       "count  5.051600e+04   50516.0    50516.000000   50516.000000  50516.000000   \n",
       "mean   7.005465e+08  201712.0        2.913036      50.201195     55.936316   \n",
       "std    1.341582e+08       0.0        5.373573      14.805311     14.091928   \n",
       "min    4.000000e+08  201712.0        0.030000       0.000000      0.000000   \n",
       "25%    6.047907e+08  201712.0        0.840000      41.493325     48.346150   \n",
       "50%    7.393906e+08  201712.0        1.420000      50.732170     57.216410   \n",
       "75%    8.188123e+08  201712.0        2.280000      59.611787     65.021595   \n",
       "max    8.750245e+08  201712.0      100.000000      98.000260     98.866710   \n",
       "\n",
       "       finance_grade  nonfin_grade  final_credit_score  final_credit_grade  \\\n",
       "count   49891.000000  49891.000000        50516.000000        50516.000000   \n",
       "mean        9.134754      7.755246           53.128512            8.387501   \n",
       "std         3.801960      3.236952           12.258762            3.324079   \n",
       "min         1.000000      1.000000            0.000000            1.000000   \n",
       "25%         6.000000      6.000000           46.055625            6.000000   \n",
       "50%         9.000000      7.000000           53.685815            8.000000   \n",
       "75%        11.000000      9.000000           60.946142           10.000000   \n",
       "max        20.000000     20.000000          100.000000           23.000000   \n",
       "\n",
       "       class_result  \n",
       "count  50516.000000  \n",
       "mean       0.020251  \n",
       "std        0.140859  \n",
       "min        0.000000  \n",
       "25%        0.000000  \n",
       "50%        0.000000  \n",
       "75%        0.000000  \n",
       "max        1.000000  "
      ]
     },
     "execution_count": 7,
     "metadata": {},
     "output_type": "execute_result"
    }
   ],
   "source": [
    "df.describe()"
   ]
  },
  {
   "cell_type": "code",
   "execution_count": 8,
   "metadata": {},
   "outputs": [
    {
     "name": "stdout",
     "output_type": "stream",
     "text": [
      "<class 'pandas.core.frame.DataFrame'>\n",
      "RangeIndex: 50516 entries, 0 to 50515\n",
      "Data columns (total 10 columns):\n",
      "ClientNum             50516 non-null int64\n",
      "yyyymm                50516 non-null int64\n",
      "bankrupcytrate        50516 non-null float64\n",
      "finance_score         50516 non-null float64\n",
      "nonfin_score          50516 non-null float64\n",
      "finance_grade         49891 non-null float64\n",
      "nonfin_grade          49891 non-null float64\n",
      "final_credit_score    50516 non-null float64\n",
      "final_credit_grade    50516 non-null int64\n",
      "class_result          50516 non-null int64\n",
      "dtypes: float64(6), int64(4)\n",
      "memory usage: 3.9 MB\n"
     ]
    }
   ],
   "source": [
    "df.info()"
   ]
  },
  {
   "cell_type": "code",
   "execution_count": 9,
   "metadata": {
    "collapsed": true
   },
   "outputs": [],
   "source": [
    "# Null 값은 0으로 치환\n",
    "df = df.fillna(0)"
   ]
  },
  {
   "cell_type": "code",
   "execution_count": 10,
   "metadata": {},
   "outputs": [
    {
     "data": {
      "text/html": [
       "<div>\n",
       "<style scoped>\n",
       "    .dataframe tbody tr th:only-of-type {\n",
       "        vertical-align: middle;\n",
       "    }\n",
       "\n",
       "    .dataframe tbody tr th {\n",
       "        vertical-align: top;\n",
       "    }\n",
       "\n",
       "    .dataframe thead th {\n",
       "        text-align: right;\n",
       "    }\n",
       "</style>\n",
       "<table border=\"1\" class=\"dataframe\">\n",
       "  <thead>\n",
       "    <tr style=\"text-align: right;\">\n",
       "      <th></th>\n",
       "      <th>ClientNum</th>\n",
       "      <th>yyyymm</th>\n",
       "      <th>bankrupcytrate</th>\n",
       "      <th>finance_score</th>\n",
       "      <th>nonfin_score</th>\n",
       "      <th>finance_grade</th>\n",
       "      <th>nonfin_grade</th>\n",
       "      <th>final_credit_score</th>\n",
       "      <th>final_credit_grade</th>\n",
       "      <th>class_result</th>\n",
       "    </tr>\n",
       "  </thead>\n",
       "  <tbody>\n",
       "    <tr>\n",
       "      <th>count</th>\n",
       "      <td>5.051600e+04</td>\n",
       "      <td>50516.0</td>\n",
       "      <td>50516.000000</td>\n",
       "      <td>50516.000000</td>\n",
       "      <td>50516.000000</td>\n",
       "      <td>50516.000000</td>\n",
       "      <td>50516.000000</td>\n",
       "      <td>50516.000000</td>\n",
       "      <td>50516.000000</td>\n",
       "      <td>50516.000000</td>\n",
       "    </tr>\n",
       "    <tr>\n",
       "      <th>mean</th>\n",
       "      <td>7.005465e+08</td>\n",
       "      <td>201712.0</td>\n",
       "      <td>2.913036</td>\n",
       "      <td>50.201195</td>\n",
       "      <td>55.936316</td>\n",
       "      <td>9.021736</td>\n",
       "      <td>7.659296</td>\n",
       "      <td>53.128512</td>\n",
       "      <td>8.387501</td>\n",
       "      <td>0.020251</td>\n",
       "    </tr>\n",
       "    <tr>\n",
       "      <th>std</th>\n",
       "      <td>1.341582e+08</td>\n",
       "      <td>0.0</td>\n",
       "      <td>5.373573</td>\n",
       "      <td>14.805311</td>\n",
       "      <td>14.091928</td>\n",
       "      <td>3.910971</td>\n",
       "      <td>3.329136</td>\n",
       "      <td>12.258762</td>\n",
       "      <td>3.324079</td>\n",
       "      <td>0.140859</td>\n",
       "    </tr>\n",
       "    <tr>\n",
       "      <th>min</th>\n",
       "      <td>4.000000e+08</td>\n",
       "      <td>201712.0</td>\n",
       "      <td>0.030000</td>\n",
       "      <td>0.000000</td>\n",
       "      <td>0.000000</td>\n",
       "      <td>0.000000</td>\n",
       "      <td>0.000000</td>\n",
       "      <td>0.000000</td>\n",
       "      <td>1.000000</td>\n",
       "      <td>0.000000</td>\n",
       "    </tr>\n",
       "    <tr>\n",
       "      <th>25%</th>\n",
       "      <td>6.047907e+08</td>\n",
       "      <td>201712.0</td>\n",
       "      <td>0.840000</td>\n",
       "      <td>41.493325</td>\n",
       "      <td>48.346150</td>\n",
       "      <td>6.000000</td>\n",
       "      <td>6.000000</td>\n",
       "      <td>46.055625</td>\n",
       "      <td>6.000000</td>\n",
       "      <td>0.000000</td>\n",
       "    </tr>\n",
       "    <tr>\n",
       "      <th>50%</th>\n",
       "      <td>7.393906e+08</td>\n",
       "      <td>201712.0</td>\n",
       "      <td>1.420000</td>\n",
       "      <td>50.732170</td>\n",
       "      <td>57.216410</td>\n",
       "      <td>8.000000</td>\n",
       "      <td>7.000000</td>\n",
       "      <td>53.685815</td>\n",
       "      <td>8.000000</td>\n",
       "      <td>0.000000</td>\n",
       "    </tr>\n",
       "    <tr>\n",
       "      <th>75%</th>\n",
       "      <td>8.188123e+08</td>\n",
       "      <td>201712.0</td>\n",
       "      <td>2.280000</td>\n",
       "      <td>59.611787</td>\n",
       "      <td>65.021595</td>\n",
       "      <td>11.000000</td>\n",
       "      <td>9.000000</td>\n",
       "      <td>60.946142</td>\n",
       "      <td>10.000000</td>\n",
       "      <td>0.000000</td>\n",
       "    </tr>\n",
       "    <tr>\n",
       "      <th>max</th>\n",
       "      <td>8.750245e+08</td>\n",
       "      <td>201712.0</td>\n",
       "      <td>100.000000</td>\n",
       "      <td>98.000260</td>\n",
       "      <td>98.866710</td>\n",
       "      <td>20.000000</td>\n",
       "      <td>20.000000</td>\n",
       "      <td>100.000000</td>\n",
       "      <td>23.000000</td>\n",
       "      <td>1.000000</td>\n",
       "    </tr>\n",
       "  </tbody>\n",
       "</table>\n",
       "</div>"
      ],
      "text/plain": [
       "          ClientNum    yyyymm  bankrupcytrate  finance_score  nonfin_score  \\\n",
       "count  5.051600e+04   50516.0    50516.000000   50516.000000  50516.000000   \n",
       "mean   7.005465e+08  201712.0        2.913036      50.201195     55.936316   \n",
       "std    1.341582e+08       0.0        5.373573      14.805311     14.091928   \n",
       "min    4.000000e+08  201712.0        0.030000       0.000000      0.000000   \n",
       "25%    6.047907e+08  201712.0        0.840000      41.493325     48.346150   \n",
       "50%    7.393906e+08  201712.0        1.420000      50.732170     57.216410   \n",
       "75%    8.188123e+08  201712.0        2.280000      59.611787     65.021595   \n",
       "max    8.750245e+08  201712.0      100.000000      98.000260     98.866710   \n",
       "\n",
       "       finance_grade  nonfin_grade  final_credit_score  final_credit_grade  \\\n",
       "count   50516.000000  50516.000000        50516.000000        50516.000000   \n",
       "mean        9.021736      7.659296           53.128512            8.387501   \n",
       "std         3.910971      3.329136           12.258762            3.324079   \n",
       "min         0.000000      0.000000            0.000000            1.000000   \n",
       "25%         6.000000      6.000000           46.055625            6.000000   \n",
       "50%         8.000000      7.000000           53.685815            8.000000   \n",
       "75%        11.000000      9.000000           60.946142           10.000000   \n",
       "max        20.000000     20.000000          100.000000           23.000000   \n",
       "\n",
       "       class_result  \n",
       "count  50516.000000  \n",
       "mean       0.020251  \n",
       "std        0.140859  \n",
       "min        0.000000  \n",
       "25%        0.000000  \n",
       "50%        0.000000  \n",
       "75%        0.000000  \n",
       "max        1.000000  "
      ]
     },
     "execution_count": 10,
     "metadata": {},
     "output_type": "execute_result"
    }
   ],
   "source": [
    "df.describe()"
   ]
  },
  {
   "cell_type": "code",
   "execution_count": 11,
   "metadata": {},
   "outputs": [
    {
     "data": {
      "image/png": "[encoded data removed]",
      "text/plain": [
       "<matplotlib.figure.Figure at 0x22a5cfffeb8>"
      ]
     },
     "metadata": {},
     "output_type": "display_data"
    }
   ],
   "source": [
    "f, ax = plt.subplots(1,2, figsize=(16,8))\n",
    "\n",
    "colors = [\"#FA5858\", \"#64FE2E\"]\n",
    "labels =\"Bankruptcy Yes\", \"Bankruptcy No\"\n",
    "\n",
    "plt.suptitle('Information on Company Bankruptcy Rate', fontsize=20)\n",
    "\n",
    "df[\"class_result\"].value_counts().plot.pie(explode=[0,0.25], autopct='%1.2f%%', ax=ax[0], shadow=True, colors=colors, \n",
    "                                             labels=labels, fontsize=12, startangle=25)\n",
    "\n",
    "plt.show()"
   ]
  },
  {
   "cell_type": "code",
   "execution_count": 12,
   "metadata": {},
   "outputs": [
    {
     "data": {
      "image/png": "[encoded data removed]",
      "text/plain": [
       "<matplotlib.figure.Figure at 0x22a5cfff940>"
      ]
     },
     "metadata": {},
     "output_type": "display_data"
    }
   ],
   "source": [
    "# Let's see how the numeric data is distributed.\n",
    "import matplotlib.pyplot as plt\n",
    "plt.style.use('seaborn-whitegrid')\n",
    "\n",
    "df.hist(bins=20, figsize=(14,10), color='#E14906')\n",
    "plt.show()"
   ]
  },
  {
   "cell_type": "code",
   "execution_count": 13,
   "metadata": {
    "collapsed": true
   },
   "outputs": [],
   "source": [
    "# 의미 없는 변수인 client number와 결산년월(yyyymm)은 삭제한다\n",
    "\n",
    "df.drop(['ClientNum', 'yyyymm'], axis=1, inplace=True)"
   ]
  },
  {
   "cell_type": "code",
   "execution_count": 14,
   "metadata": {},
   "outputs": [
    {
     "data": {
      "text/html": [
       "<div>\n",
       "<style scoped>\n",
       "    .dataframe tbody tr th:only-of-type {\n",
       "        vertical-align: middle;\n",
       "    }\n",
       "\n",
       "    .dataframe tbody tr th {\n",
       "        vertical-align: top;\n",
       "    }\n",
       "\n",
       "    .dataframe thead th {\n",
       "        text-align: right;\n",
       "    }\n",
       "</style>\n",
       "<table border=\"1\" class=\"dataframe\">\n",
       "  <thead>\n",
       "    <tr style=\"text-align: right;\">\n",
       "      <th></th>\n",
       "      <th>bankrupcytrate</th>\n",
       "      <th>finance_score</th>\n",
       "      <th>nonfin_score</th>\n",
       "      <th>finance_grade</th>\n",
       "      <th>nonfin_grade</th>\n",
       "      <th>final_credit_score</th>\n",
       "      <th>final_credit_grade</th>\n",
       "      <th>class_result</th>\n",
       "    </tr>\n",
       "  </thead>\n",
       "  <tbody>\n",
       "    <tr>\n",
       "      <th>0</th>\n",
       "      <td>100.0</td>\n",
       "      <td>20.76517</td>\n",
       "      <td>0.99946</td>\n",
       "      <td>19.0</td>\n",
       "      <td>20.0</td>\n",
       "      <td>0.0</td>\n",
       "      <td>23</td>\n",
       "      <td>1</td>\n",
       "    </tr>\n",
       "    <tr>\n",
       "      <th>1</th>\n",
       "      <td>100.0</td>\n",
       "      <td>20.58430</td>\n",
       "      <td>14.68817</td>\n",
       "      <td>17.0</td>\n",
       "      <td>19.0</td>\n",
       "      <td>0.0</td>\n",
       "      <td>23</td>\n",
       "      <td>1</td>\n",
       "    </tr>\n",
       "    <tr>\n",
       "      <th>2</th>\n",
       "      <td>100.0</td>\n",
       "      <td>28.96412</td>\n",
       "      <td>7.51639</td>\n",
       "      <td>17.0</td>\n",
       "      <td>20.0</td>\n",
       "      <td>0.0</td>\n",
       "      <td>22</td>\n",
       "      <td>1</td>\n",
       "    </tr>\n",
       "    <tr>\n",
       "      <th>3</th>\n",
       "      <td>100.0</td>\n",
       "      <td>31.57935</td>\n",
       "      <td>16.66230</td>\n",
       "      <td>14.0</td>\n",
       "      <td>19.0</td>\n",
       "      <td>0.0</td>\n",
       "      <td>22</td>\n",
       "      <td>1</td>\n",
       "    </tr>\n",
       "    <tr>\n",
       "      <th>4</th>\n",
       "      <td>100.0</td>\n",
       "      <td>18.33327</td>\n",
       "      <td>3.68292</td>\n",
       "      <td>19.0</td>\n",
       "      <td>20.0</td>\n",
       "      <td>0.0</td>\n",
       "      <td>23</td>\n",
       "      <td>1</td>\n",
       "    </tr>\n",
       "  </tbody>\n",
       "</table>\n",
       "</div>"
      ],
      "text/plain": [
       "   bankrupcytrate  finance_score  nonfin_score  finance_grade  nonfin_grade  \\\n",
       "0           100.0       20.76517       0.99946           19.0          20.0   \n",
       "1           100.0       20.58430      14.68817           17.0          19.0   \n",
       "2           100.0       28.96412       7.51639           17.0          20.0   \n",
       "3           100.0       31.57935      16.66230           14.0          19.0   \n",
       "4           100.0       18.33327       3.68292           19.0          20.0   \n",
       "\n",
       "   final_credit_score  final_credit_grade  class_result  \n",
       "0                 0.0                  23             1  \n",
       "1                 0.0                  23             1  \n",
       "2                 0.0                  22             1  \n",
       "3                 0.0                  22             1  \n",
       "4                 0.0                  23             1  "
      ]
     },
     "execution_count": 14,
     "metadata": {},
     "output_type": "execute_result"
    }
   ],
   "source": [
    "\n",
    "df.head()"
   ]
  },
  {
   "cell_type": "code",
   "execution_count": 15,
   "metadata": {},
   "outputs": [
    {
     "data": {
      "image/png": "[encoded data removed]",
      "text/plain": [
       "<matplotlib.figure.Figure at 0x22a57ce35f8>"
      ]
     },
     "metadata": {},
     "output_type": "display_data"
    }
   ],
   "source": [
    "# 전체 변수 correlation 분석\n",
    "corr = df.corr()\n",
    "\n",
    "sns.heatmap(corr,annot=True,cmap='RdYlGn',linewidths=0.2,annot_kws={'size':20})\n",
    "fig=plt.gcf()\n",
    "fig.set_size_inches(18,15)\n",
    "plt.xticks(fontsize=14)\n",
    "plt.yticks(fontsize=14)\n",
    "plt.show()"
   ]
  },
  {
   "cell_type": "code",
   "execution_count": 23,
   "metadata": {},
   "outputs": [
    {
     "name": "stderr",
     "output_type": "stream",
     "text": [
      "C:\\Users\\User\\Anaconda3\\lib\\site-packages\\sklearn\\utils\\validation.py:475: DataConversionWarning:\n",
      "\n",
      "Data with input dtype int64 was converted to float64 by MinMaxScaler.\n",
      "\n"
     ]
    }
   ],
   "source": [
    "from sklearn.preprocessing import MinMaxScaler\n",
    "\n",
    "nc = MinMaxScaler()\n",
    "\n",
    "## 모델 트레이닝 및 테스트를 위해 숫자 정보를 normalization 처리한다.\n",
    "sv_bankrupcytrate = nc.fit_transform(df['bankrupcytrate'].values.reshape(-1,1))\n",
    "sv_finance_score = nc.fit_transform(df['finance_score'].values.reshape(-1,1))\n",
    "sv_nonfin_score = nc.fit_transform(df['nonfin_score'].values.reshape(-1,1))\n",
    "sv_finance_grade = nc.fit_transform(df['finance_grade'].values.reshape(-1,1))\n",
    "sv_nonfin_grade = nc.fit_transform(df['nonfin_grade'].values.reshape(-1,1))\n",
    "sv_final_credit_score = nc.fit_transform(df['final_credit_score'].values.reshape(-1,1))\n",
    "sv_final_credit_grade = nc.fit_transform(df['final_credit_grade'].values.reshape(-1,1))"
   ]
  },
  {
   "cell_type": "code",
   "execution_count": 24,
   "metadata": {
    "scrolled": true
   },
   "outputs": [
    {
     "name": "stdout",
     "output_type": "stream",
     "text": [
      "[[ 1.]\n",
      " [ 1.]\n",
      " [ 1.]\n",
      " ..., \n",
      " [ 0.]\n",
      " [ 0.]\n",
      " [ 0.]] [[ 0.21188893]\n",
      " [ 0.21004332]\n",
      " [ 0.29555146]\n",
      " ..., \n",
      " [ 0.88461959]\n",
      " [ 0.78266323]\n",
      " [ 0.        ]] [[ 0.01010917]\n",
      " [ 0.14856538]\n",
      " [ 0.07602549]\n",
      " ..., \n",
      " [ 0.89126016]\n",
      " [ 0.65195524]\n",
      " [ 0.        ]] [[ 0.95]\n",
      " [ 0.85]\n",
      " [ 0.85]\n",
      " ..., \n",
      " [ 0.05]\n",
      " [ 0.05]\n",
      " [ 0.  ]] [[ 1.  ]\n",
      " [ 0.95]\n",
      " [ 1.  ]\n",
      " ..., \n",
      " [ 0.05]\n",
      " [ 0.15]\n",
      " [ 0.  ]] [[ 0.       ]\n",
      " [ 0.       ]\n",
      " [ 0.       ]\n",
      " ..., \n",
      " [ 0.870863 ]\n",
      " [ 0.7226407]\n",
      " [ 0.938    ]] [[ 1.        ]\n",
      " [ 1.        ]\n",
      " [ 0.95454545]\n",
      " ..., \n",
      " [ 0.        ]\n",
      " [ 0.        ]\n",
      " [ 0.        ]]\n"
     ]
    }
   ],
   "source": [
    "print(sv_bankrupcytrate,sv_finance_score,sv_nonfin_score,sv_finance_grade,sv_nonfin_grade,sv_final_credit_score,sv_final_credit_grade)"
   ]
  },
  {
   "cell_type": "code",
   "execution_count": 26,
   "metadata": {},
   "outputs": [],
   "source": [
    "df['bankrupcytrate'] = sv_bankrupcytrate\n",
    "df['finance_score'] = sv_finance_score\n",
    "df['nonfin_score'] = sv_nonfin_score\n",
    "df['finance_grade'] = sv_finance_grade\n",
    "df['nonfin_grade'] = sv_nonfin_grade\n",
    "df['final_credit_score'] = sv_final_credit_score\n",
    "df['final_credit_grade'] = sv_final_credit_grade"
   ]
  },
  {
   "cell_type": "code",
   "execution_count": 27,
   "metadata": {},
   "outputs": [
    {
     "data": {
      "text/html": [
       "<div>\n",
       "<style scoped>\n",
       "    .dataframe tbody tr th:only-of-type {\n",
       "        vertical-align: middle;\n",
       "    }\n",
       "\n",
       "    .dataframe tbody tr th {\n",
       "        vertical-align: top;\n",
       "    }\n",
       "\n",
       "    .dataframe thead th {\n",
       "        text-align: right;\n",
       "    }\n",
       "</style>\n",
       "<table border=\"1\" class=\"dataframe\">\n",
       "  <thead>\n",
       "    <tr style=\"text-align: right;\">\n",
       "      <th></th>\n",
       "      <th>bankrupcytrate</th>\n",
       "      <th>finance_score</th>\n",
       "      <th>nonfin_score</th>\n",
       "      <th>finance_grade</th>\n",
       "      <th>nonfin_grade</th>\n",
       "      <th>final_credit_score</th>\n",
       "      <th>final_credit_grade</th>\n",
       "      <th>class_result</th>\n",
       "    </tr>\n",
       "  </thead>\n",
       "  <tbody>\n",
       "    <tr>\n",
       "      <th>0</th>\n",
       "      <td>1.0</td>\n",
       "      <td>0.211889</td>\n",
       "      <td>0.010109</td>\n",
       "      <td>0.95</td>\n",
       "      <td>1.00</td>\n",
       "      <td>0.0</td>\n",
       "      <td>1.000000</td>\n",
       "      <td>1</td>\n",
       "    </tr>\n",
       "    <tr>\n",
       "      <th>1</th>\n",
       "      <td>1.0</td>\n",
       "      <td>0.210043</td>\n",
       "      <td>0.148565</td>\n",
       "      <td>0.85</td>\n",
       "      <td>0.95</td>\n",
       "      <td>0.0</td>\n",
       "      <td>1.000000</td>\n",
       "      <td>1</td>\n",
       "    </tr>\n",
       "    <tr>\n",
       "      <th>2</th>\n",
       "      <td>1.0</td>\n",
       "      <td>0.295551</td>\n",
       "      <td>0.076025</td>\n",
       "      <td>0.85</td>\n",
       "      <td>1.00</td>\n",
       "      <td>0.0</td>\n",
       "      <td>0.954545</td>\n",
       "      <td>1</td>\n",
       "    </tr>\n",
       "    <tr>\n",
       "      <th>3</th>\n",
       "      <td>1.0</td>\n",
       "      <td>0.322237</td>\n",
       "      <td>0.168533</td>\n",
       "      <td>0.70</td>\n",
       "      <td>0.95</td>\n",
       "      <td>0.0</td>\n",
       "      <td>0.954545</td>\n",
       "      <td>1</td>\n",
       "    </tr>\n",
       "    <tr>\n",
       "      <th>4</th>\n",
       "      <td>1.0</td>\n",
       "      <td>0.187074</td>\n",
       "      <td>0.037251</td>\n",
       "      <td>0.95</td>\n",
       "      <td>1.00</td>\n",
       "      <td>0.0</td>\n",
       "      <td>1.000000</td>\n",
       "      <td>1</td>\n",
       "    </tr>\n",
       "  </tbody>\n",
       "</table>\n",
       "</div>"
      ],
      "text/plain": [
       "   bankrupcytrate  finance_score  nonfin_score  finance_grade  nonfin_grade  \\\n",
       "0             1.0       0.211889      0.010109           0.95          1.00   \n",
       "1             1.0       0.210043      0.148565           0.85          0.95   \n",
       "2             1.0       0.295551      0.076025           0.85          1.00   \n",
       "3             1.0       0.322237      0.168533           0.70          0.95   \n",
       "4             1.0       0.187074      0.037251           0.95          1.00   \n",
       "\n",
       "   final_credit_score  final_credit_grade  class_result  \n",
       "0                 0.0            1.000000             1  \n",
       "1                 0.0            1.000000             1  \n",
       "2                 0.0            0.954545             1  \n",
       "3                 0.0            0.954545             1  \n",
       "4                 0.0            1.000000             1  "
      ]
     },
     "execution_count": 27,
     "metadata": {},
     "output_type": "execute_result"
    }
   ],
   "source": [
    "df.head()"
   ]
  },
  {
   "cell_type": "code",
   "execution_count": 28,
   "metadata": {
    "collapsed": true
   },
   "outputs": [],
   "source": [
    "\n",
    "from sklearn.model_selection import train_test_split\n",
    "X_train, X_test, y_train, y_test = train_test_split(df.iloc[:,:-1], df.iloc[:,-1], test_size=0.3, random_state=42)\n",
    "from sklearn.dummy import DummyClassifier\n",
    "## 별도의 알고리즘 적용하지 않았을 경우의 성능을 먼저 예측한다.\n",
    "du = DummyClassifier()"
   ]
  },
  {
   "cell_type": "code",
   "execution_count": 30,
   "metadata": {},
   "outputs": [
    {
     "data": {
      "text/plain": [
       "GridSearchCV(cv=None, error_score='raise',\n",
       "       estimator=DummyClassifier(constant=None, random_state=None, strategy='stratified'),\n",
       "       fit_params=None, iid=True, n_jobs=1,\n",
       "       param_grid={'strategy': ['stratified', 'most_frequent', 'prior', 'uniform']},\n",
       "       pre_dispatch='2*n_jobs', refit=True, return_train_score='warn',\n",
       "       scoring=None, verbose=0)"
      ]
     },
     "execution_count": 30,
     "metadata": {},
     "output_type": "execute_result"
    }
   ],
   "source": [
    "from sklearn.model_selection import GridSearchCV\n",
    "gcv = GridSearchCV(DummyClassifier(),param_grid={'strategy':['stratified','most_frequent','prior','uniform']})\n",
    "gcv.fit(X_train,y_train)"
   ]
  },
  {
   "cell_type": "code",
   "execution_count": 32,
   "metadata": {},
   "outputs": [
    {
     "data": {
      "text/plain": [
       "0.98023245948926785"
      ]
     },
     "execution_count": 32,
     "metadata": {},
     "output_type": "execute_result"
    }
   ],
   "source": [
    "# 성능의 기준값은 98.02로 잡는다.\n",
    "gcv.best_score_"
   ]
  },
  {
   "cell_type": "code",
   "execution_count": 33,
   "metadata": {
    "collapsed": true
   },
   "outputs": [],
   "source": [
    "from sklearn.ensemble import RandomForestClassifier\n",
    "Rforest = RandomForestClassifier(n_estimators=5, random_state=42)\n",
    "par = {'n_estimators': [50, 100, 150, 10],'random_state':[100,200,300],'max_depth':[x for x in range(3,10)]}\n",
    "gcv = GridSearchCV(estimator=Rforest, param_grid=par, cv=3, n_jobs=-1)"
   ]
  },
  {
   "cell_type": "code",
   "execution_count": 34,
   "metadata": {},
   "outputs": [
    {
     "data": {
      "text/plain": [
       "GridSearchCV(cv=3, error_score='raise',\n",
       "       estimator=RandomForestClassifier(bootstrap=True, class_weight=None, criterion='gini',\n",
       "            max_depth=None, max_features='auto', max_leaf_nodes=None,\n",
       "            min_impurity_decrease=0.0, min_impurity_split=None,\n",
       "            min_samples_leaf=1, min_samples_split=2,\n",
       "            min_weight_fraction_leaf=0.0, n_estimators=5, n_jobs=1,\n",
       "            oob_score=False, random_state=42, verbose=0, warm_start=False),\n",
       "       fit_params=None, iid=True, n_jobs=-1,\n",
       "       param_grid={'n_estimators': [50, 100, 150, 10], 'random_state': [100, 200, 300], 'max_depth': [3, 4, 5, 6, 7, 8, 9]},\n",
       "       pre_dispatch='2*n_jobs', refit=True, return_train_score='warn',\n",
       "       scoring=None, verbose=0)"
      ]
     },
     "execution_count": 34,
     "metadata": {},
     "output_type": "execute_result"
    }
   ],
   "source": [
    "gcv.fit(X_train, y_train)"
   ]
  },
  {
   "cell_type": "code",
   "execution_count": 35,
   "metadata": {},
   "outputs": [
    {
     "data": {
      "text/plain": [
       "{'max_depth': 3, 'n_estimators': 50, 'random_state': 100}"
      ]
     },
     "execution_count": 35,
     "metadata": {},
     "output_type": "execute_result"
    }
   ],
   "source": [
    "gcv.best_params_"
   ]
  },
  {
   "cell_type": "code",
   "execution_count": 36,
   "metadata": {},
   "outputs": [
    {
     "data": {
      "text/plain": [
       "RandomForestClassifier(bootstrap=True, class_weight=None, criterion='gini',\n",
       "            max_depth=3, max_features='auto', max_leaf_nodes=None,\n",
       "            min_impurity_decrease=0.0, min_impurity_split=None,\n",
       "            min_samples_leaf=1, min_samples_split=2,\n",
       "            min_weight_fraction_leaf=0.0, n_estimators=50, n_jobs=1,\n",
       "            oob_score=False, random_state=100, verbose=0, warm_start=False)"
      ]
     },
     "execution_count": 36,
     "metadata": {},
     "output_type": "execute_result"
    }
   ],
   "source": [
    "Rforest = RandomForestClassifier(n_estimators=50, random_state=100, max_depth=3)\n",
    "Rforest.fit(X_train, y_train)"
   ]
  },
  {
   "cell_type": "code",
   "execution_count": 37,
   "metadata": {},
   "outputs": [
    {
     "data": {
      "text/plain": [
       "1.0"
      ]
     },
     "execution_count": 37,
     "metadata": {},
     "output_type": "execute_result"
    }
   ],
   "source": [
    "# Overfitting이 되어버렸음\n",
    "Rforest.score(X_train, y_train)"
   ]
  },
  {
   "cell_type": "code",
   "execution_count": 38,
   "metadata": {
    "collapsed": true
   },
   "outputs": [],
   "source": [
    "## 주요 성능 측정값을 구해보자\n",
    "from sklearn.metrics import classification_report\n",
    "a = classification_report(y_test,Rforest.predict(X_test),digits=7)"
   ]
  },
  {
   "cell_type": "code",
   "execution_count": 39,
   "metadata": {},
   "outputs": [
    {
     "name": "stdout",
     "output_type": "stream",
     "text": [
      "             precision    recall  f1-score   support\n",
      "\n",
      "          0  1.0000000 1.0000000 1.0000000     14831\n",
      "          1  1.0000000 1.0000000 1.0000000       324\n",
      "\n",
      "avg / total  1.0000000 1.0000000 1.0000000     15155\n",
      "\n"
     ]
    }
   ],
   "source": [
    "print(a)"
   ]
  },
  {
   "cell_type": "code",
   "execution_count": 40,
   "metadata": {},
   "outputs": [
    {
     "data": {
      "text/plain": [
       "1.0"
      ]
     },
     "execution_count": 40,
     "metadata": {},
     "output_type": "execute_result"
    }
   ],
   "source": [
    "# 상관관계가 매우 높은 feature로 인해, 트레이닝, 테스트 모두 score가 100 으로 되어 버림\n",
    "Rforest.score(X_test, y_test)"
   ]
  },
  {
   "cell_type": "code",
   "execution_count": 42,
   "metadata": {
    "collapsed": true
   },
   "outputs": [],
   "source": [
    "from sklearn.naive_bayes import GaussianNB \n",
    "from sklearn.tree import DecisionTreeClassifier\n",
    "from sklearn.linear_model import LogisticRegression"
   ]
  },
  {
   "cell_type": "code",
   "execution_count": 43,
   "metadata": {
    "collapsed": true
   },
   "outputs": [],
   "source": [
    "gn = GaussianNB(priors=None)"
   ]
  },
  {
   "cell_type": "code",
   "execution_count": 44,
   "metadata": {},
   "outputs": [
    {
     "data": {
      "text/plain": [
       "GaussianNB(priors=None)"
      ]
     },
     "execution_count": 44,
     "metadata": {},
     "output_type": "execute_result"
    }
   ],
   "source": [
    "gn.fit(X_train, y_train)"
   ]
  },
  {
   "cell_type": "code",
   "execution_count": 45,
   "metadata": {},
   "outputs": [
    {
     "data": {
      "text/plain": [
       "0.94341223381691697"
      ]
     },
     "execution_count": 45,
     "metadata": {},
     "output_type": "execute_result"
    }
   ],
   "source": [
    "gn.score(X_train, y_train)"
   ]
  },
  {
   "cell_type": "code",
   "execution_count": 49,
   "metadata": {},
   "outputs": [
    {
     "data": {
      "text/plain": [
       "0.94133949191685917"
      ]
     },
     "execution_count": 49,
     "metadata": {},
     "output_type": "execute_result"
    }
   ],
   "source": [
    "gn.score(X_test, y_test)"
   ]
  },
  {
   "cell_type": "code",
   "execution_count": 50,
   "metadata": {
    "collapsed": true
   },
   "outputs": [],
   "source": [
    "a = classification_report(y_test,gn.predict(X_test),digits=7)"
   ]
  },
  {
   "cell_type": "code",
   "execution_count": 51,
   "metadata": {},
   "outputs": [
    {
     "name": "stdout",
     "output_type": "stream",
     "text": [
      "             precision    recall  f1-score   support\n",
      "\n",
      "          0  1.0000000 0.9400580 0.9691030     14831\n",
      "          1  0.2671063 1.0000000 0.4216005       324\n",
      "\n",
      "avg / total  0.9843314 0.9413395 0.9573979     15155\n",
      "\n"
     ]
    }
   ],
   "source": [
    "print(a)"
   ]
  },
  {
   "cell_type": "code",
   "execution_count": 52,
   "metadata": {
    "collapsed": true
   },
   "outputs": [],
   "source": [
    "dt = DecisionTreeClassifier()"
   ]
  },
  {
   "cell_type": "code",
   "execution_count": 55,
   "metadata": {},
   "outputs": [
    {
     "data": {
      "text/plain": [
       "1.0"
      ]
     },
     "execution_count": 55,
     "metadata": {},
     "output_type": "execute_result"
    }
   ],
   "source": [
    "dt.fit(X_train, y_train)\n",
    "dt.score(X_train, y_train)"
   ]
  },
  {
   "cell_type": "code",
   "execution_count": 56,
   "metadata": {},
   "outputs": [
    {
     "data": {
      "text/plain": [
       "1.0"
      ]
     },
     "execution_count": 56,
     "metadata": {},
     "output_type": "execute_result"
    }
   ],
   "source": [
    "# DT도 overfitting\n",
    "dt.score(X_test, y_test)"
   ]
  },
  {
   "cell_type": "code",
   "execution_count": 57,
   "metadata": {
    "collapsed": true
   },
   "outputs": [],
   "source": [
    "a = classification_report(y_test,dt.predict(X_test),digits=7)"
   ]
  },
  {
   "cell_type": "code",
   "execution_count": 58,
   "metadata": {},
   "outputs": [
    {
     "name": "stdout",
     "output_type": "stream",
     "text": [
      "             precision    recall  f1-score   support\n",
      "\n",
      "          0  1.0000000 1.0000000 1.0000000     14831\n",
      "          1  1.0000000 1.0000000 1.0000000       324\n",
      "\n",
      "avg / total  1.0000000 1.0000000 1.0000000     15155\n",
      "\n"
     ]
    }
   ],
   "source": [
    "print(a)"
   ]
  },
  {
   "cell_type": "code",
   "execution_count": 59,
   "metadata": {
    "collapsed": true
   },
   "outputs": [],
   "source": [
    "lr = LogisticRegression()"
   ]
  },
  {
   "cell_type": "code",
   "execution_count": 60,
   "metadata": {},
   "outputs": [
    {
     "data": {
      "text/plain": [
       "0.99833149515002406"
      ]
     },
     "execution_count": 60,
     "metadata": {},
     "output_type": "execute_result"
    }
   ],
   "source": [
    "lr.fit(X_train, y_train)\n",
    "lr.score(X_train, y_train)"
   ]
  },
  {
   "cell_type": "code",
   "execution_count": 61,
   "metadata": {},
   "outputs": [
    {
     "data": {
      "text/plain": [
       "0.99795447047179153"
      ]
     },
     "execution_count": 61,
     "metadata": {},
     "output_type": "execute_result"
    }
   ],
   "source": [
    "lr.score(X_test, y_test)"
   ]
  },
  {
   "cell_type": "code",
   "execution_count": 64,
   "metadata": {
    "collapsed": true
   },
   "outputs": [],
   "source": [
    "a = classification_report(y_test,lr.predict(X_test),digits=7)"
   ]
  },
  {
   "cell_type": "code",
   "execution_count": 65,
   "metadata": {},
   "outputs": [
    {
     "name": "stdout",
     "output_type": "stream",
     "text": [
      "             precision    recall  f1-score   support\n",
      "\n",
      "          0  0.9979141 1.0000000 0.9989560     14831\n",
      "          1  1.0000000 0.9043210 0.9497569       324\n",
      "\n",
      "avg / total  0.9979587 0.9979545 0.9979042     15155\n",
      "\n"
     ]
    }
   ],
   "source": [
    "print(a)"
   ]
  },
  {
   "cell_type": "code",
   "execution_count": null,
   "metadata": {
    "collapsed": true
   },
   "outputs": [],
   "source": []
  }
 ],
 "metadata": {
  "kernelspec": {
   "display_name": "Python 3",
   "language": "python",
   "name": "python3"
  },
  "language_info": {
   "codemirror_mode": {
    "name": "ipython",
    "version": 3
   },
   "file_extension": ".py",
   "mimetype": "text/x-python",
   "name": "python",
   "nbconvert_exporter": "python",
   "pygments_lexer": "ipython3",
   "version": "3.6.3"
  }
 },
 "nbformat": 4,
 "nbformat_minor": 2
}
